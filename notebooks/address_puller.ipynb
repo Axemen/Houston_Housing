{
 "cells": [
  {
   "cell_type": "code",
   "execution_count": 79,
   "metadata": {},
   "outputs": [],
   "source": [
    "import http.client \n",
    "import json\n",
    "from config import attom_key\n",
    "import pandas as pd\n",
    "\n",
    "conn = http.client.HTTPSConnection(\"search.onboard-apis.com\") \n",
    "\n",
    "headers = { \n",
    "    'accept': \"application/json\", \n",
    "    'apikey': attom_key \n",
    "} \n",
    "zip_code = 77096\n",
    "\n",
    "conn.request(\"GET\", f\"https://search.onboard-apis.com/propertyapi/v1.0.0/property/address?postalcode={zip_code}&page=2&pagesize=2000\", headers=headers) \n",
    "\n",
    "res = conn.getresponse().read().decode()\n",
    "data = json.loads(res)\n"
   ]
  },
  {
   "cell_type": "code",
   "execution_count": 69,
   "metadata": {},
   "outputs": [
    {
     "data": {
      "text/plain": [
       "{'identifier': {'obPropId': 16473653348201,\n",
       "  'fips': '48201',\n",
       "  'apn': '0936030000017',\n",
       "  'apnOrig': '936030000017',\n",
       "  'attomId': 164736533},\n",
       " 'address': {'country': 'US',\n",
       "  'countrySubd': 'TX',\n",
       "  'line1': '5743 RUTHERGLENN DR',\n",
       "  'line2': 'HOUSTON, TX 77096',\n",
       "  'locality': 'Houston',\n",
       "  'matchCode': 'ExaStr',\n",
       "  'oneLine': '5743 RUTHERGLENN DR, HOUSTON, TX 77096',\n",
       "  'postal1': '77096',\n",
       "  'postal2': '4832',\n",
       "  'postal3': 'C001'},\n",
       " 'location': {'accuracy': 'Street',\n",
       "  'elevation': 0.0,\n",
       "  'latitude': '29.672616',\n",
       "  'longitude': '-95.488425',\n",
       "  'distance': 0.0,\n",
       "  'geoid': 'CO48201, CS4891835, DB4823640, MT30001937, ND0000569262, ND0000569350, PL4835000, RS0000570824, SB0000121315, SB0000121349, SB0000121392, ZI77096'},\n",
       " 'vintage': {'lastModified': '2019-1-10', 'pubDate': '2019-1-24'}}"
      ]
     },
     "execution_count": 69,
     "metadata": {},
     "output_type": "execute_result"
    }
   ],
   "source": [
    "data['property'][1999]"
   ]
  },
  {
   "cell_type": "code",
   "execution_count": 60,
   "metadata": {},
   "outputs": [],
   "source": [
    "df = pd.DataFrame(data={\"zip\":\"\", \"address\":\"\", \"lat\":\"\", \"lng\":\"\"}, index = [i for i in range(2000)])"
   ]
  },
  {
   "cell_type": "code",
   "execution_count": 77,
   "metadata": {},
   "outputs": [],
   "source": [
    "\n",
    "\n",
    "for i in range(2000):\n",
    "    df.iat[i, 0] = data['property'][i]['address']['postal1']\n",
    "    df.iat[i, 1] = data['property'][i]['address']['oneLine']\n",
    "    df.iat[i, 2] = data['property'][i]['location']['latitude']\n",
    "    df.iat[i, 3] = data['property'][i]['location']['longitude']"
   ]
  },
  {
   "cell_type": "code",
   "execution_count": 78,
   "metadata": {},
   "outputs": [
    {
     "data": {
      "text/html": [
       "<div>\n",
       "<style scoped>\n",
       "    .dataframe tbody tr th:only-of-type {\n",
       "        vertical-align: middle;\n",
       "    }\n",
       "\n",
       "    .dataframe tbody tr th {\n",
       "        vertical-align: top;\n",
       "    }\n",
       "\n",
       "    .dataframe thead th {\n",
       "        text-align: right;\n",
       "    }\n",
       "</style>\n",
       "<table border=\"1\" class=\"dataframe\">\n",
       "  <thead>\n",
       "    <tr style=\"text-align: right;\">\n",
       "      <th></th>\n",
       "      <th>zip</th>\n",
       "      <th>address</th>\n",
       "      <th>lat</th>\n",
       "      <th>lng</th>\n",
       "    </tr>\n",
       "  </thead>\n",
       "  <tbody>\n",
       "    <tr>\n",
       "      <th>1995</th>\n",
       "      <td>77096</td>\n",
       "      <td>5755 RUTHERGLENN DR, HOUSTON, TX 77096</td>\n",
       "      <td>29.672612</td>\n",
       "      <td>-95.488821</td>\n",
       "    </tr>\n",
       "    <tr>\n",
       "      <th>1996</th>\n",
       "      <td>77096</td>\n",
       "      <td>5751 RUTHERGLENN DR, HOUSTON, TX 77096</td>\n",
       "      <td>29.672613</td>\n",
       "      <td>-95.488689</td>\n",
       "    </tr>\n",
       "    <tr>\n",
       "      <th>1997</th>\n",
       "      <td>77096</td>\n",
       "      <td>5027 DUMFRIES DR, HOUSTON, TX 77096</td>\n",
       "      <td>29.672613</td>\n",
       "      <td>-95.467428</td>\n",
       "    </tr>\n",
       "    <tr>\n",
       "      <th>1998</th>\n",
       "      <td>77096</td>\n",
       "      <td>5747 RUTHERGLENN DR, HOUSTON, TX 77096</td>\n",
       "      <td>29.672615</td>\n",
       "      <td>-95.488557</td>\n",
       "    </tr>\n",
       "    <tr>\n",
       "      <th>1999</th>\n",
       "      <td>77096</td>\n",
       "      <td>5743 RUTHERGLENN DR, HOUSTON, TX 77096</td>\n",
       "      <td>29.672616</td>\n",
       "      <td>-95.488425</td>\n",
       "    </tr>\n",
       "  </tbody>\n",
       "</table>\n",
       "</div>"
      ],
      "text/plain": [
       "        zip                                 address        lat         lng\n",
       "1995  77096  5755 RUTHERGLENN DR, HOUSTON, TX 77096  29.672612  -95.488821\n",
       "1996  77096  5751 RUTHERGLENN DR, HOUSTON, TX 77096  29.672613  -95.488689\n",
       "1997  77096     5027 DUMFRIES DR, HOUSTON, TX 77096  29.672613  -95.467428\n",
       "1998  77096  5747 RUTHERGLENN DR, HOUSTON, TX 77096  29.672615  -95.488557\n",
       "1999  77096  5743 RUTHERGLENN DR, HOUSTON, TX 77096  29.672616  -95.488425"
      ]
     },
     "execution_count": 78,
     "metadata": {},
     "output_type": "execute_result"
    }
   ],
   "source": [
    "df.tail()"
   ]
  }
 ],
 "metadata": {
  "kernelspec": {
   "display_name": "Python 3",
   "language": "python",
   "name": "python3"
  },
  "language_info": {
   "codemirror_mode": {
    "name": "ipython",
    "version": 3
   },
   "file_extension": ".py",
   "mimetype": "text/x-python",
   "name": "python",
   "nbconvert_exporter": "python",
   "pygments_lexer": "ipython3",
   "version": "3.7.0"
  }
 },
 "nbformat": 4,
 "nbformat_minor": 2
}
