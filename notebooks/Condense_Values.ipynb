{
 "cells": [
  {
   "cell_type": "code",
   "execution_count": 19,
   "metadata": {},
   "outputs": [],
   "source": [
    "import json\n",
    "import pandas as pd"
   ]
  },
  {
   "cell_type": "code",
   "execution_count": 13,
   "metadata": {},
   "outputs": [
    {
     "name": "stdout",
     "output_type": "stream",
     "text": [
      "['77004', '77003', '77006', '77005', '77008', '77007', '77009', '77012', '77011', '77014', '77013', '77016', '77015', '77018', '77017', '77020', '77019', '77022', '77021', '77024', '77023', '77026', '77025', '77028', '77027', '77030', '77029', '77032', '77031', '77034', '77033', '77036', '77035', '77038', '77037', '77040', '77039', '77042', '77041', '77044', '77043', '77045', '77048', '77047', '77050', '77049', '77051', '77054', '77053', '77056', '77055', '77058', '77057', '77060', '77059', '77062', '77061', '77064', '77063', '77066', '77065', '77068', '77067', '77070', '77069', '77072', '77071', '77074', '77073', '77076', '77075', '77078', '77077', '77080', '77079', '77082', '77081', '77084', '77083', '77086', '77085', '77088', '77087', '77090', '77089', '77092', '77091', '77094', '77093', '77096', '77095', '77098', '77099', '77336', '77339', '77338', '77345', '77346', '77357', '77373', '77375', '77377', '77379', '77389', '77388', '77396', '77401', '77429', '77433', '77447', '77450', '77449', '77484', '77493', '77503', '77502', '77505', '77504', '77506', '77521', '77520', '77530', '77532', '77536', '77546', '77547', '77562', '77571', '77586', '77587', '77598']\n",
      "131\n"
     ]
    }
   ],
   "source": [
    "good = []\n",
    "for i in range(1,29):\n",
    "    with open(f\"../data/rawdata/Property_Values/Manual_Tries/County_Zips_{i}.json\",\"r\") as thing:\n",
    "        good.extend(json.load(thing)[\"good\"])\n",
    "print(good)\n",
    "print(len(good))"
   ]
  },
  {
   "cell_type": "code",
   "execution_count": null,
   "metadata": {},
   "outputs": [],
   "source": [
    "df = pd.DataFrame(columns=[\"zip\", \"address\", \"lat\", \"lng\",\"house area\",\"lot area\",\"high\",\"low\",\"estimate\",\"month value change\",\"property tax\"])\n",
    "for good_zip in good:\n",
    "    df = df.append(pd.read_csv(f\"../data/rawdata/Property_Values/{good_zip}.csv\"),ignore_index=True)\n",
    "#df"
   ]
  },
  {
   "cell_type": "code",
   "execution_count": 23,
   "metadata": {},
   "outputs": [],
   "source": [
    "df.to_csv(\"../data/rawdata/Property_data.csv\",index=False,encoding=\"utf-8\")"
   ]
  },
  {
   "cell_type": "code",
   "execution_count": null,
   "metadata": {},
   "outputs": [],
   "source": []
  }
 ],
 "metadata": {
  "kernelspec": {
   "display_name": "Python 3",
   "language": "python",
   "name": "python3"
  },
  "language_info": {
   "codemirror_mode": {
    "name": "ipython",
    "version": 3
   },
   "file_extension": ".py",
   "mimetype": "text/x-python",
   "name": "python",
   "nbconvert_exporter": "python",
   "pygments_lexer": "ipython3",
   "version": "3.7.1"
  }
 },
 "nbformat": 4,
 "nbformat_minor": 2
}
