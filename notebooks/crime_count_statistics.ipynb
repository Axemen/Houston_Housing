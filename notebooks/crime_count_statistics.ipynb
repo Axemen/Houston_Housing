{
 "cells": [
  {
   "cell_type": "code",
   "execution_count": 2,
   "metadata": {},
   "outputs": [],
   "source": [
    "# Dependencies\n",
    "import pandas as pd\n",
    "import numpy as np\n",
    "import matplotlib.pyplot as plt\n",
    "from scipy.stats import pearsonr\n",
    "from scipy.stats import spearmanr"
   ]
  },
  {
   "cell_type": "code",
   "execution_count": 4,
   "metadata": {},
   "outputs": [
    {
     "data": {
      "text/html": [
       "<div>\n",
       "<style scoped>\n",
       "    .dataframe tbody tr th:only-of-type {\n",
       "        vertical-align: middle;\n",
       "    }\n",
       "\n",
       "    .dataframe tbody tr th {\n",
       "        vertical-align: top;\n",
       "    }\n",
       "\n",
       "    .dataframe thead th {\n",
       "        text-align: right;\n",
       "    }\n",
       "</style>\n",
       "<table border=\"1\" class=\"dataframe\">\n",
       "  <thead>\n",
       "    <tr style=\"text-align: right;\">\n",
       "      <th></th>\n",
       "      <th>zip</th>\n",
       "      <th>estimate</th>\n",
       "    </tr>\n",
       "  </thead>\n",
       "  <tbody>\n",
       "    <tr>\n",
       "      <th>0</th>\n",
       "      <td>77003</td>\n",
       "      <td>304618.520</td>\n",
       "    </tr>\n",
       "    <tr>\n",
       "      <th>1</th>\n",
       "      <td>77004</td>\n",
       "      <td>332700.348</td>\n",
       "    </tr>\n",
       "    <tr>\n",
       "      <th>2</th>\n",
       "      <td>77005</td>\n",
       "      <td>1185270.596</td>\n",
       "    </tr>\n",
       "    <tr>\n",
       "      <th>3</th>\n",
       "      <td>77006</td>\n",
       "      <td>642616.528</td>\n",
       "    </tr>\n",
       "    <tr>\n",
       "      <th>4</th>\n",
       "      <td>77007</td>\n",
       "      <td>528380.128</td>\n",
       "    </tr>\n",
       "  </tbody>\n",
       "</table>\n",
       "</div>"
      ],
      "text/plain": [
       "     zip     estimate\n",
       "0  77003   304618.520\n",
       "1  77004   332700.348\n",
       "2  77005  1185270.596\n",
       "3  77006   642616.528\n",
       "4  77007   528380.128"
      ]
     },
     "execution_count": 4,
     "metadata": {},
     "output_type": "execute_result"
    }
   ],
   "source": [
    "crime_file=\"../data/cleandata/Harris_County_Crime_Ct_by_zipcode.csv\"\n",
    "prop_value_file=\"../data/rawdata/Property_data.csv\"\n",
    "crime_ct_df = pd.read_csv(crime_file, encoding=\"ISO-8859-1\")\n",
    "prop_value_df = pd.read_csv(prop_value_file, encoding=\"ISO-8859-1\")\n",
    "zip_prop_value_avg=prop_value_df.groupby(['zip'])['estimate'].mean()\n",
    "zip_prop_value_avg_df=pd.DataFrame(zip_prop_value_avg).reset_index()\n",
    "zip_prop_value_avg_df.head()"
   ]
  },
  {
   "cell_type": "code",
   "execution_count": 7,
   "metadata": {},
   "outputs": [
    {
     "data": {
      "text/html": [
       "<div>\n",
       "<style scoped>\n",
       "    .dataframe tbody tr th:only-of-type {\n",
       "        vertical-align: middle;\n",
       "    }\n",
       "\n",
       "    .dataframe tbody tr th {\n",
       "        vertical-align: top;\n",
       "    }\n",
       "\n",
       "    .dataframe thead th {\n",
       "        text-align: right;\n",
       "    }\n",
       "</style>\n",
       "<table border=\"1\" class=\"dataframe\">\n",
       "  <thead>\n",
       "    <tr style=\"text-align: right;\">\n",
       "      <th></th>\n",
       "      <th>ZIP</th>\n",
       "      <th>estimate</th>\n",
       "    </tr>\n",
       "  </thead>\n",
       "  <tbody>\n",
       "    <tr>\n",
       "      <th>0</th>\n",
       "      <td>77003</td>\n",
       "      <td>304618.520</td>\n",
       "    </tr>\n",
       "    <tr>\n",
       "      <th>1</th>\n",
       "      <td>77004</td>\n",
       "      <td>332700.348</td>\n",
       "    </tr>\n",
       "    <tr>\n",
       "      <th>2</th>\n",
       "      <td>77005</td>\n",
       "      <td>1185270.596</td>\n",
       "    </tr>\n",
       "    <tr>\n",
       "      <th>3</th>\n",
       "      <td>77006</td>\n",
       "      <td>642616.528</td>\n",
       "    </tr>\n",
       "    <tr>\n",
       "      <th>4</th>\n",
       "      <td>77007</td>\n",
       "      <td>528380.128</td>\n",
       "    </tr>\n",
       "  </tbody>\n",
       "</table>\n",
       "</div>"
      ],
      "text/plain": [
       "     ZIP     estimate\n",
       "0  77003   304618.520\n",
       "1  77004   332700.348\n",
       "2  77005  1185270.596\n",
       "3  77006   642616.528\n",
       "4  77007   528380.128"
      ]
     },
     "execution_count": 7,
     "metadata": {},
     "output_type": "execute_result"
    }
   ],
   "source": [
    "zip_prop_value_avg_df = zip_prop_value_avg_df.rename(\n",
    "    columns={\"zip\": \"ZIP\"\n",
    "            })\n",
    "zip_prop_value_avg_df.head()"
   ]
  },
  {
   "cell_type": "code",
   "execution_count": 5,
   "metadata": {
    "scrolled": true
   },
   "outputs": [
    {
     "data": {
      "text/html": [
       "<div>\n",
       "<style scoped>\n",
       "    .dataframe tbody tr th:only-of-type {\n",
       "        vertical-align: middle;\n",
       "    }\n",
       "\n",
       "    .dataframe tbody tr th {\n",
       "        vertical-align: top;\n",
       "    }\n",
       "\n",
       "    .dataframe thead th {\n",
       "        text-align: right;\n",
       "    }\n",
       "</style>\n",
       "<table border=\"1\" class=\"dataframe\">\n",
       "  <thead>\n",
       "    <tr style=\"text-align: right;\">\n",
       "      <th></th>\n",
       "      <th>ZIP</th>\n",
       "      <th>Non-Violet Ct</th>\n",
       "      <th>Violet Ct</th>\n",
       "      <th>LAT</th>\n",
       "      <th>LNG</th>\n",
       "    </tr>\n",
       "  </thead>\n",
       "  <tbody>\n",
       "    <tr>\n",
       "      <th>0</th>\n",
       "      <td>77002</td>\n",
       "      <td>148</td>\n",
       "      <td>32</td>\n",
       "      <td>29.756845</td>\n",
       "      <td>-95.365652</td>\n",
       "    </tr>\n",
       "    <tr>\n",
       "      <th>1</th>\n",
       "      <td>77003</td>\n",
       "      <td>54</td>\n",
       "      <td>7</td>\n",
       "      <td>29.749778</td>\n",
       "      <td>-95.345885</td>\n",
       "    </tr>\n",
       "    <tr>\n",
       "      <th>2</th>\n",
       "      <td>77004</td>\n",
       "      <td>131</td>\n",
       "      <td>42</td>\n",
       "      <td>29.724893</td>\n",
       "      <td>-95.363752</td>\n",
       "    </tr>\n",
       "    <tr>\n",
       "      <th>3</th>\n",
       "      <td>77005</td>\n",
       "      <td>30</td>\n",
       "      <td>1</td>\n",
       "      <td>29.718435</td>\n",
       "      <td>-95.423555</td>\n",
       "    </tr>\n",
       "    <tr>\n",
       "      <th>4</th>\n",
       "      <td>77006</td>\n",
       "      <td>131</td>\n",
       "      <td>16</td>\n",
       "      <td>29.740970</td>\n",
       "      <td>-95.391301</td>\n",
       "    </tr>\n",
       "  </tbody>\n",
       "</table>\n",
       "</div>"
      ],
      "text/plain": [
       "     ZIP  Non-Violet Ct  Violet Ct        LAT        LNG\n",
       "0  77002            148         32  29.756845 -95.365652\n",
       "1  77003             54          7  29.749778 -95.345885\n",
       "2  77004            131         42  29.724893 -95.363752\n",
       "3  77005             30          1  29.718435 -95.423555\n",
       "4  77006            131         16  29.740970 -95.391301"
      ]
     },
     "execution_count": 5,
     "metadata": {},
     "output_type": "execute_result"
    }
   ],
   "source": [
    "crime_ct_df.head()"
   ]
  },
  {
   "cell_type": "code",
   "execution_count": 15,
   "metadata": {},
   "outputs": [
    {
     "data": {
      "text/html": [
       "<div>\n",
       "<style scoped>\n",
       "    .dataframe tbody tr th:only-of-type {\n",
       "        vertical-align: middle;\n",
       "    }\n",
       "\n",
       "    .dataframe tbody tr th {\n",
       "        vertical-align: top;\n",
       "    }\n",
       "\n",
       "    .dataframe thead th {\n",
       "        text-align: right;\n",
       "    }\n",
       "</style>\n",
       "<table border=\"1\" class=\"dataframe\">\n",
       "  <thead>\n",
       "    <tr style=\"text-align: right;\">\n",
       "      <th></th>\n",
       "      <th>index</th>\n",
       "      <th>ZIP</th>\n",
       "      <th>Non-Violet Ct</th>\n",
       "      <th>Violet Ct</th>\n",
       "      <th>LAT</th>\n",
       "      <th>LNG</th>\n",
       "      <th>estimate</th>\n",
       "    </tr>\n",
       "  </thead>\n",
       "  <tbody>\n",
       "    <tr>\n",
       "      <th>0</th>\n",
       "      <td>0</td>\n",
       "      <td>77019</td>\n",
       "      <td>103.0</td>\n",
       "      <td>5.0</td>\n",
       "      <td>29.754150</td>\n",
       "      <td>-95.409498</td>\n",
       "      <td>1337546.668</td>\n",
       "    </tr>\n",
       "    <tr>\n",
       "      <th>1</th>\n",
       "      <td>1</td>\n",
       "      <td>77024</td>\n",
       "      <td>103.0</td>\n",
       "      <td>6.0</td>\n",
       "      <td>29.772179</td>\n",
       "      <td>-95.514203</td>\n",
       "      <td>1311313.400</td>\n",
       "    </tr>\n",
       "    <tr>\n",
       "      <th>2</th>\n",
       "      <td>2</td>\n",
       "      <td>77005</td>\n",
       "      <td>30.0</td>\n",
       "      <td>1.0</td>\n",
       "      <td>29.718435</td>\n",
       "      <td>-95.423555</td>\n",
       "      <td>1185270.596</td>\n",
       "    </tr>\n",
       "    <tr>\n",
       "      <th>3</th>\n",
       "      <td>3</td>\n",
       "      <td>77056</td>\n",
       "      <td>129.0</td>\n",
       "      <td>7.0</td>\n",
       "      <td>29.748202</td>\n",
       "      <td>-95.468948</td>\n",
       "      <td>1144477.220</td>\n",
       "    </tr>\n",
       "    <tr>\n",
       "      <th>4</th>\n",
       "      <td>4</td>\n",
       "      <td>77027</td>\n",
       "      <td>82.0</td>\n",
       "      <td>3.0</td>\n",
       "      <td>29.740079</td>\n",
       "      <td>-95.446409</td>\n",
       "      <td>1077188.354</td>\n",
       "    </tr>\n",
       "  </tbody>\n",
       "</table>\n",
       "</div>"
      ],
      "text/plain": [
       "   index    ZIP  Non-Violet Ct  Violet Ct        LAT        LNG     estimate\n",
       "0      0  77019          103.0        5.0  29.754150 -95.409498  1337546.668\n",
       "1      1  77024          103.0        6.0  29.772179 -95.514203  1311313.400\n",
       "2      2  77005           30.0        1.0  29.718435 -95.423555  1185270.596\n",
       "3      3  77056          129.0        7.0  29.748202 -95.468948  1144477.220\n",
       "4      4  77027           82.0        3.0  29.740079 -95.446409  1077188.354"
      ]
     },
     "execution_count": 15,
     "metadata": {},
     "output_type": "execute_result"
    }
   ],
   "source": [
    "merged_data=crime_ct_df.merge(zip_prop_value_avg_df, on=\"ZIP\", how=\"right\")\n",
    "merged_data=merged_data.sort_values('estimate',ascending=False).reset_index(drop=True)\n",
    "merged_data=merged_data.reset_index()\n",
    "merged_data.head()"
   ]
  },
  {
   "cell_type": "code",
   "execution_count": 18,
   "metadata": {},
   "outputs": [
    {
     "data": {
      "text/html": [
       "<div>\n",
       "<style scoped>\n",
       "    .dataframe tbody tr th:only-of-type {\n",
       "        vertical-align: middle;\n",
       "    }\n",
       "\n",
       "    .dataframe tbody tr th {\n",
       "        vertical-align: top;\n",
       "    }\n",
       "\n",
       "    .dataframe thead th {\n",
       "        text-align: right;\n",
       "    }\n",
       "</style>\n",
       "<table border=\"1\" class=\"dataframe\">\n",
       "  <thead>\n",
       "    <tr style=\"text-align: right;\">\n",
       "      <th></th>\n",
       "      <th>index</th>\n",
       "      <th>ZIP</th>\n",
       "      <th>Non-Violet Ct</th>\n",
       "      <th>Violet Ct</th>\n",
       "      <th>LAT</th>\n",
       "      <th>LNG</th>\n",
       "      <th>estimate</th>\n",
       "    </tr>\n",
       "  </thead>\n",
       "  <tbody>\n",
       "    <tr>\n",
       "      <th>0</th>\n",
       "      <td>0</td>\n",
       "      <td>77019</td>\n",
       "      <td>103.0</td>\n",
       "      <td>5.0</td>\n",
       "      <td>29.754150</td>\n",
       "      <td>-95.409498</td>\n",
       "      <td>1337546.668</td>\n",
       "    </tr>\n",
       "    <tr>\n",
       "      <th>1</th>\n",
       "      <td>1</td>\n",
       "      <td>77024</td>\n",
       "      <td>103.0</td>\n",
       "      <td>6.0</td>\n",
       "      <td>29.772179</td>\n",
       "      <td>-95.514203</td>\n",
       "      <td>1311313.400</td>\n",
       "    </tr>\n",
       "    <tr>\n",
       "      <th>2</th>\n",
       "      <td>2</td>\n",
       "      <td>77005</td>\n",
       "      <td>30.0</td>\n",
       "      <td>1.0</td>\n",
       "      <td>29.718435</td>\n",
       "      <td>-95.423555</td>\n",
       "      <td>1185270.596</td>\n",
       "    </tr>\n",
       "    <tr>\n",
       "      <th>3</th>\n",
       "      <td>3</td>\n",
       "      <td>77056</td>\n",
       "      <td>129.0</td>\n",
       "      <td>7.0</td>\n",
       "      <td>29.748202</td>\n",
       "      <td>-95.468948</td>\n",
       "      <td>1144477.220</td>\n",
       "    </tr>\n",
       "    <tr>\n",
       "      <th>4</th>\n",
       "      <td>4</td>\n",
       "      <td>77027</td>\n",
       "      <td>82.0</td>\n",
       "      <td>3.0</td>\n",
       "      <td>29.740079</td>\n",
       "      <td>-95.446409</td>\n",
       "      <td>1077188.354</td>\n",
       "    </tr>\n",
       "  </tbody>\n",
       "</table>\n",
       "</div>"
      ],
      "text/plain": [
       "   index    ZIP  Non-Violet Ct  Violet Ct        LAT        LNG     estimate\n",
       "0      0  77019          103.0        5.0  29.754150 -95.409498  1337546.668\n",
       "1      1  77024          103.0        6.0  29.772179 -95.514203  1311313.400\n",
       "2      2  77005           30.0        1.0  29.718435 -95.423555  1185270.596\n",
       "3      3  77056          129.0        7.0  29.748202 -95.468948  1144477.220\n",
       "4      4  77027           82.0        3.0  29.740079 -95.446409  1077188.354"
      ]
     },
     "execution_count": 18,
     "metadata": {},
     "output_type": "execute_result"
    }
   ],
   "source": [
    "merged_data = merged_data.dropna(how=\"any\")\n",
    "merged_data.head()"
   ]
  },
  {
   "cell_type": "code",
   "execution_count": 19,
   "metadata": {},
   "outputs": [
    {
     "data": {
      "text/plain": [
       "[<matplotlib.lines.Line2D at 0x2badc26d358>]"
      ]
     },
     "execution_count": 19,
     "metadata": {},
     "output_type": "execute_result"
    },
    {
     "data": {
      "image/png": "[encoded data removed]",
      "text/plain": [
       "<Figure size 432x288 with 2 Axes>"
      ]
     },
     "metadata": {
      "needs_background": "light"
     },
     "output_type": "display_data"
    }
   ],
   "source": [
    "fig, ax1 = plt.subplots()\n",
    "ax1.plot(merged_data[\"index\"], merged_data[\"estimate\"])\n",
    "ax2=ax1.twinx()\n",
    "ax2.plot(merged_data[\"index\"], merged_data[\"Violet Ct\"], color='red')\n"
   ]
  },
  {
   "cell_type": "code",
   "execution_count": 20,
   "metadata": {},
   "outputs": [
    {
     "name": "stdout",
     "output_type": "stream",
     "text": [
      "-0.18641741825471833\n",
      "[[ 7.11225287e+10 -5.81740699e+05]\n",
      " [-5.81740699e+05  1.36923732e+02]]\n",
      "(-0.18641741825471833, 0.06607619670789451)\n",
      "SpearmanrResult(correlation=-0.14461590978487363, pvalue=0.1553934516726349)\n"
     ]
    }
   ],
   "source": [
    "correlation=merged_data['estimate'].corr(merged_data[\"Violet Ct\"])\n",
    "print(correlation)\n",
    "covariance = np.cov(merged_data['estimate'], merged_data[\"Violet Ct\"])\n",
    "print(covariance)\n",
    "correlation2 = pearsonr(merged_data['estimate'], merged_data[\"Violet Ct\"])\n",
    "print(correlation2)\n",
    "correlation3 = spearmanr(merged_data['estimate'], merged_data[\"Violet Ct\"])\n",
    "print(correlation3)"
   ]
  },
  {
   "cell_type": "code",
   "execution_count": 21,
   "metadata": {},
   "outputs": [
    {
     "data": {
      "text/plain": [
       "[<matplotlib.lines.Line2D at 0x2bad7ea9be0>]"
      ]
     },
     "execution_count": 21,
     "metadata": {},
     "output_type": "execute_result"
    },
    {
     "data": {
      "image/png": "[encoded data removed]",
      "text/plain": [
       "<Figure size 432x288 with 2 Axes>"
      ]
     },
     "metadata": {
      "needs_background": "light"
     },
     "output_type": "display_data"
    }
   ],
   "source": [
    "fig, ax1 = plt.subplots()\n",
    "ax1.plot(merged_data[\"index\"], merged_data[\"estimate\"])\n",
    "ax2=ax1.twinx()\n",
    "ax2.plot(merged_data[\"index\"], merged_data[\"Non-Violet Ct\"], color='green')\n"
   ]
  },
  {
   "cell_type": "code",
   "execution_count": 22,
   "metadata": {},
   "outputs": [
    {
     "name": "stdout",
     "output_type": "stream",
     "text": [
      "0.2887707692940689\n",
      "[[7.11225287e+10 3.38500091e+06]\n",
      " [3.38500091e+06 1.93198580e+03]]\n",
      "(0.28877076929406886, 0.003930234365722617)\n",
      "SpearmanrResult(correlation=0.2760551404328988, pvalue=0.005933689112997683)\n"
     ]
    }
   ],
   "source": [
    "correlation=merged_data['estimate'].corr(merged_data[\"Non-Violet Ct\"])\n",
    "print(correlation)\n",
    "covariance = np.cov(merged_data['estimate'], merged_data[\"Non-Violet Ct\"])\n",
    "print(covariance)\n",
    "correlation2 = pearsonr(merged_data['estimate'], merged_data[\"Non-Violet Ct\"])\n",
    "print(correlation2)\n",
    "correlation3 = spearmanr(merged_data['estimate'], merged_data[\"Non-Violet Ct\"])\n",
    "print(correlation3)"
   ]
  },
  {
   "cell_type": "code",
   "execution_count": null,
   "metadata": {},
   "outputs": [],
   "source": []
  }
 ],
 "metadata": {
  "kernelspec": {
   "display_name": "Python 3",
   "language": "python",
   "name": "python3"
  },
  "language_info": {
   "codemirror_mode": {
    "name": "ipython",
    "version": 3
   },
   "file_extension": ".py",
   "mimetype": "text/x-python",
   "name": "python",
   "nbconvert_exporter": "python",
   "pygments_lexer": "ipython3",
   "version": "3.7.1"
  }
 },
 "nbformat": 4,
 "nbformat_minor": 2
}
