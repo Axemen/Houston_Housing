{
 "cells": [
  {
   "cell_type": "code",
   "execution_count": 1,
   "metadata": {},
   "outputs": [],
   "source": [
    "# Dependencies\n",
    "import pandas as pd\n",
    "import numpy as np\n",
    "import matplotlib.pyplot as plt\n",
    "from scipy.stats import pearsonr\n",
    "from scipy.stats import spearmanr\n",
    "\n",
    "from py_func import ftest_p_cdf, ttest"
   ]
  },
  {
   "cell_type": "markdown",
   "metadata": {},
   "source": [
    "### Data Retrieval"
   ]
  },
  {
   "cell_type": "code",
   "execution_count": 2,
   "metadata": {},
   "outputs": [
    {
     "data": {
      "text/html": [
       "<div>\n",
       "<style scoped>\n",
       "    .dataframe tbody tr th:only-of-type {\n",
       "        vertical-align: middle;\n",
       "    }\n",
       "\n",
       "    .dataframe tbody tr th {\n",
       "        vertical-align: top;\n",
       "    }\n",
       "\n",
       "    .dataframe thead th {\n",
       "        text-align: right;\n",
       "    }\n",
       "</style>\n",
       "<table border=\"1\" class=\"dataframe\">\n",
       "  <thead>\n",
       "    <tr style=\"text-align: right;\">\n",
       "      <th></th>\n",
       "      <th>ZIP</th>\n",
       "      <th>Non-Violet Ct</th>\n",
       "      <th>Violet Ct</th>\n",
       "      <th>LAT</th>\n",
       "      <th>LNG</th>\n",
       "      <th>Total Ct</th>\n",
       "    </tr>\n",
       "  </thead>\n",
       "  <tbody>\n",
       "    <tr>\n",
       "      <th>0</th>\n",
       "      <td>77002</td>\n",
       "      <td>148</td>\n",
       "      <td>32</td>\n",
       "      <td>29.756845</td>\n",
       "      <td>-95.365652</td>\n",
       "      <td>180</td>\n",
       "    </tr>\n",
       "    <tr>\n",
       "      <th>1</th>\n",
       "      <td>77003</td>\n",
       "      <td>54</td>\n",
       "      <td>7</td>\n",
       "      <td>29.749778</td>\n",
       "      <td>-95.345885</td>\n",
       "      <td>61</td>\n",
       "    </tr>\n",
       "    <tr>\n",
       "      <th>2</th>\n",
       "      <td>77004</td>\n",
       "      <td>131</td>\n",
       "      <td>42</td>\n",
       "      <td>29.724893</td>\n",
       "      <td>-95.363752</td>\n",
       "      <td>173</td>\n",
       "    </tr>\n",
       "    <tr>\n",
       "      <th>3</th>\n",
       "      <td>77005</td>\n",
       "      <td>30</td>\n",
       "      <td>1</td>\n",
       "      <td>29.718435</td>\n",
       "      <td>-95.423555</td>\n",
       "      <td>31</td>\n",
       "    </tr>\n",
       "    <tr>\n",
       "      <th>4</th>\n",
       "      <td>77006</td>\n",
       "      <td>131</td>\n",
       "      <td>16</td>\n",
       "      <td>29.740970</td>\n",
       "      <td>-95.391301</td>\n",
       "      <td>147</td>\n",
       "    </tr>\n",
       "  </tbody>\n",
       "</table>\n",
       "</div>"
      ],
      "text/plain": [
       "     ZIP  Non-Violet Ct  Violet Ct        LAT        LNG  Total Ct\n",
       "0  77002            148         32  29.756845 -95.365652       180\n",
       "1  77003             54          7  29.749778 -95.345885        61\n",
       "2  77004            131         42  29.724893 -95.363752       173\n",
       "3  77005             30          1  29.718435 -95.423555        31\n",
       "4  77006            131         16  29.740970 -95.391301       147"
      ]
     },
     "execution_count": 2,
     "metadata": {},
     "output_type": "execute_result"
    }
   ],
   "source": [
    "# Read Harris County crime count data and save as \"crime_ct_df\"\n",
    "crime_ct_df =pd.read_csv(\"../data/cleandata/Harris_County_Crime_Ct_by_zipcode.csv\")\n",
    "\n",
    "# Preview \"crime_ct_df\"\n",
    "crime_ct_df.head()"
   ]
  },
  {
   "cell_type": "code",
   "execution_count": 3,
   "metadata": {},
   "outputs": [
    {
     "data": {
      "text/html": [
       "<div>\n",
       "<style scoped>\n",
       "    .dataframe tbody tr th:only-of-type {\n",
       "        vertical-align: middle;\n",
       "    }\n",
       "\n",
       "    .dataframe tbody tr th {\n",
       "        vertical-align: top;\n",
       "    }\n",
       "\n",
       "    .dataframe thead th {\n",
       "        text-align: right;\n",
       "    }\n",
       "</style>\n",
       "<table border=\"1\" class=\"dataframe\">\n",
       "  <thead>\n",
       "    <tr style=\"text-align: right;\">\n",
       "      <th></th>\n",
       "      <th>zip</th>\n",
       "      <th>address</th>\n",
       "      <th>lat</th>\n",
       "      <th>lng</th>\n",
       "      <th>house area</th>\n",
       "      <th>lot area</th>\n",
       "      <th>high</th>\n",
       "      <th>low</th>\n",
       "      <th>estimate</th>\n",
       "      <th>month value change</th>\n",
       "      <th>property tax</th>\n",
       "    </tr>\n",
       "  </thead>\n",
       "  <tbody>\n",
       "    <tr>\n",
       "      <th>0</th>\n",
       "      <td>77004</td>\n",
       "      <td>3327 FRANCIS ST, HOUSTON, TX 77004</td>\n",
       "      <td>29.728969</td>\n",
       "      <td>-95.354886</td>\n",
       "      <td>792.0</td>\n",
       "      <td>5001.0</td>\n",
       "      <td>100859</td>\n",
       "      <td>84504</td>\n",
       "      <td>90864</td>\n",
       "      <td>87.0</td>\n",
       "      <td>72000.0</td>\n",
       "    </tr>\n",
       "    <tr>\n",
       "      <th>1</th>\n",
       "      <td>77004</td>\n",
       "      <td>1820 OAKDALE ST, HOUSTON, TX 77004</td>\n",
       "      <td>29.723462</td>\n",
       "      <td>-95.381033</td>\n",
       "      <td>2892.0</td>\n",
       "      <td>5500.0</td>\n",
       "      <td>635167</td>\n",
       "      <td>531231</td>\n",
       "      <td>577425</td>\n",
       "      <td>1263.0</td>\n",
       "      <td>383698.0</td>\n",
       "    </tr>\n",
       "    <tr>\n",
       "      <th>2</th>\n",
       "      <td>77004</td>\n",
       "      <td>2220 MACGREGOR WAY, HOUSTON, TX 77004</td>\n",
       "      <td>29.715995</td>\n",
       "      <td>-95.380015</td>\n",
       "      <td>2813.0</td>\n",
       "      <td>8638.0</td>\n",
       "      <td>526769</td>\n",
       "      <td>425281</td>\n",
       "      <td>483274</td>\n",
       "      <td>7871.0</td>\n",
       "      <td>275131.0</td>\n",
       "    </tr>\n",
       "    <tr>\n",
       "      <th>3</th>\n",
       "      <td>77004</td>\n",
       "      <td>2402 WENTWORTH ST, HOUSTON, TX 77004</td>\n",
       "      <td>29.724232</td>\n",
       "      <td>-95.373084</td>\n",
       "      <td>2748.0</td>\n",
       "      <td>6599.0</td>\n",
       "      <td>445146</td>\n",
       "      <td>316883</td>\n",
       "      <td>377242</td>\n",
       "      <td>-1526.0</td>\n",
       "      <td>182314.0</td>\n",
       "    </tr>\n",
       "    <tr>\n",
       "      <th>4</th>\n",
       "      <td>77004</td>\n",
       "      <td>2424 ISABELLA ST, HOUSTON, TX 77004</td>\n",
       "      <td>29.729207</td>\n",
       "      <td>-95.368853</td>\n",
       "      <td>1470.0</td>\n",
       "      <td>5776.0</td>\n",
       "      <td>267123</td>\n",
       "      <td>241683</td>\n",
       "      <td>254403</td>\n",
       "      <td>1862.0</td>\n",
       "      <td>183358.0</td>\n",
       "    </tr>\n",
       "  </tbody>\n",
       "</table>\n",
       "</div>"
      ],
      "text/plain": [
       "     zip                                address        lat        lng  \\\n",
       "0  77004     3327 FRANCIS ST, HOUSTON, TX 77004  29.728969 -95.354886   \n",
       "1  77004     1820 OAKDALE ST, HOUSTON, TX 77004  29.723462 -95.381033   \n",
       "2  77004  2220 MACGREGOR WAY, HOUSTON, TX 77004  29.715995 -95.380015   \n",
       "3  77004   2402 WENTWORTH ST, HOUSTON, TX 77004  29.724232 -95.373084   \n",
       "4  77004    2424 ISABELLA ST, HOUSTON, TX 77004  29.729207 -95.368853   \n",
       "\n",
       "   house area  lot area    high     low  estimate  month value change  \\\n",
       "0       792.0    5001.0  100859   84504     90864                87.0   \n",
       "1      2892.0    5500.0  635167  531231    577425              1263.0   \n",
       "2      2813.0    8638.0  526769  425281    483274              7871.0   \n",
       "3      2748.0    6599.0  445146  316883    377242             -1526.0   \n",
       "4      1470.0    5776.0  267123  241683    254403              1862.0   \n",
       "\n",
       "   property tax  \n",
       "0       72000.0  \n",
       "1      383698.0  \n",
       "2      275131.0  \n",
       "3      182314.0  \n",
       "4      183358.0  "
      ]
     },
     "execution_count": 3,
     "metadata": {},
     "output_type": "execute_result"
    }
   ],
   "source": [
    "# Read Harris County crime count data and save as \"crime_ct_df\"\n",
    "prop_value_df =pd.read_csv(\"../data/rawdata/Property_data.csv\", encoding=\"ISO-8859-1\")\n",
    "\n",
    "# Preview \"crime_ct_df\"\n",
    "prop_value_df.head()"
   ]
  },
  {
   "cell_type": "code",
   "execution_count": 4,
   "metadata": {},
   "outputs": [
    {
     "data": {
      "text/html": [
       "<div>\n",
       "<style scoped>\n",
       "    .dataframe tbody tr th:only-of-type {\n",
       "        vertical-align: middle;\n",
       "    }\n",
       "\n",
       "    .dataframe tbody tr th {\n",
       "        vertical-align: top;\n",
       "    }\n",
       "\n",
       "    .dataframe thead th {\n",
       "        text-align: right;\n",
       "    }\n",
       "</style>\n",
       "<table border=\"1\" class=\"dataframe\">\n",
       "  <thead>\n",
       "    <tr style=\"text-align: right;\">\n",
       "      <th></th>\n",
       "      <th>zip</th>\n",
       "      <th>estimate</th>\n",
       "    </tr>\n",
       "  </thead>\n",
       "  <tbody>\n",
       "    <tr>\n",
       "      <th>0</th>\n",
       "      <td>77003</td>\n",
       "      <td>304618.520</td>\n",
       "    </tr>\n",
       "    <tr>\n",
       "      <th>1</th>\n",
       "      <td>77004</td>\n",
       "      <td>332700.348</td>\n",
       "    </tr>\n",
       "    <tr>\n",
       "      <th>2</th>\n",
       "      <td>77005</td>\n",
       "      <td>1185270.596</td>\n",
       "    </tr>\n",
       "    <tr>\n",
       "      <th>3</th>\n",
       "      <td>77006</td>\n",
       "      <td>642616.528</td>\n",
       "    </tr>\n",
       "    <tr>\n",
       "      <th>4</th>\n",
       "      <td>77007</td>\n",
       "      <td>528380.128</td>\n",
       "    </tr>\n",
       "  </tbody>\n",
       "</table>\n",
       "</div>"
      ],
      "text/plain": [
       "     zip     estimate\n",
       "0  77003   304618.520\n",
       "1  77004   332700.348\n",
       "2  77005  1185270.596\n",
       "3  77006   642616.528\n",
       "4  77007   528380.128"
      ]
     },
     "execution_count": 4,
     "metadata": {},
     "output_type": "execute_result"
    }
   ],
   "source": [
    "# Calculate average property value of each zipcode\n",
    "prop_value_zip_avg_df = pd.DataFrame(prop_value_df.groupby([\"zip\"])[\"estimate\"].mean()).reset_index()\n",
    "\n",
    "# Preview \"prop_value_zip_avg_df\"\n",
    "prop_value_zip_avg_df.head()"
   ]
  },
  {
   "cell_type": "code",
   "execution_count": 5,
   "metadata": {},
   "outputs": [
    {
     "data": {
      "text/html": [
       "<div>\n",
       "<style scoped>\n",
       "    .dataframe tbody tr th:only-of-type {\n",
       "        vertical-align: middle;\n",
       "    }\n",
       "\n",
       "    .dataframe tbody tr th {\n",
       "        vertical-align: top;\n",
       "    }\n",
       "\n",
       "    .dataframe thead th {\n",
       "        text-align: right;\n",
       "    }\n",
       "</style>\n",
       "<table border=\"1\" class=\"dataframe\">\n",
       "  <thead>\n",
       "    <tr style=\"text-align: right;\">\n",
       "      <th></th>\n",
       "      <th>ZIP</th>\n",
       "      <th>estimate</th>\n",
       "    </tr>\n",
       "  </thead>\n",
       "  <tbody>\n",
       "    <tr>\n",
       "      <th>0</th>\n",
       "      <td>77003</td>\n",
       "      <td>304618.520</td>\n",
       "    </tr>\n",
       "    <tr>\n",
       "      <th>1</th>\n",
       "      <td>77004</td>\n",
       "      <td>332700.348</td>\n",
       "    </tr>\n",
       "    <tr>\n",
       "      <th>2</th>\n",
       "      <td>77005</td>\n",
       "      <td>1185270.596</td>\n",
       "    </tr>\n",
       "    <tr>\n",
       "      <th>3</th>\n",
       "      <td>77006</td>\n",
       "      <td>642616.528</td>\n",
       "    </tr>\n",
       "    <tr>\n",
       "      <th>4</th>\n",
       "      <td>77007</td>\n",
       "      <td>528380.128</td>\n",
       "    </tr>\n",
       "  </tbody>\n",
       "</table>\n",
       "</div>"
      ],
      "text/plain": [
       "     ZIP     estimate\n",
       "0  77003   304618.520\n",
       "1  77004   332700.348\n",
       "2  77005  1185270.596\n",
       "3  77006   642616.528\n",
       "4  77007   528380.128"
      ]
     },
     "execution_count": 5,
     "metadata": {},
     "output_type": "execute_result"
    }
   ],
   "source": [
    "# Rename \"zip\" column as \"ZIP\"\n",
    "prop_value_zip_avg_df = prop_value_zip_avg_df.rename(\n",
    "    columns={\"zip\": \"ZIP\"\n",
    "            })\n",
    "\n",
    "# Preview \"prop_value_zip_avg_df\"\n",
    "prop_value_zip_avg_df.head()"
   ]
  },
  {
   "cell_type": "code",
   "execution_count": 6,
   "metadata": {
    "scrolled": true
   },
   "outputs": [
    {
     "data": {
      "text/plain": [
       "101"
      ]
     },
     "execution_count": 6,
     "metadata": {},
     "output_type": "execute_result"
    }
   ],
   "source": [
    "len(crime_ct_df)"
   ]
  },
  {
   "cell_type": "code",
   "execution_count": 7,
   "metadata": {},
   "outputs": [
    {
     "data": {
      "text/plain": [
       "131"
      ]
     },
     "execution_count": 7,
     "metadata": {},
     "output_type": "execute_result"
    }
   ],
   "source": [
    "len(prop_value_zip_avg_df)"
   ]
  },
  {
   "cell_type": "markdown",
   "metadata": {},
   "source": [
    "### Data Processing"
   ]
  },
  {
   "cell_type": "code",
   "execution_count": 8,
   "metadata": {},
   "outputs": [
    {
     "data": {
      "text/html": [
       "<div>\n",
       "<style scoped>\n",
       "    .dataframe tbody tr th:only-of-type {\n",
       "        vertical-align: middle;\n",
       "    }\n",
       "\n",
       "    .dataframe tbody tr th {\n",
       "        vertical-align: top;\n",
       "    }\n",
       "\n",
       "    .dataframe thead th {\n",
       "        text-align: right;\n",
       "    }\n",
       "</style>\n",
       "<table border=\"1\" class=\"dataframe\">\n",
       "  <thead>\n",
       "    <tr style=\"text-align: right;\">\n",
       "      <th></th>\n",
       "      <th>ZIP</th>\n",
       "      <th>Non-Violet Ct</th>\n",
       "      <th>Violet Ct</th>\n",
       "      <th>LAT</th>\n",
       "      <th>LNG</th>\n",
       "      <th>Total Ct</th>\n",
       "      <th>estimate</th>\n",
       "    </tr>\n",
       "  </thead>\n",
       "  <tbody>\n",
       "    <tr>\n",
       "      <th>0</th>\n",
       "      <td>77002</td>\n",
       "      <td>148</td>\n",
       "      <td>32</td>\n",
       "      <td>29.756845</td>\n",
       "      <td>-95.365652</td>\n",
       "      <td>180</td>\n",
       "      <td>NaN</td>\n",
       "    </tr>\n",
       "    <tr>\n",
       "      <th>1</th>\n",
       "      <td>77003</td>\n",
       "      <td>54</td>\n",
       "      <td>7</td>\n",
       "      <td>29.749778</td>\n",
       "      <td>-95.345885</td>\n",
       "      <td>61</td>\n",
       "      <td>304618.520</td>\n",
       "    </tr>\n",
       "    <tr>\n",
       "      <th>2</th>\n",
       "      <td>77004</td>\n",
       "      <td>131</td>\n",
       "      <td>42</td>\n",
       "      <td>29.724893</td>\n",
       "      <td>-95.363752</td>\n",
       "      <td>173</td>\n",
       "      <td>332700.348</td>\n",
       "    </tr>\n",
       "    <tr>\n",
       "      <th>3</th>\n",
       "      <td>77005</td>\n",
       "      <td>30</td>\n",
       "      <td>1</td>\n",
       "      <td>29.718435</td>\n",
       "      <td>-95.423555</td>\n",
       "      <td>31</td>\n",
       "      <td>1185270.596</td>\n",
       "    </tr>\n",
       "    <tr>\n",
       "      <th>4</th>\n",
       "      <td>77006</td>\n",
       "      <td>131</td>\n",
       "      <td>16</td>\n",
       "      <td>29.740970</td>\n",
       "      <td>-95.391301</td>\n",
       "      <td>147</td>\n",
       "      <td>642616.528</td>\n",
       "    </tr>\n",
       "  </tbody>\n",
       "</table>\n",
       "</div>"
      ],
      "text/plain": [
       "     ZIP  Non-Violet Ct  Violet Ct        LAT        LNG  Total Ct  \\\n",
       "0  77002            148         32  29.756845 -95.365652       180   \n",
       "1  77003             54          7  29.749778 -95.345885        61   \n",
       "2  77004            131         42  29.724893 -95.363752       173   \n",
       "3  77005             30          1  29.718435 -95.423555        31   \n",
       "4  77006            131         16  29.740970 -95.391301       147   \n",
       "\n",
       "      estimate  \n",
       "0          NaN  \n",
       "1   304618.520  \n",
       "2   332700.348  \n",
       "3  1185270.596  \n",
       "4   642616.528  "
      ]
     },
     "execution_count": 8,
     "metadata": {},
     "output_type": "execute_result"
    }
   ],
   "source": [
    "# Merge crime data with property value\n",
    "prop_and_crime = crime_ct_df.merge(prop_value_zip_avg_df, on=\"ZIP\", how=\"left\")\n",
    "\n",
    "# Preview \"prop_and_crime\"\n",
    "prop_and_crime.head()"
   ]
  },
  {
   "cell_type": "code",
   "execution_count": 9,
   "metadata": {},
   "outputs": [
    {
     "data": {
      "text/html": [
       "<div>\n",
       "<style scoped>\n",
       "    .dataframe tbody tr th:only-of-type {\n",
       "        vertical-align: middle;\n",
       "    }\n",
       "\n",
       "    .dataframe tbody tr th {\n",
       "        vertical-align: top;\n",
       "    }\n",
       "\n",
       "    .dataframe thead th {\n",
       "        text-align: right;\n",
       "    }\n",
       "</style>\n",
       "<table border=\"1\" class=\"dataframe\">\n",
       "  <thead>\n",
       "    <tr style=\"text-align: right;\">\n",
       "      <th></th>\n",
       "      <th>index</th>\n",
       "      <th>ZIP</th>\n",
       "      <th>Non-Violet Ct</th>\n",
       "      <th>Violet Ct</th>\n",
       "      <th>LAT</th>\n",
       "      <th>LNG</th>\n",
       "      <th>Total Ct</th>\n",
       "      <th>estimate</th>\n",
       "    </tr>\n",
       "  </thead>\n",
       "  <tbody>\n",
       "    <tr>\n",
       "      <th>0</th>\n",
       "      <td>0</td>\n",
       "      <td>77019</td>\n",
       "      <td>103</td>\n",
       "      <td>5</td>\n",
       "      <td>29.754150</td>\n",
       "      <td>-95.409498</td>\n",
       "      <td>108</td>\n",
       "      <td>1337546.668</td>\n",
       "    </tr>\n",
       "    <tr>\n",
       "      <th>1</th>\n",
       "      <td>1</td>\n",
       "      <td>77024</td>\n",
       "      <td>103</td>\n",
       "      <td>6</td>\n",
       "      <td>29.772179</td>\n",
       "      <td>-95.514203</td>\n",
       "      <td>109</td>\n",
       "      <td>1311313.400</td>\n",
       "    </tr>\n",
       "    <tr>\n",
       "      <th>2</th>\n",
       "      <td>2</td>\n",
       "      <td>77005</td>\n",
       "      <td>30</td>\n",
       "      <td>1</td>\n",
       "      <td>29.718435</td>\n",
       "      <td>-95.423555</td>\n",
       "      <td>31</td>\n",
       "      <td>1185270.596</td>\n",
       "    </tr>\n",
       "    <tr>\n",
       "      <th>3</th>\n",
       "      <td>3</td>\n",
       "      <td>77056</td>\n",
       "      <td>129</td>\n",
       "      <td>7</td>\n",
       "      <td>29.748202</td>\n",
       "      <td>-95.468948</td>\n",
       "      <td>136</td>\n",
       "      <td>1144477.220</td>\n",
       "    </tr>\n",
       "    <tr>\n",
       "      <th>4</th>\n",
       "      <td>4</td>\n",
       "      <td>77027</td>\n",
       "      <td>82</td>\n",
       "      <td>3</td>\n",
       "      <td>29.740079</td>\n",
       "      <td>-95.446409</td>\n",
       "      <td>85</td>\n",
       "      <td>1077188.354</td>\n",
       "    </tr>\n",
       "  </tbody>\n",
       "</table>\n",
       "</div>"
      ],
      "text/plain": [
       "   index    ZIP  Non-Violet Ct  Violet Ct        LAT        LNG  Total Ct  \\\n",
       "0      0  77019            103          5  29.754150 -95.409498       108   \n",
       "1      1  77024            103          6  29.772179 -95.514203       109   \n",
       "2      2  77005             30          1  29.718435 -95.423555        31   \n",
       "3      3  77056            129          7  29.748202 -95.468948       136   \n",
       "4      4  77027             82          3  29.740079 -95.446409        85   \n",
       "\n",
       "      estimate  \n",
       "0  1337546.668  \n",
       "1  1311313.400  \n",
       "2  1185270.596  \n",
       "3  1144477.220  \n",
       "4  1077188.354  "
      ]
     },
     "execution_count": 9,
     "metadata": {},
     "output_type": "execute_result"
    }
   ],
   "source": [
    "# Sort the data by \"estimate\" in descending order\n",
    "prop_and_crime = prop_and_crime.sort_values(\"estimate\", ascending=False).reset_index(drop=True)\n",
    "\n",
    "prop_and_crime = prop_and_crime.reset_index()\n",
    "\n",
    "# Preview \"prop_and_crime_sorted\"\n",
    "prop_and_crime.head()"
   ]
  },
  {
   "cell_type": "code",
   "execution_count": 10,
   "metadata": {},
   "outputs": [
    {
     "data": {
      "text/html": [
       "<div>\n",
       "<style scoped>\n",
       "    .dataframe tbody tr th:only-of-type {\n",
       "        vertical-align: middle;\n",
       "    }\n",
       "\n",
       "    .dataframe tbody tr th {\n",
       "        vertical-align: top;\n",
       "    }\n",
       "\n",
       "    .dataframe thead th {\n",
       "        text-align: right;\n",
       "    }\n",
       "</style>\n",
       "<table border=\"1\" class=\"dataframe\">\n",
       "  <thead>\n",
       "    <tr style=\"text-align: right;\">\n",
       "      <th></th>\n",
       "      <th>index</th>\n",
       "      <th>ZIP</th>\n",
       "      <th>Non-Violet Ct</th>\n",
       "      <th>Violet Ct</th>\n",
       "      <th>LAT</th>\n",
       "      <th>LNG</th>\n",
       "      <th>Total Ct</th>\n",
       "      <th>estimate</th>\n",
       "    </tr>\n",
       "  </thead>\n",
       "  <tbody>\n",
       "    <tr>\n",
       "      <th>0</th>\n",
       "      <td>0</td>\n",
       "      <td>77019</td>\n",
       "      <td>103</td>\n",
       "      <td>5</td>\n",
       "      <td>29.754150</td>\n",
       "      <td>-95.409498</td>\n",
       "      <td>108</td>\n",
       "      <td>1337546.668</td>\n",
       "    </tr>\n",
       "    <tr>\n",
       "      <th>1</th>\n",
       "      <td>1</td>\n",
       "      <td>77024</td>\n",
       "      <td>103</td>\n",
       "      <td>6</td>\n",
       "      <td>29.772179</td>\n",
       "      <td>-95.514203</td>\n",
       "      <td>109</td>\n",
       "      <td>1311313.400</td>\n",
       "    </tr>\n",
       "    <tr>\n",
       "      <th>2</th>\n",
       "      <td>2</td>\n",
       "      <td>77005</td>\n",
       "      <td>30</td>\n",
       "      <td>1</td>\n",
       "      <td>29.718435</td>\n",
       "      <td>-95.423555</td>\n",
       "      <td>31</td>\n",
       "      <td>1185270.596</td>\n",
       "    </tr>\n",
       "    <tr>\n",
       "      <th>3</th>\n",
       "      <td>3</td>\n",
       "      <td>77056</td>\n",
       "      <td>129</td>\n",
       "      <td>7</td>\n",
       "      <td>29.748202</td>\n",
       "      <td>-95.468948</td>\n",
       "      <td>136</td>\n",
       "      <td>1144477.220</td>\n",
       "    </tr>\n",
       "    <tr>\n",
       "      <th>4</th>\n",
       "      <td>4</td>\n",
       "      <td>77027</td>\n",
       "      <td>82</td>\n",
       "      <td>3</td>\n",
       "      <td>29.740079</td>\n",
       "      <td>-95.446409</td>\n",
       "      <td>85</td>\n",
       "      <td>1077188.354</td>\n",
       "    </tr>\n",
       "  </tbody>\n",
       "</table>\n",
       "</div>"
      ],
      "text/plain": [
       "   index    ZIP  Non-Violet Ct  Violet Ct        LAT        LNG  Total Ct  \\\n",
       "0      0  77019            103          5  29.754150 -95.409498       108   \n",
       "1      1  77024            103          6  29.772179 -95.514203       109   \n",
       "2      2  77005             30          1  29.718435 -95.423555        31   \n",
       "3      3  77056            129          7  29.748202 -95.468948       136   \n",
       "4      4  77027             82          3  29.740079 -95.446409        85   \n",
       "\n",
       "      estimate  \n",
       "0  1337546.668  \n",
       "1  1311313.400  \n",
       "2  1185270.596  \n",
       "3  1144477.220  \n",
       "4  1077188.354  "
      ]
     },
     "execution_count": 10,
     "metadata": {},
     "output_type": "execute_result"
    }
   ],
   "source": [
    "# Drop n/a data\n",
    "prop_and_crime = prop_and_crime.dropna(how=\"any\")\n",
    "\n",
    "# Preview \"prop_and_crime_sorted\"\n",
    "prop_and_crime.head()"
   ]
  },
  {
   "cell_type": "code",
   "execution_count": 11,
   "metadata": {},
   "outputs": [],
   "source": [
    "# Write \"prop_and_crime\" to csv file\n",
    "prop_and_crime.to_csv(\"../data/cleandata/Harris_County_Crime_Ct_and_Prop_Value.csv\", index=False, header=True)"
   ]
  },
  {
   "cell_type": "markdown",
   "metadata": {},
   "source": [
    "### Data Analysis"
   ]
  },
  {
   "cell_type": "markdown",
   "metadata": {},
   "source": [
    "##### Crime Counts with High and Low House Prices"
   ]
  },
  {
   "cell_type": "code",
   "execution_count": 12,
   "metadata": {},
   "outputs": [],
   "source": [
    "# Add \"High Est\" and \"Low Est\" to \"prop_and_crime\"\n",
    "prop_and_crime[\"High Est\"] = \"\"\n",
    "prop_and_crime[\"Low Est\"] = \"\""
   ]
  },
  {
   "cell_type": "code",
   "execution_count": 13,
   "metadata": {},
   "outputs": [
    {
     "data": {
      "text/html": [
       "<div>\n",
       "<style scoped>\n",
       "    .dataframe tbody tr th:only-of-type {\n",
       "        vertical-align: middle;\n",
       "    }\n",
       "\n",
       "    .dataframe tbody tr th {\n",
       "        vertical-align: top;\n",
       "    }\n",
       "\n",
       "    .dataframe thead th {\n",
       "        text-align: right;\n",
       "    }\n",
       "</style>\n",
       "<table border=\"1\" class=\"dataframe\">\n",
       "  <thead>\n",
       "    <tr style=\"text-align: right;\">\n",
       "      <th></th>\n",
       "      <th>index</th>\n",
       "      <th>ZIP</th>\n",
       "      <th>Non-Violet Ct</th>\n",
       "      <th>Violet Ct</th>\n",
       "      <th>LAT</th>\n",
       "      <th>LNG</th>\n",
       "      <th>Total Ct</th>\n",
       "      <th>estimate</th>\n",
       "      <th>High Est</th>\n",
       "      <th>Low Est</th>\n",
       "    </tr>\n",
       "  </thead>\n",
       "  <tbody>\n",
       "    <tr>\n",
       "      <th>0</th>\n",
       "      <td>0</td>\n",
       "      <td>77019</td>\n",
       "      <td>103</td>\n",
       "      <td>5</td>\n",
       "      <td>29.754150</td>\n",
       "      <td>-95.409498</td>\n",
       "      <td>108</td>\n",
       "      <td>1337546.668</td>\n",
       "      <td>1.33755e+06</td>\n",
       "      <td>NaN</td>\n",
       "    </tr>\n",
       "    <tr>\n",
       "      <th>1</th>\n",
       "      <td>1</td>\n",
       "      <td>77024</td>\n",
       "      <td>103</td>\n",
       "      <td>6</td>\n",
       "      <td>29.772179</td>\n",
       "      <td>-95.514203</td>\n",
       "      <td>109</td>\n",
       "      <td>1311313.400</td>\n",
       "      <td>1.31131e+06</td>\n",
       "      <td>NaN</td>\n",
       "    </tr>\n",
       "    <tr>\n",
       "      <th>2</th>\n",
       "      <td>2</td>\n",
       "      <td>77005</td>\n",
       "      <td>30</td>\n",
       "      <td>1</td>\n",
       "      <td>29.718435</td>\n",
       "      <td>-95.423555</td>\n",
       "      <td>31</td>\n",
       "      <td>1185270.596</td>\n",
       "      <td>1.18527e+06</td>\n",
       "      <td>NaN</td>\n",
       "    </tr>\n",
       "    <tr>\n",
       "      <th>3</th>\n",
       "      <td>3</td>\n",
       "      <td>77056</td>\n",
       "      <td>129</td>\n",
       "      <td>7</td>\n",
       "      <td>29.748202</td>\n",
       "      <td>-95.468948</td>\n",
       "      <td>136</td>\n",
       "      <td>1144477.220</td>\n",
       "      <td>1.14448e+06</td>\n",
       "      <td>NaN</td>\n",
       "    </tr>\n",
       "    <tr>\n",
       "      <th>4</th>\n",
       "      <td>4</td>\n",
       "      <td>77027</td>\n",
       "      <td>82</td>\n",
       "      <td>3</td>\n",
       "      <td>29.740079</td>\n",
       "      <td>-95.446409</td>\n",
       "      <td>85</td>\n",
       "      <td>1077188.354</td>\n",
       "      <td>1.07719e+06</td>\n",
       "      <td>NaN</td>\n",
       "    </tr>\n",
       "  </tbody>\n",
       "</table>\n",
       "</div>"
      ],
      "text/plain": [
       "   index    ZIP  Non-Violet Ct  Violet Ct        LAT        LNG  Total Ct  \\\n",
       "0      0  77019            103          5  29.754150 -95.409498       108   \n",
       "1      1  77024            103          6  29.772179 -95.514203       109   \n",
       "2      2  77005             30          1  29.718435 -95.423555        31   \n",
       "3      3  77056            129          7  29.748202 -95.468948       136   \n",
       "4      4  77027             82          3  29.740079 -95.446409        85   \n",
       "\n",
       "      estimate     High Est Low Est  \n",
       "0  1337546.668  1.33755e+06     NaN  \n",
       "1  1311313.400  1.31131e+06     NaN  \n",
       "2  1185270.596  1.18527e+06     NaN  \n",
       "3  1144477.220  1.14448e+06     NaN  \n",
       "4  1077188.354  1.07719e+06     NaN  "
      ]
     },
     "execution_count": 13,
     "metadata": {},
     "output_type": "execute_result"
    }
   ],
   "source": [
    "# Save values in \"estimate\" to \"High Est\" and \"Low Est\" columns\n",
    "# Write NaN for columns without data to facilitate following manipulation\n",
    "prop_and_crime.loc[prop_and_crime.estimate >= prop_and_crime.estimate.mean(), \"High Est\"] = prop_and_crime.loc[prop_and_crime.estimate >= prop_and_crime.estimate.mean(), \"estimate\"]\n",
    "prop_and_crime.loc[prop_and_crime.estimate >= prop_and_crime.estimate.mean(), \"Low Est\"] = np.nan  \n",
    "\n",
    "prop_and_crime.loc[prop_and_crime.estimate < prop_and_crime.estimate.mean(), \"Low Est\"] = prop_and_crime.loc[prop_and_crime.estimate < prop_and_crime.estimate.mean(), \"estimate\"]\n",
    "prop_and_crime.loc[prop_and_crime.estimate < prop_and_crime.estimate.mean(), \"High Est\"] = np.nan      \n",
    "\n",
    "# Preview \"prop_and_crime\"\n",
    "prop_and_crime.head()"
   ]
  },
  {
   "cell_type": "code",
   "execution_count": 14,
   "metadata": {},
   "outputs": [
    {
     "data": {
      "text/html": [
       "<div>\n",
       "<style scoped>\n",
       "    .dataframe tbody tr th:only-of-type {\n",
       "        vertical-align: middle;\n",
       "    }\n",
       "\n",
       "    .dataframe tbody tr th {\n",
       "        vertical-align: top;\n",
       "    }\n",
       "\n",
       "    .dataframe thead th {\n",
       "        text-align: right;\n",
       "    }\n",
       "</style>\n",
       "<table border=\"1\" class=\"dataframe\">\n",
       "  <thead>\n",
       "    <tr style=\"text-align: right;\">\n",
       "      <th></th>\n",
       "      <th>index</th>\n",
       "      <th>ZIP</th>\n",
       "      <th>Non-Violet Ct</th>\n",
       "      <th>Violet Ct</th>\n",
       "      <th>LAT</th>\n",
       "      <th>LNG</th>\n",
       "      <th>Total Ct</th>\n",
       "      <th>High Est</th>\n",
       "    </tr>\n",
       "  </thead>\n",
       "  <tbody>\n",
       "    <tr>\n",
       "      <th>0</th>\n",
       "      <td>0</td>\n",
       "      <td>77019</td>\n",
       "      <td>103</td>\n",
       "      <td>5</td>\n",
       "      <td>29.754150</td>\n",
       "      <td>-95.409498</td>\n",
       "      <td>108</td>\n",
       "      <td>1.33755e+06</td>\n",
       "    </tr>\n",
       "    <tr>\n",
       "      <th>1</th>\n",
       "      <td>1</td>\n",
       "      <td>77024</td>\n",
       "      <td>103</td>\n",
       "      <td>6</td>\n",
       "      <td>29.772179</td>\n",
       "      <td>-95.514203</td>\n",
       "      <td>109</td>\n",
       "      <td>1.31131e+06</td>\n",
       "    </tr>\n",
       "    <tr>\n",
       "      <th>2</th>\n",
       "      <td>2</td>\n",
       "      <td>77005</td>\n",
       "      <td>30</td>\n",
       "      <td>1</td>\n",
       "      <td>29.718435</td>\n",
       "      <td>-95.423555</td>\n",
       "      <td>31</td>\n",
       "      <td>1.18527e+06</td>\n",
       "    </tr>\n",
       "    <tr>\n",
       "      <th>3</th>\n",
       "      <td>3</td>\n",
       "      <td>77056</td>\n",
       "      <td>129</td>\n",
       "      <td>7</td>\n",
       "      <td>29.748202</td>\n",
       "      <td>-95.468948</td>\n",
       "      <td>136</td>\n",
       "      <td>1.14448e+06</td>\n",
       "    </tr>\n",
       "    <tr>\n",
       "      <th>4</th>\n",
       "      <td>4</td>\n",
       "      <td>77027</td>\n",
       "      <td>82</td>\n",
       "      <td>3</td>\n",
       "      <td>29.740079</td>\n",
       "      <td>-95.446409</td>\n",
       "      <td>85</td>\n",
       "      <td>1.07719e+06</td>\n",
       "    </tr>\n",
       "  </tbody>\n",
       "</table>\n",
       "</div>"
      ],
      "text/plain": [
       "   index    ZIP  Non-Violet Ct  Violet Ct        LAT        LNG  Total Ct  \\\n",
       "0      0  77019            103          5  29.754150 -95.409498       108   \n",
       "1      1  77024            103          6  29.772179 -95.514203       109   \n",
       "2      2  77005             30          1  29.718435 -95.423555        31   \n",
       "3      3  77056            129          7  29.748202 -95.468948       136   \n",
       "4      4  77027             82          3  29.740079 -95.446409        85   \n",
       "\n",
       "      High Est  \n",
       "0  1.33755e+06  \n",
       "1  1.31131e+06  \n",
       "2  1.18527e+06  \n",
       "3  1.14448e+06  \n",
       "4  1.07719e+06  "
      ]
     },
     "execution_count": 14,
     "metadata": {},
     "output_type": "execute_result"
    }
   ],
   "source": [
    "# Get dataframe for high estimate value \n",
    "high_est_and_crime = prop_and_crime.drop([\"estimate\", \"Low Est\"], axis=1).dropna(how=\"any\")\n",
    "\n",
    "# Preview \"high_est_and_crime\"\n",
    "high_est_and_crime.head()"
   ]
  },
  {
   "cell_type": "code",
   "execution_count": 15,
   "metadata": {},
   "outputs": [
    {
     "data": {
      "text/html": [
       "<div>\n",
       "<style scoped>\n",
       "    .dataframe tbody tr th:only-of-type {\n",
       "        vertical-align: middle;\n",
       "    }\n",
       "\n",
       "    .dataframe tbody tr th {\n",
       "        vertical-align: top;\n",
       "    }\n",
       "\n",
       "    .dataframe thead th {\n",
       "        text-align: right;\n",
       "    }\n",
       "</style>\n",
       "<table border=\"1\" class=\"dataframe\">\n",
       "  <thead>\n",
       "    <tr style=\"text-align: right;\">\n",
       "      <th></th>\n",
       "      <th>index</th>\n",
       "      <th>ZIP</th>\n",
       "      <th>Non-Violet Ct</th>\n",
       "      <th>Violet Ct</th>\n",
       "      <th>LAT</th>\n",
       "      <th>LNG</th>\n",
       "      <th>Total Ct</th>\n",
       "      <th>Low Est</th>\n",
       "    </tr>\n",
       "  </thead>\n",
       "  <tbody>\n",
       "    <tr>\n",
       "      <th>27</th>\n",
       "      <td>27</td>\n",
       "      <td>77003</td>\n",
       "      <td>54</td>\n",
       "      <td>7</td>\n",
       "      <td>29.749778</td>\n",
       "      <td>-95.345885</td>\n",
       "      <td>61</td>\n",
       "      <td>304619</td>\n",
       "    </tr>\n",
       "    <tr>\n",
       "      <th>28</th>\n",
       "      <td>28</td>\n",
       "      <td>77043</td>\n",
       "      <td>45</td>\n",
       "      <td>15</td>\n",
       "      <td>29.810930</td>\n",
       "      <td>-95.584639</td>\n",
       "      <td>60</td>\n",
       "      <td>299762</td>\n",
       "    </tr>\n",
       "    <tr>\n",
       "      <th>29</th>\n",
       "      <td>29</td>\n",
       "      <td>77069</td>\n",
       "      <td>2</td>\n",
       "      <td>2</td>\n",
       "      <td>29.988455</td>\n",
       "      <td>-95.531200</td>\n",
       "      <td>4</td>\n",
       "      <td>297914</td>\n",
       "    </tr>\n",
       "    <tr>\n",
       "      <th>30</th>\n",
       "      <td>30</td>\n",
       "      <td>77080</td>\n",
       "      <td>62</td>\n",
       "      <td>21</td>\n",
       "      <td>29.815894</td>\n",
       "      <td>-95.522885</td>\n",
       "      <td>83</td>\n",
       "      <td>290979</td>\n",
       "    </tr>\n",
       "    <tr>\n",
       "      <th>31</th>\n",
       "      <td>31</td>\n",
       "      <td>77336</td>\n",
       "      <td>4</td>\n",
       "      <td>3</td>\n",
       "      <td>30.063168</td>\n",
       "      <td>-95.098858</td>\n",
       "      <td>7</td>\n",
       "      <td>281376</td>\n",
       "    </tr>\n",
       "  </tbody>\n",
       "</table>\n",
       "</div>"
      ],
      "text/plain": [
       "    index    ZIP  Non-Violet Ct  Violet Ct        LAT        LNG  Total Ct  \\\n",
       "27     27  77003             54          7  29.749778 -95.345885        61   \n",
       "28     28  77043             45         15  29.810930 -95.584639        60   \n",
       "29     29  77069              2          2  29.988455 -95.531200         4   \n",
       "30     30  77080             62         21  29.815894 -95.522885        83   \n",
       "31     31  77336              4          3  30.063168 -95.098858         7   \n",
       "\n",
       "   Low Est  \n",
       "27  304619  \n",
       "28  299762  \n",
       "29  297914  \n",
       "30  290979  \n",
       "31  281376  "
      ]
     },
     "execution_count": 15,
     "metadata": {},
     "output_type": "execute_result"
    }
   ],
   "source": [
    "# Get dataframe for low estimate value \n",
    "low_est_and_crime = prop_and_crime.drop([\"estimate\", \"High Est\"], axis=1).dropna(how=\"any\")\n",
    "\n",
    "# Preview \"high_est_and_crime\"\n",
    "low_est_and_crime.head()"
   ]
  },
  {
   "cell_type": "code",
   "execution_count": 16,
   "metadata": {},
   "outputs": [
    {
     "data": {
      "text/plain": [
       "False"
      ]
     },
     "execution_count": 16,
     "metadata": {},
     "output_type": "execute_result"
    }
   ],
   "source": [
    "# Check if the variances of non-violet crime counts in high and low estimate groups are equal\n",
    "non_violet_by_est_ftest = ftest_p_cdf(high_est_and_crime[\"Non-Violet Ct\"], low_est_and_crime[\"Non-Violet Ct\"])\n",
    "\n",
    "# Show the result of ftest\n",
    "non_violet_by_est_ftest"
   ]
  },
  {
   "cell_type": "code",
   "execution_count": 17,
   "metadata": {},
   "outputs": [
    {
     "name": "stdout",
     "output_type": "stream",
     "text": [
      "The non-violet crime counts between low and high estimates group are statistically different!\n"
     ]
    }
   ],
   "source": [
    "# Check if non-violet crime counts in high and low estimate groups are different under the given ftest result\n",
    "non_violet_by_est_ttest = ttest(high_est_and_crime[\"Non-Violet Ct\"], low_est_and_crime[\"Non-Violet Ct\"], non_violet_by_est_ftest)\n",
    "\n",
    "# Show the result of test\n",
    "if non_violet_by_est_ttest:\n",
    "    print(\"The non-violet crime counts between low and high estimates group are statistically different!\")\n",
    "else:\n",
    "    print(\"The non-violet crime counts between low and high estimates group are not different!\")"
   ]
  },
  {
   "cell_type": "code",
   "execution_count": 18,
   "metadata": {},
   "outputs": [
    {
     "data": {
      "text/plain": [
       "False"
      ]
     },
     "execution_count": 18,
     "metadata": {},
     "output_type": "execute_result"
    }
   ],
   "source": [
    "# Check if the variances of violet crime counts in high and low estimate groups are equal\n",
    "violet_by_est_ftest = ftest_p_cdf(high_est_and_crime[\"Violet Ct\"], low_est_and_crime[\"Violet Ct\"])\n",
    "\n",
    "# Show the result of ftest\n",
    "violet_by_est_ftest"
   ]
  },
  {
   "cell_type": "code",
   "execution_count": 19,
   "metadata": {},
   "outputs": [
    {
     "name": "stdout",
     "output_type": "stream",
     "text": [
      "The violet crime counts between low and high estimates group are not different!\n"
     ]
    }
   ],
   "source": [
    "# Check if violet crime counts in high and low estimate groups are different under the given ftest result\n",
    "violet_by_est_ttest = ttest(high_est_and_crime[\"Violet Ct\"], low_est_and_crime[\"Violet Ct\"], violet_by_est_ftest)\n",
    "\n",
    "# Show the result of test\n",
    "if violet_by_est_ttest:\n",
    "    print(\"The violet crime counts between low and high estimates group are statistically different!\")\n",
    "else:\n",
    "    print(\"The violet crime counts between low and high estimates group are not different!\")"
   ]
  },
  {
   "cell_type": "code",
   "execution_count": 20,
   "metadata": {},
   "outputs": [],
   "source": [
    "non_violet_bargraph = [low_est_and_crime[\"Non-Violet Ct\"].mean(), high_est_and_crime[\"Non-Violet Ct\"].mean()]\n",
    "\n",
    "non_violet_err = [low_est_and_crime[\"Non-Violet Ct\"].sem(), high_est_and_crime[\"Non-Violet Ct\"].sem()]\n",
    "\n",
    "x_axis = np.arange(len(non_violet_bargraph))"
   ]
  },
  {
   "cell_type": "code",
   "execution_count": 21,
   "metadata": {},
   "outputs": [
    {
     "data": {
      "image/png": "[encoded data removed]",
      "text/plain": [
       "<Figure size 432x288 with 1 Axes>"
      ]
     },
     "metadata": {
      "needs_background": "light"
     },
     "output_type": "display_data"
    }
   ],
   "source": [
    "bar = plt.bar(x_axis, non_violet_bargraph, yerr=non_violet_err, capsize=10, color='r', align='center')\n",
    "bar[0].set_color('g')\n",
    "\n",
    "x = [value for value in x_axis]\n",
    "plt.xticks(x, [\"Low Est\", \"High Est\"])\n",
    "plt.ylim(0, max(non_violet_bargraph) + 20)\n",
    "plt.title(\"Non-Violet Crime Counts in Zipcodes with Low and High House Price\")\n",
    "plt.ylabel(\"Non-Violet Crime Counts\")\n",
    "\n",
    "# Save figure\n",
    "plt.savefig(\"../data/cleandata/Non-Violet Crime Ct (Low vs High House Price).png\", dpi=300)\n"
   ]
  },
  {
   "cell_type": "code",
   "execution_count": 22,
   "metadata": {},
   "outputs": [],
   "source": [
    "violet_bargraph = [low_est_and_crime[\"Violet Ct\"].mean(), high_est_and_crime[\"Violet Ct\"].mean()]\n",
    "\n",
    "violet_err = [low_est_and_crime[\"Violet Ct\"].sem(), high_est_and_crime[\"Violet Ct\"].sem()]\n",
    "\n",
    "x_axis = np.arange(len(violet_bargraph))"
   ]
  },
  {
   "cell_type": "code",
   "execution_count": 23,
   "metadata": {},
   "outputs": [
    {
     "data": {
      "image/png": "[encoded data removed]",
      "text/plain": [
       "<Figure size 432x288 with 1 Axes>"
      ]
     },
     "metadata": {
      "needs_background": "light"
     },
     "output_type": "display_data"
    }
   ],
   "source": [
    "bar = plt.bar(x_axis, violet_bargraph, yerr=violet_err, capsize=10, color='r', align='center')\n",
    "bar[0].set_color('g')\n",
    "\n",
    "x = [value for value in x_axis]\n",
    "plt.xticks(x, [\"Low Est\", \"High Est\"])\n",
    "plt.ylim(0, max(violet_bargraph) + 3)\n",
    "plt.title(\"Violet Crime Counts in Zipcodes with Low and High House Price\")\n",
    "plt.ylabel(\"Violet Crime Counts\")\n",
    "\n",
    "# Save figure\n",
    "plt.savefig(\"../data/cleandata/Violet Crime Ct (Low vs High House Price).png\", dpi=300)"
   ]
  },
  {
   "cell_type": "markdown",
   "metadata": {},
   "source": [
    "##### Correlation between Crime Counts and House Prices"
   ]
  },
  {
   "cell_type": "code",
   "execution_count": 24,
   "metadata": {},
   "outputs": [
    {
     "data": {
      "image/png": "[encoded data removed]",
      "text/plain": [
       "<Figure size 432x288 with 2 Axes>"
      ]
     },
     "metadata": {
      "needs_background": "light"
     },
     "output_type": "display_data"
    }
   ],
   "source": [
    "fig, ax1 = plt.subplots()\n",
    "ax1.plot(prop_and_crime[\"index\"], (prop_and_crime[\"estimate\"] / 1000000), label=\"House Price\")\n",
    "ax1.set_ylabel(\"House Price (Millions USD)\")\n",
    "ax1.legend(loc=2)\n",
    "ax2=ax1.twinx()\n",
    "ax2.scatter(prop_and_crime[\"index\"], prop_and_crime[\"Total Ct\"], facecolors='red', edgecolors='black', label=\"Total Crime Counts\")\n",
    "ax2.set_ylabel(\"Crime Counts\")\n",
    "ax2.legend(loc=1)\n",
    "\n",
    "plt.title(\"Total Crime Counts vs. House Price by Zipcodes\")\n",
    "\n",
    "# Save figure\n",
    "plt.savefig(\"../data/cleandata/Total Crime Counts vs. House Price.png\", dpi=300)"
   ]
  },
  {
   "cell_type": "code",
   "execution_count": 25,
   "metadata": {},
   "outputs": [
    {
     "name": "stdout",
     "output_type": "stream",
     "text": [
      "0.20127516610039978\n",
      "[[7.11225287e+10 2.80326021e+06]\n",
      " [2.80326021e+06 2.72733979e+03]]\n",
      "(0.2012751661003997, 0.04688412179508718)\n",
      "SpearmanrResult(correlation=0.20799352357027262, pvalue=0.039864926577994196)\n"
     ]
    }
   ],
   "source": [
    "correlation=prop_and_crime['estimate'].corr(prop_and_crime[\"Total Ct\"])\n",
    "print(correlation)\n",
    "covariance = np.cov(prop_and_crime['estimate'], prop_and_crime[\"Total Ct\"])\n",
    "print(covariance)\n",
    "correlation2 = pearsonr(prop_and_crime['estimate'], prop_and_crime[\"Total Ct\"])\n",
    "print(correlation2)\n",
    "correlation3 = spearmanr(prop_and_crime['estimate'], prop_and_crime[\"Total Ct\"])\n",
    "print(correlation3)"
   ]
  },
  {
   "cell_type": "code",
   "execution_count": null,
   "metadata": {},
   "outputs": [],
   "source": []
  }
 ],
 "metadata": {
  "kernelspec": {
   "display_name": "Python 3",
   "language": "python",
   "name": "python3"
  },
  "language_info": {
   "codemirror_mode": {
    "name": "ipython",
    "version": 3
   },
   "file_extension": ".py",
   "mimetype": "text/x-python",
   "name": "python",
   "nbconvert_exporter": "python",
   "pygments_lexer": "ipython3",
   "version": "3.7.1"
  }
 },
 "nbformat": 4,
 "nbformat_minor": 2
}
