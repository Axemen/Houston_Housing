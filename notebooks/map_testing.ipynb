{
 "cells": [
  {
   "cell_type": "code",
   "execution_count": 90,
   "metadata": {},
   "outputs": [],
   "source": [
    "import gmaps\n",
    "from api_keys import gkey\n",
    "import gmaps.geojson_geometries\n",
    "import requests\n",
    "import json\n",
    "from matplotlib.cm import inferno\n",
    "from matplotlib.colors import to_hex\n",
    "import pandas as pd\n",
    "\n",
    "gmaps.configure(api_key=gkey)"
   ]
  },
  {
   "cell_type": "code",
   "execution_count": 2,
   "metadata": {},
   "outputs": [],
   "source": [
    "zip_geojson = requests.get('https://raw.githubusercontent.com/OpenDataDE/State-zip-code-GeoJSON/master/tx_texas_zip_codes_geo.min.json').content\n",
    "zip_geojson = json.loads(zip_geojson)"
   ]
  },
  {
   "cell_type": "code",
   "execution_count": 79,
   "metadata": {},
   "outputs": [
    {
     "data": {
      "text/html": [
       "<div>\n",
       "<style scoped>\n",
       "    .dataframe tbody tr th:only-of-type {\n",
       "        vertical-align: middle;\n",
       "    }\n",
       "\n",
       "    .dataframe tbody tr th {\n",
       "        vertical-align: top;\n",
       "    }\n",
       "\n",
       "    .dataframe thead th {\n",
       "        text-align: right;\n",
       "    }\n",
       "</style>\n",
       "<table border=\"1\" class=\"dataframe\">\n",
       "  <thead>\n",
       "    <tr style=\"text-align: right;\">\n",
       "      <th></th>\n",
       "      <th>lat</th>\n",
       "      <th>lng</th>\n",
       "      <th># Restaurants</th>\n",
       "      <th>zipcode</th>\n",
       "    </tr>\n",
       "  </thead>\n",
       "  <tbody>\n",
       "    <tr>\n",
       "      <th>0</th>\n",
       "      <td>29.756845</td>\n",
       "      <td>-95.365652</td>\n",
       "      <td>60</td>\n",
       "      <td>77002.0</td>\n",
       "    </tr>\n",
       "    <tr>\n",
       "      <th>1</th>\n",
       "      <td>29.724893</td>\n",
       "      <td>-95.363752</td>\n",
       "      <td>10</td>\n",
       "      <td>77004.0</td>\n",
       "    </tr>\n",
       "    <tr>\n",
       "      <th>2</th>\n",
       "      <td>29.749778</td>\n",
       "      <td>-95.345885</td>\n",
       "      <td>41</td>\n",
       "      <td>77003.0</td>\n",
       "    </tr>\n",
       "    <tr>\n",
       "      <th>3</th>\n",
       "      <td>29.740970</td>\n",
       "      <td>-95.391301</td>\n",
       "      <td>60</td>\n",
       "      <td>77006.0</td>\n",
       "    </tr>\n",
       "    <tr>\n",
       "      <th>4</th>\n",
       "      <td>29.718435</td>\n",
       "      <td>-95.423555</td>\n",
       "      <td>60</td>\n",
       "      <td>77005.0</td>\n",
       "    </tr>\n",
       "  </tbody>\n",
       "</table>\n",
       "</div>"
      ],
      "text/plain": [
       "         lat        lng  # Restaurants  zipcode\n",
       "0  29.756845 -95.365652             60  77002.0\n",
       "1  29.724893 -95.363752             10  77004.0\n",
       "2  29.749778 -95.345885             41  77003.0\n",
       "3  29.740970 -95.391301             60  77006.0\n",
       "4  29.718435 -95.423555             60  77005.0"
      ]
     },
     "execution_count": 79,
     "metadata": {},
     "output_type": "execute_result"
    }
   ],
   "source": [
    "restaraunt_df = pd.read_csv('../data/rawdata/restaurant_count_2.csv')\n",
    "restaraunt_df.head()"
   ]
  },
  {
   "cell_type": "code",
   "execution_count": 60,
   "metadata": {},
   "outputs": [],
   "source": [
    "zip_coord_df = pd.read_csv('../data/rawdata/zipcode_lat_lngs.csv')\n",
    "zip_coord_df = zip_coord_df.rename(index = str, columns = {'LAT':'lat', 'LNG': 'lng', 'ZIP':'zip'})"
   ]
  },
  {
   "cell_type": "code",
   "execution_count": 80,
   "metadata": {},
   "outputs": [],
   "source": [
    "harris_zips = []\n",
    "\n",
    "with open('../data/cleandata/County_Zips.json') as json_file:\n",
    "    data = json.load(json_file)\n",
    "    harris_zips = data['Harris']"
   ]
  },
  {
   "cell_type": "code",
   "execution_count": 81,
   "metadata": {},
   "outputs": [
    {
     "data": {
      "text/plain": [
       "146"
      ]
     },
     "execution_count": 81,
     "metadata": {},
     "output_type": "execute_result"
    }
   ],
   "source": [
    "len(harris_zips)"
   ]
  },
  {
   "cell_type": "code",
   "execution_count": 82,
   "metadata": {},
   "outputs": [],
   "source": [
    "for i in harris_zips:\n",
    "    i = str(i)"
   ]
  },
  {
   "cell_type": "code",
   "execution_count": 83,
   "metadata": {},
   "outputs": [
    {
     "data": {
      "text/plain": [
       "135"
      ]
     },
     "execution_count": 83,
     "metadata": {},
     "output_type": "execute_result"
    }
   ],
   "source": [
    "list_index = []\n",
    "\n",
    "for i in range(len(zip_geojson['features'])):\n",
    "    if zip_geojson['features'][i]['properties']['ZCTA5CE10'] not in str(harris_zips):\n",
    "        list_index.append(i)\n",
    "        \n",
    "for index in sorted(list_index, reverse=True): \n",
    "    del zip_geojson['features'][index]\n",
    "len(zip_geojson['features'])"
   ]
  },
  {
   "cell_type": "code",
   "execution_count": 95,
   "metadata": {},
   "outputs": [],
   "source": [
    "# We will need to scale the GINI values to lie between 0 and 1\n",
    "min_gini = min(harris_zips)\n",
    "max_gini = max(harris_zips)\n",
    "gini_range = max_gini - min_gini\n",
    "\n",
    "# def calculate_color(gini):\n",
    "#     \"\"\"\n",
    "#     Convert the GINI coefficient to a color\n",
    "#     \"\"\"\n",
    "#     # make gini a number between 0 and 1\n",
    "#     normalized_gini = (gini - min_gini) / gini_range\n",
    "\n",
    "#     # invert gini so that high inequality gives dark color\n",
    "#     inverse_gini = 1.0 - normalized_gini\n",
    "\n",
    "#     # transform the gini coefficient to a matplotlib color\n",
    "#     mpl_color = viridis(inverse_gini)\n",
    "\n",
    "#     # transform from a matplotlib color to a valid CSS color\n",
    "#     gmaps_color = to_hex(mpl_color, keep_alpha=False)\n",
    "\n",
    "#     return gmaps_color\n",
    "\n",
    "def calculate_colors(input_list):\n",
    "    _min = 0\n",
    "    _max = 60\n",
    "    _range = _max - _min\n",
    "    \n",
    "    result = []\n",
    "    \n",
    "    for i in input_list:\n",
    "        norm = (i - _min) / _range\n",
    "        \n",
    "        inverse = 1.0 - norm\n",
    "        mpl_color = inferno(inverse)\n",
    "        gmaps_color = to_hex(mpl_color, keep_alpha=False)\n",
    "        \n",
    "        result.append(gmaps_color)\n",
    "        \n",
    "    return result"
   ]
  },
  {
   "cell_type": "code",
   "execution_count": 96,
   "metadata": {},
   "outputs": [],
   "source": [
    "colors = calculate_colors(restaraunt_df['# Restaurants'])"
   ]
  },
  {
   "cell_type": "code",
   "execution_count": 15,
   "metadata": {},
   "outputs": [
    {
     "data": {
      "text/plain": [
       "135"
      ]
     },
     "execution_count": 15,
     "metadata": {},
     "output_type": "execute_result"
    }
   ],
   "source": [
    "len(zip_geojson['features'])"
   ]
  },
  {
   "cell_type": "code",
   "execution_count": 16,
   "metadata": {},
   "outputs": [],
   "source": [
    "# colors = []\n",
    "# index = 0\n",
    "# for i in range(len(zip_geojson['features'])):\n",
    "# #     country_name = feature['properties']['name']\n",
    "#     try:\n",
    "#         zipcode = int(zip_geojson['features'][i]['properties']['ZCTA5CE10'])\n",
    "#         color = calculate_color(zipcode)\n",
    "#     except KeyError:\n",
    "#         # no GINI for that country: return default color\n",
    "#         color = (0, 0, 0, 0.3)\n",
    "#     colors.append(color)\n",
    "#     index += 1\n",
    "\n"
   ]
  },
  {
   "cell_type": "code",
   "execution_count": 97,
   "metadata": {},
   "outputs": [
    {
     "data": {
      "application/vnd.jupyter.widget-view+json": {
       "model_id": "665d2d5aec3448cc8e4d7313f2210675",
       "version_major": 2,
       "version_minor": 0
      },
      "text/plain": [
       "Figure(layout=FigureLayout(height='420px'))"
      ]
     },
     "metadata": {},
     "output_type": "display_data"
    }
   ],
   "source": [
    "fig = gmaps.figure(map_type = 'HYBRID')\n",
    "\n",
    "gini_layer = gmaps.geojson_layer(\n",
    "    zip_geojson,\n",
    "    fill_color=colors,\n",
    "    stroke_color=colors,\n",
    "    fill_opacity=0.8)\n",
    "zip_layer = gmaps.geojson_layer(zip_geojson)\n",
    "restaraunt_layer = gmaps.heatmap_layer(restaraunt_df[['lat', 'lng']], weights = restaraunt_df['# Restaurants'])\n",
    "# fig.add_layer(restaraunt_layer)\n",
    "fig.add_layer(zip_layer)\n",
    "fig.add_layer(gini_layer)\n",
    "fig"
   ]
  },
  {
   "cell_type": "code",
   "execution_count": null,
   "metadata": {},
   "outputs": [],
   "source": []
  },
  {
   "cell_type": "code",
   "execution_count": null,
   "metadata": {},
   "outputs": [],
   "source": []
  }
 ],
 "metadata": {
  "kernelspec": {
   "display_name": "Python 3",
   "language": "python",
   "name": "python3"
  },
  "language_info": {
   "codemirror_mode": {
    "name": "ipython",
    "version": 3
   },
   "file_extension": ".py",
   "mimetype": "text/x-python",
   "name": "python",
   "nbconvert_exporter": "python",
   "pygments_lexer": "ipython3",
   "version": "3.7.0"
  }
 },
 "nbformat": 4,
 "nbformat_minor": 2
}
