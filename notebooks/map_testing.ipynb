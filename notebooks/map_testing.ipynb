{
 "cells": [
  {
   "cell_type": "code",
   "execution_count": 46,
   "metadata": {},
   "outputs": [],
   "source": [
    "import gmaps\n",
    "from api_keys import gkey\n",
    "import gmaps.geojson_geometries\n",
    "import requests\n",
    "import json\n",
    "from matplotlib.cm import viridis\n",
    "from matplotlib.colors import to_hex\n",
    "\n",
    "gmaps.configure(api_key=gkey)"
   ]
  },
  {
   "cell_type": "code",
   "execution_count": 29,
   "metadata": {},
   "outputs": [],
   "source": [
    "zip_geojson = requests.get('https://raw.githubusercontent.com/OpenDataDE/State-zip-code-GeoJSON/master/tx_texas_zip_codes_geo.min.json').content\n",
    "zip_geojson = json.loads(zip_geojson)"
   ]
  },
  {
   "cell_type": "code",
   "execution_count": 30,
   "metadata": {},
   "outputs": [],
   "source": [
    "harris_zips = []\n",
    "\n",
    "with open('../data/cleandata/County_Zips.json') as json_file:\n",
    "    data = json.load(json_file)\n",
    "    harris_zips = data['Harris']"
   ]
  },
  {
   "cell_type": "code",
   "execution_count": 31,
   "metadata": {},
   "outputs": [
    {
     "data": {
      "text/plain": [
       "146"
      ]
     },
     "execution_count": 31,
     "metadata": {},
     "output_type": "execute_result"
    }
   ],
   "source": [
    "len(harris_zips)"
   ]
  },
  {
   "cell_type": "code",
   "execution_count": 32,
   "metadata": {},
   "outputs": [],
   "source": [
    "for i in harris_zips:\n",
    "    i = str(i)"
   ]
  },
  {
   "cell_type": "code",
   "execution_count": 33,
   "metadata": {},
   "outputs": [
    {
     "data": {
      "text/plain": [
       "135"
      ]
     },
     "execution_count": 33,
     "metadata": {},
     "output_type": "execute_result"
    }
   ],
   "source": [
    "list_index = []\n",
    "\n",
    "for i in range(len(zip_geojson['features'])):\n",
    "    if zip_geojson['features'][i]['properties']['ZCTA5CE10'] not in str(harris_zips):\n",
    "        list_index.append(i)\n",
    "        \n",
    "for index in sorted(list_index, reverse=True): \n",
    "    del zip_geojson['features'][index]\n",
    "len(zip_geojson['features'])"
   ]
  },
  {
   "cell_type": "code",
   "execution_count": 34,
   "metadata": {},
   "outputs": [],
   "source": [
    "# We will need to scale the GINI values to lie between 0 and 1\n",
    "min_gini = min(harris_zips)\n",
    "max_gini = max(harris_zips)\n",
    "gini_range = max_gini - min_gini\n",
    "\n",
    "def calculate_color(gini):\n",
    "    \"\"\"\n",
    "    Convert the GINI coefficient to a color\n",
    "    \"\"\"\n",
    "    # make gini a number between 0 and 1\n",
    "    normalized_gini = (gini - min_gini) / gini_range\n",
    "\n",
    "    # invert gini so that high inequality gives dark color\n",
    "    inverse_gini = 1.0 - normalized_gini\n",
    "\n",
    "    # transform the gini coefficient to a matplotlib color\n",
    "    mpl_color = viridis(inverse_gini)\n",
    "\n",
    "    # transform from a matplotlib color to a valid CSS color\n",
    "    gmaps_color = to_hex(mpl_color, keep_alpha=False)\n",
    "\n",
    "    return gmaps_color"
   ]
  },
  {
   "cell_type": "code",
   "execution_count": 40,
   "metadata": {},
   "outputs": [
    {
     "data": {
      "text/plain": [
       "135"
      ]
     },
     "execution_count": 40,
     "metadata": {},
     "output_type": "execute_result"
    }
   ],
   "source": [
    "len(zip_geojson['features'])"
   ]
  },
  {
   "cell_type": "code",
   "execution_count": 42,
   "metadata": {},
   "outputs": [],
   "source": [
    "colors = []\n",
    "index = 0\n",
    "for i in range(len(zip_geojson['features'])):\n",
    "#     country_name = feature['properties']['name']\n",
    "    try:\n",
    "        zipcode = int(zip_geojson['features'][i]['properties']['ZCTA5CE10'])\n",
    "        color = calculate_color(zipcode)\n",
    "    except KeyError:\n",
    "        # no GINI for that country: return default color\n",
    "        color = (0, 0, 0, 0.3)\n",
    "    colors.append(color)\n",
    "    index += 1"
   ]
  },
  {
   "cell_type": "code",
   "execution_count": 45,
   "metadata": {},
   "outputs": [
    {
     "data": {
      "application/vnd.jupyter.widget-view+json": {
       "model_id": "e9c96a3f7b12452695cd907991c4d1df",
       "version_major": 2,
       "version_minor": 0
      },
      "text/plain": [
       "Figure(layout=FigureLayout(height='420px'))"
      ]
     },
     "metadata": {},
     "output_type": "display_data"
    }
   ],
   "source": [
    "fig = gmaps.figure()\n",
    "# countries_geojson = gmaps.geojson_geometries.load_geometry('zipcodes')\n",
    "gini_layer = gmaps.geojson_layer(\n",
    "    zip_geojson,\n",
    "    fill_color=colors,\n",
    "    stroke_color=colors,\n",
    "    fill_opacity=0.8)\n",
    "zip_layer = gmaps.geojson_layer(zip_geojson)\n",
    "fig.add_layer(zip_layer)\n",
    "fig.add_layer(gini_layer)\n",
    "fig"
   ]
  },
  {
   "cell_type": "code",
   "execution_count": null,
   "metadata": {},
   "outputs": [],
   "source": []
  },
  {
   "cell_type": "code",
   "execution_count": null,
   "metadata": {},
   "outputs": [],
   "source": []
  }
 ],
 "metadata": {
  "kernelspec": {
   "display_name": "Python 3",
   "language": "python",
   "name": "python3"
  },
  "language_info": {
   "codemirror_mode": {
    "name": "ipython",
    "version": 3
   },
   "file_extension": ".py",
   "mimetype": "text/x-python",
   "name": "python",
   "nbconvert_exporter": "python",
   "pygments_lexer": "ipython3",
   "version": "3.7.0"
  }
 },
 "nbformat": 4,
 "nbformat_minor": 2
}
