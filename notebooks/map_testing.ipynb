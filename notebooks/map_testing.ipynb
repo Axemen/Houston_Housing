{
 "cells": [
  {
   "cell_type": "code",
<<<<<<< HEAD
   "execution_count": 14,
=======
   "execution_count": 287,
>>>>>>> 340f7ba7b828ff1590d5ea8a6979d43d1165a07e
   "metadata": {},
   "outputs": [],
   "source": [
    "import gmaps\n",
    "from api_keys import gkey_jr\n",
    "import gmaps.geojson_geometries\n",
    "import requests\n",
    "import json\n",
    "from matplotlib.cm import Wistia\n",
    "from matplotlib.colors import to_hex\n",
    "import pandas as pd\n",
    "\n",
    "gmaps.configure(api_key=gkey_jr)"
   ]
  },
  {
   "cell_type": "code",
<<<<<<< HEAD
   "execution_count": 15,
=======
   "execution_count": 288,
>>>>>>> 340f7ba7b828ff1590d5ea8a6979d43d1165a07e
   "metadata": {},
   "outputs": [],
   "source": [
    "zip_geojson = requests.get('https://raw.githubusercontent.com/OpenDataDE/State-zip-code-GeoJSON/master/tx_texas_zip_codes_geo.min.json').content\n",
    "zip_geojson = json.loads(zip_geojson)"
   ]
  },
  {
   "cell_type": "code",
<<<<<<< HEAD
   "execution_count": 16,
=======
   "execution_count": 289,
>>>>>>> 340f7ba7b828ff1590d5ea8a6979d43d1165a07e
   "metadata": {},
   "outputs": [
    {
     "data": {
      "text/html": [
       "<div>\n",
       "<style scoped>\n",
       "    .dataframe tbody tr th:only-of-type {\n",
       "        vertical-align: middle;\n",
       "    }\n",
       "\n",
       "    .dataframe tbody tr th {\n",
       "        vertical-align: top;\n",
       "    }\n",
       "\n",
       "    .dataframe thead th {\n",
       "        text-align: right;\n",
       "    }\n",
       "</style>\n",
       "<table border=\"1\" class=\"dataframe\">\n",
       "  <thead>\n",
       "    <tr style=\"text-align: right;\">\n",
       "      <th></th>\n",
       "      <th>lat</th>\n",
       "      <th>lng</th>\n",
       "      <th># Restaurants</th>\n",
       "      <th>zipcode</th>\n",
       "    </tr>\n",
       "  </thead>\n",
       "  <tbody>\n",
       "    <tr>\n",
       "      <th>0</th>\n",
       "      <td>29.756845</td>\n",
       "      <td>-95.365652</td>\n",
       "      <td>60</td>\n",
       "      <td>77002</td>\n",
       "    </tr>\n",
       "    <tr>\n",
       "      <th>1</th>\n",
       "      <td>29.724893</td>\n",
       "      <td>-95.363752</td>\n",
       "      <td>10</td>\n",
       "      <td>77004</td>\n",
       "    </tr>\n",
       "    <tr>\n",
       "      <th>2</th>\n",
       "      <td>29.749778</td>\n",
       "      <td>-95.345885</td>\n",
       "      <td>41</td>\n",
       "      <td>77003</td>\n",
       "    </tr>\n",
       "    <tr>\n",
       "      <th>3</th>\n",
       "      <td>29.740970</td>\n",
       "      <td>-95.391301</td>\n",
       "      <td>60</td>\n",
       "      <td>77006</td>\n",
       "    </tr>\n",
       "    <tr>\n",
       "      <th>4</th>\n",
       "      <td>29.718435</td>\n",
       "      <td>-95.423555</td>\n",
       "      <td>60</td>\n",
       "      <td>77005</td>\n",
       "    </tr>\n",
       "  </tbody>\n",
       "</table>\n",
       "</div>"
      ],
      "text/plain": [
       "         lat        lng  # Restaurants  zipcode\n",
       "0  29.756845 -95.365652             60    77002\n",
       "1  29.724893 -95.363752             10    77004\n",
       "2  29.749778 -95.345885             41    77003\n",
       "3  29.740970 -95.391301             60    77006\n",
       "4  29.718435 -95.423555             60    77005"
      ]
     },
<<<<<<< HEAD
     "execution_count": 16,
=======
     "execution_count": 289,
>>>>>>> 340f7ba7b828ff1590d5ea8a6979d43d1165a07e
     "metadata": {},
     "output_type": "execute_result"
    }
   ],
   "source": [
    "restaraunt_df = pd.read_csv('../data/rawdata/restaurant_count_2.csv')\n",
    "restaraunt_df.head()"
   ]
  },
  {
   "cell_type": "code",
<<<<<<< HEAD
   "execution_count": 17,
=======
   "execution_count": 290,
   "metadata": {},
   "outputs": [
    {
     "data": {
      "text/html": [
       "<div>\n",
       "<style scoped>\n",
       "    .dataframe tbody tr th:only-of-type {\n",
       "        vertical-align: middle;\n",
       "    }\n",
       "\n",
       "    .dataframe tbody tr th {\n",
       "        vertical-align: top;\n",
       "    }\n",
       "\n",
       "    .dataframe thead th {\n",
       "        text-align: right;\n",
       "    }\n",
       "</style>\n",
       "<table border=\"1\" class=\"dataframe\">\n",
       "  <thead>\n",
       "    <tr style=\"text-align: right;\">\n",
       "      <th></th>\n",
       "      <th>zipcode</th>\n",
       "      <th>Non-Violet Ct</th>\n",
       "      <th>Violet Ct</th>\n",
       "      <th>LAT</th>\n",
       "      <th>LNG</th>\n",
       "      <th>Total Ct</th>\n",
       "    </tr>\n",
       "  </thead>\n",
       "  <tbody>\n",
       "    <tr>\n",
       "      <th>0</th>\n",
       "      <td>77002</td>\n",
       "      <td>148</td>\n",
       "      <td>32</td>\n",
       "      <td>29.756845</td>\n",
       "      <td>-95.365652</td>\n",
       "      <td>180</td>\n",
       "    </tr>\n",
       "    <tr>\n",
       "      <th>1</th>\n",
       "      <td>77003</td>\n",
       "      <td>54</td>\n",
       "      <td>7</td>\n",
       "      <td>29.749778</td>\n",
       "      <td>-95.345885</td>\n",
       "      <td>61</td>\n",
       "    </tr>\n",
       "    <tr>\n",
       "      <th>2</th>\n",
       "      <td>77004</td>\n",
       "      <td>131</td>\n",
       "      <td>42</td>\n",
       "      <td>29.724893</td>\n",
       "      <td>-95.363752</td>\n",
       "      <td>173</td>\n",
       "    </tr>\n",
       "    <tr>\n",
       "      <th>3</th>\n",
       "      <td>77005</td>\n",
       "      <td>30</td>\n",
       "      <td>1</td>\n",
       "      <td>29.718435</td>\n",
       "      <td>-95.423555</td>\n",
       "      <td>31</td>\n",
       "    </tr>\n",
       "    <tr>\n",
       "      <th>4</th>\n",
       "      <td>77006</td>\n",
       "      <td>131</td>\n",
       "      <td>16</td>\n",
       "      <td>29.740970</td>\n",
       "      <td>-95.391301</td>\n",
       "      <td>147</td>\n",
       "    </tr>\n",
       "  </tbody>\n",
       "</table>\n",
       "</div>"
      ],
      "text/plain": [
       "   zipcode  Non-Violet Ct  Violet Ct        LAT        LNG  Total Ct\n",
       "0    77002            148         32  29.756845 -95.365652       180\n",
       "1    77003             54          7  29.749778 -95.345885        61\n",
       "2    77004            131         42  29.724893 -95.363752       173\n",
       "3    77005             30          1  29.718435 -95.423555        31\n",
       "4    77006            131         16  29.740970 -95.391301       147"
      ]
     },
     "execution_count": 290,
     "metadata": {},
     "output_type": "execute_result"
    }
   ],
   "source": [
    "crime_df = pd.read_csv('../data/cleandata/Harris_County_Crime_Ct_by_zipcode.csv')\n",
    "crime_df = crime_df.rename(columns={'ZIP':'zipcode'})\n",
    "crime_df.head()\n"
   ]
  },
  {
   "cell_type": "code",
   "execution_count": 291,
>>>>>>> 340f7ba7b828ff1590d5ea8a6979d43d1165a07e
   "metadata": {},
   "outputs": [],
   "source": [
    "zip_coord_df = pd.read_csv('../data/rawdata/zipcode_lat_lngs.csv')\n",
    "zip_coord_df = zip_coord_df.rename(index = str, columns = {'LAT':'lat', 'LNG': 'lng', 'ZIP':'zip'})"
   ]
  },
  {
   "cell_type": "code",
<<<<<<< HEAD
   "execution_count": 18,
=======
   "execution_count": 292,
>>>>>>> 340f7ba7b828ff1590d5ea8a6979d43d1165a07e
   "metadata": {},
   "outputs": [],
   "source": [
    "harris_zips = []\n",
    "\n",
    "with open('../data/cleandata/County_Zips.json') as json_file:\n",
    "    data = json.load(json_file)\n",
    "    harris_zips = data['Harris']"
   ]
  },
  {
   "cell_type": "code",
<<<<<<< HEAD
   "execution_count": 19,
=======
   "execution_count": 306,
>>>>>>> 340f7ba7b828ff1590d5ea8a6979d43d1165a07e
   "metadata": {},
   "outputs": [
    {
     "data": {
      "text/plain": [
       "146"
      ]
     },
<<<<<<< HEAD
     "execution_count": 19,
=======
     "execution_count": 306,
>>>>>>> 340f7ba7b828ff1590d5ea8a6979d43d1165a07e
     "metadata": {},
     "output_type": "execute_result"
    }
   ],
   "source": [
    "len(harris_zips)"
   ]
  },
  {
   "cell_type": "code",
<<<<<<< HEAD
   "execution_count": 20,
=======
   "execution_count": 311,
>>>>>>> 340f7ba7b828ff1590d5ea8a6979d43d1165a07e
   "metadata": {},
   "outputs": [],
   "source": [
    "for i in harris_zips:\n",
    "    i = str(i)\n",
    "for i in restaraunt_df['zipcode']:\n",
    "    i = str(i)"
   ]
  },
  {
   "cell_type": "code",
<<<<<<< HEAD
   "execution_count": 21,
=======
   "execution_count": 312,
>>>>>>> 340f7ba7b828ff1590d5ea8a6979d43d1165a07e
   "metadata": {},
   "outputs": [
    {
     "data": {
      "text/plain": [
       "135"
      ]
     },
<<<<<<< HEAD
     "execution_count": 21,
=======
     "execution_count": 312,
>>>>>>> 340f7ba7b828ff1590d5ea8a6979d43d1165a07e
     "metadata": {},
     "output_type": "execute_result"
    }
   ],
   "source": [
    "list_index = []\n",
    "\n",
    "for i in range(len(zip_geojson['features'])):\n",
    "    if zip_geojson['features'][i]['properties']['ZCTA5CE10'] not in str(harris_zips):\n",
    "        list_index.append(i)\n",
    "        \n",
    "for index in sorted(list_index, reverse=True): \n",
    "    del zip_geojson['features'][index]\n",
    "len(zip_geojson['features'])"
   ]
  },
  {
   "cell_type": "code",
<<<<<<< HEAD
   "execution_count": 22,
=======
   "execution_count": 313,
   "metadata": {},
   "outputs": [
    {
     "data": {
      "text/plain": [
       "135"
      ]
     },
     "execution_count": 313,
     "metadata": {},
     "output_type": "execute_result"
    }
   ],
   "source": [
    "zip_list = []\n",
    "for i in range(len(zip_geojson['features'])):\n",
    "    zip_list.append(int(zip_geojson['features'][i]['properties']['ZCTA5CE10']))\n",
    "    \n",
    "len(zip_list)"
   ]
  },
  {
   "cell_type": "code",
   "execution_count": 326,
   "metadata": {},
   "outputs": [
    {
     "name": "stdout",
     "output_type": "stream",
     "text": [
      "77002, 77002\n",
      "77003, 77003\n",
      "77004, 77004\n",
      "77005, 77005\n",
      "77006, 77006\n",
      "77007, 77007\n",
      "77008, 77008\n",
      "77009, 77009\n",
      "77010, 77010\n",
      "77011, 77011\n",
      "77012, 77012\n",
      "77013, 77013\n",
      "77014, 77014\n",
      "77015, 77015\n",
      "77016, 77016\n",
      "77017, 77017\n",
      "77018, 77018\n",
      "77019, 77019\n",
      "77020, 77020\n",
      "77021, 77021\n",
      "77022, 77022\n",
      "77023, 77023\n",
      "77024, 77024\n",
      "77025, 77025\n",
      "77026, 77026\n",
      "77027, 77027\n",
      "77028, 77028\n",
      "77029, 77029\n",
      "77030, 77030\n",
      "77031, 77031\n",
      "77032, 77032\n",
      "77033, 77033\n",
      "77034, 77034\n",
      "77035, 77035\n",
      "77036, 77036\n",
      "77037, 77037\n",
      "77038, 77038\n",
      "77039, 77039\n",
      "77040, 77040\n",
      "77041, 77041\n",
      "77042, 77042\n",
      "77043, 77043\n",
      "77044, 77044\n",
      "77045, 77045\n",
      "77046, 77046\n",
      "77047, 77047\n",
      "77048, 77048\n",
      "77049, 77049\n",
      "77050, 77050\n",
      "77051, 77051\n",
      "77053, 77053\n",
      "77054, 77054\n",
      "77055, 77055\n",
      "77056, 77056\n",
      "77057, 77057\n",
      "77058, 77058\n",
      "77059, 77059\n",
      "77060, 77060\n",
      "77061, 77061\n",
      "77062, 77062\n",
      "77063, 77063\n",
      "77064, 77064\n",
      "77065, 77065\n",
      "77066, 77066\n",
      "77067, 77067\n",
      "77068, 77068\n",
      "77069, 77069\n",
      "77070, 77070\n",
      "77071, 77071\n",
      "77072, 77072\n",
      "77073, 77073\n",
      "77074, 77074\n",
      "77075, 77075\n",
      "77076, 77076\n",
      "77077, 77077\n",
      "77078, 77078\n",
      "77079, 77079\n",
      "77080, 77080\n",
      "77081, 77081\n",
      "77082, 77082\n",
      "77083, 77083\n",
      "77084, 77084\n",
      "77085, 77085\n",
      "77086, 77086\n",
      "77087, 77087\n",
      "77088, 77088\n",
      "77089, 77089\n",
      "77090, 77090\n",
      "77091, 77091\n",
      "77092, 77092\n",
      "77093, 77093\n",
      "77094, 77094\n",
      "77095, 77095\n",
      "77096, 77096\n",
      "77098, 77098\n",
      "77099, 77099\n",
      "77336, 77336\n",
      "77338, 77338\n",
      "77339, 77339\n",
      "77345, 77345\n",
      "77346, 77346\n",
      "77357, 77357\n",
      "77373, 77373\n",
      "77375, 77375\n",
      "77377, 77377\n",
      "77379, 77379\n",
      "77388, 77388\n",
      "77389, 77389\n",
      "77396, 77396\n",
      "77401, 77401\n",
      "77429, 77429\n",
      "77433, 77433\n",
      "77447, 77447\n",
      "77449, 77449\n",
      "77450, 77450\n",
      "77484, 77484\n",
      "77493, 77493\n",
      "77502, 77502\n",
      "77503, 77503\n",
      "77504, 77504\n",
      "77505, 77505\n",
      "77506, 77506\n",
      "77507, 77507\n",
      "77520, 77520\n",
      "77521, 77521\n",
      "77530, 77530\n",
      "77532, 77532\n",
      "77536, 77536\n",
      "77546, 77546\n",
      "77547, 77547\n",
      "77562, 77562\n",
      "77571, 77571\n",
      "77586, 77586\n",
      "77587, 77587\n",
      "77598, 77598\n"
     ]
    }
   ],
   "source": [
    "rest_zips = restaraunt_df['zipcode'].tolist()\n",
    "rest_zips.sort()\n",
    "zip_list.sort()\n",
    "for i in range(len(rest_zips)):\n",
    "    print(f'{rest_zips[i]}, {zip_list[i]}')"
   ]
  },
  {
   "cell_type": "code",
   "execution_count": 337,
   "metadata": {},
   "outputs": [],
   "source": [
    "merge_df = pd.DataFrame()"
   ]
  },
  {
   "cell_type": "code",
   "execution_count": 338,
   "metadata": {},
   "outputs": [
    {
     "data": {
      "text/plain": [
       "135"
      ]
     },
     "execution_count": 338,
     "metadata": {},
     "output_type": "execute_result"
    }
   ],
   "source": [
    "merge_df['zipcode'] = zip_list\n",
    "len(merge_df)"
   ]
  },
  {
   "cell_type": "code",
   "execution_count": 339,
   "metadata": {},
   "outputs": [
    {
     "data": {
      "text/plain": [
       "135"
      ]
     },
     "execution_count": 339,
     "metadata": {},
     "output_type": "execute_result"
    }
   ],
   "source": [
    "merge_df = merge_df.merge(restaraunt_df, on = 'zipcode')\n",
    "len(merge_df)"
   ]
  },
  {
   "cell_type": "code",
   "execution_count": 340,
   "metadata": {},
   "outputs": [
    {
     "data": {
      "text/html": [
       "<div>\n",
       "<style scoped>\n",
       "    .dataframe tbody tr th:only-of-type {\n",
       "        vertical-align: middle;\n",
       "    }\n",
       "\n",
       "    .dataframe tbody tr th {\n",
       "        vertical-align: top;\n",
       "    }\n",
       "\n",
       "    .dataframe thead th {\n",
       "        text-align: right;\n",
       "    }\n",
       "</style>\n",
       "<table border=\"1\" class=\"dataframe\">\n",
       "  <thead>\n",
       "    <tr style=\"text-align: right;\">\n",
       "      <th></th>\n",
       "      <th>zipcode</th>\n",
       "      <th>lat</th>\n",
       "      <th>lng</th>\n",
       "      <th># Restaurants</th>\n",
       "      <th>non_violent</th>\n",
       "      <th>violent</th>\n",
       "      <th>total</th>\n",
       "    </tr>\n",
       "  </thead>\n",
       "  <tbody>\n",
       "    <tr>\n",
       "      <th>0</th>\n",
       "      <td>77002</td>\n",
       "      <td>29.756845</td>\n",
       "      <td>-95.365652</td>\n",
       "      <td>60</td>\n",
       "      <td>0</td>\n",
       "      <td>0</td>\n",
       "      <td>0</td>\n",
       "    </tr>\n",
       "    <tr>\n",
       "      <th>1</th>\n",
       "      <td>77003</td>\n",
       "      <td>29.749778</td>\n",
       "      <td>-95.345885</td>\n",
       "      <td>41</td>\n",
       "      <td>0</td>\n",
       "      <td>0</td>\n",
       "      <td>0</td>\n",
       "    </tr>\n",
       "    <tr>\n",
       "      <th>2</th>\n",
       "      <td>77004</td>\n",
       "      <td>29.724893</td>\n",
       "      <td>-95.363752</td>\n",
       "      <td>10</td>\n",
       "      <td>0</td>\n",
       "      <td>0</td>\n",
       "      <td>0</td>\n",
       "    </tr>\n",
       "    <tr>\n",
       "      <th>3</th>\n",
       "      <td>77005</td>\n",
       "      <td>29.718435</td>\n",
       "      <td>-95.423555</td>\n",
       "      <td>60</td>\n",
       "      <td>0</td>\n",
       "      <td>0</td>\n",
       "      <td>0</td>\n",
       "    </tr>\n",
       "    <tr>\n",
       "      <th>4</th>\n",
       "      <td>77006</td>\n",
       "      <td>29.740970</td>\n",
       "      <td>-95.391301</td>\n",
       "      <td>60</td>\n",
       "      <td>0</td>\n",
       "      <td>0</td>\n",
       "      <td>0</td>\n",
       "    </tr>\n",
       "  </tbody>\n",
       "</table>\n",
       "</div>"
      ],
      "text/plain": [
       "   zipcode        lat        lng  # Restaurants  non_violent  violent  total\n",
       "0    77002  29.756845 -95.365652             60            0        0      0\n",
       "1    77003  29.749778 -95.345885             41            0        0      0\n",
       "2    77004  29.724893 -95.363752             10            0        0      0\n",
       "3    77005  29.718435 -95.423555             60            0        0      0\n",
       "4    77006  29.740970 -95.391301             60            0        0      0"
      ]
     },
     "execution_count": 340,
     "metadata": {},
     "output_type": "execute_result"
    }
   ],
   "source": [
    "merge_df['non_violent'] = 0\n",
    "merge_df['violent'] = 0\n",
    "merge_df['total'] = 0\n",
    "merge_df.head()"
   ]
  },
  {
   "cell_type": "code",
   "execution_count": 351,
   "metadata": {},
   "outputs": [
    {
     "data": {
      "text/html": [
       "<div>\n",
       "<style scoped>\n",
       "    .dataframe tbody tr th:only-of-type {\n",
       "        vertical-align: middle;\n",
       "    }\n",
       "\n",
       "    .dataframe tbody tr th {\n",
       "        vertical-align: top;\n",
       "    }\n",
       "\n",
       "    .dataframe thead th {\n",
       "        text-align: right;\n",
       "    }\n",
       "</style>\n",
       "<table border=\"1\" class=\"dataframe\">\n",
       "  <thead>\n",
       "    <tr style=\"text-align: right;\">\n",
       "      <th></th>\n",
       "      <th>zipcode</th>\n",
       "      <th>lat</th>\n",
       "      <th>lng</th>\n",
       "      <th># Restaurants</th>\n",
       "      <th>non_violent</th>\n",
       "      <th>violent</th>\n",
       "      <th>total</th>\n",
       "    </tr>\n",
       "  </thead>\n",
       "  <tbody>\n",
       "    <tr>\n",
       "      <th>0</th>\n",
       "      <td>77002</td>\n",
       "      <td>29.756845</td>\n",
       "      <td>-95.365652</td>\n",
       "      <td>60</td>\n",
       "      <td>148</td>\n",
       "      <td>32</td>\n",
       "      <td>180</td>\n",
       "    </tr>\n",
       "    <tr>\n",
       "      <th>1</th>\n",
       "      <td>77003</td>\n",
       "      <td>29.749778</td>\n",
       "      <td>-95.345885</td>\n",
       "      <td>41</td>\n",
       "      <td>54</td>\n",
       "      <td>7</td>\n",
       "      <td>61</td>\n",
       "    </tr>\n",
       "    <tr>\n",
       "      <th>2</th>\n",
       "      <td>77004</td>\n",
       "      <td>29.724893</td>\n",
       "      <td>-95.363752</td>\n",
       "      <td>10</td>\n",
       "      <td>131</td>\n",
       "      <td>42</td>\n",
       "      <td>173</td>\n",
       "    </tr>\n",
       "    <tr>\n",
       "      <th>3</th>\n",
       "      <td>77005</td>\n",
       "      <td>29.718435</td>\n",
       "      <td>-95.423555</td>\n",
       "      <td>60</td>\n",
       "      <td>30</td>\n",
       "      <td>1</td>\n",
       "      <td>31</td>\n",
       "    </tr>\n",
       "    <tr>\n",
       "      <th>4</th>\n",
       "      <td>77006</td>\n",
       "      <td>29.740970</td>\n",
       "      <td>-95.391301</td>\n",
       "      <td>60</td>\n",
       "      <td>131</td>\n",
       "      <td>16</td>\n",
       "      <td>147</td>\n",
       "    </tr>\n",
       "  </tbody>\n",
       "</table>\n",
       "</div>"
      ],
      "text/plain": [
       "   zipcode        lat        lng  # Restaurants  non_violent  violent  total\n",
       "0    77002  29.756845 -95.365652             60          148       32    180\n",
       "1    77003  29.749778 -95.345885             41           54        7     61\n",
       "2    77004  29.724893 -95.363752             10          131       42    173\n",
       "3    77005  29.718435 -95.423555             60           30        1     31\n",
       "4    77006  29.740970 -95.391301             60          131       16    147"
      ]
     },
     "execution_count": 351,
     "metadata": {},
     "output_type": "execute_result"
    }
   ],
   "source": [
    "for i in range(len(merge_df)):\n",
    "    try:\n",
    "        merge_df.iat[i, 4] = crime_df.loc[crime_df['zipcode'] == merge_df.iloc[i, 0]].iloc[0, 1]\n",
    "        merge_df.iat[i, 5] = crime_df.loc[crime_df['zipcode'] == merge_df.iloc[i, 0]].iloc[0, 2]\n",
    "        merge_df.iat[i, 6] = crime_df.loc[crime_df['zipcode'] == merge_df.iloc[i, 0]].iloc[0, 5]\n",
    "\n",
    "    except IndexError:\n",
    "        continue\n",
    "merge_df.head()"
   ]
  },
  {
   "cell_type": "code",
   "execution_count": 352,
   "metadata": {},
   "outputs": [],
   "source": [
    "\n",
    "# for i in range(len(zip_geojson['features'])):\n",
    "#     temp = restaraunt_df.loc[restaraunt_df['zipcode'] == int(zip_geojson['features'][i]['properties']['ZCTA5CE10'])]\n",
    "#     merge_df = merge_df.append(temp)\n",
    "\n",
    "# merge_df['zipcode'] = zip_list\n",
    "\n",
    "# merge_df = merge_df.merge(restaraunt_df, on = 'zipcode')\n",
    "\n",
    "# merge_df = merge_df.merge(crime_df, on = 'zipcode')\n",
    "# merge_df = merge_df[['lat', 'lng', '# Restaurants', 'zipcode', 'Non-Violet Ct', 'Violet Ct', 'Total Ct']]\n",
    "# len(merge_df)"
   ]
  },
  {
   "cell_type": "code",
   "execution_count": 353,
>>>>>>> 340f7ba7b828ff1590d5ea8a6979d43d1165a07e
   "metadata": {},
   "outputs": [],
   "source": [
    "# We will need to scale the GINI values to lie between 0 and 1\n",
    "min_gini = min(harris_zips)\n",
    "max_gini = max(harris_zips)\n",
    "gini_range = max_gini - min_gini\n",
    "\n",
    "# def calculate_color(gini):\n",
    "#     \"\"\"\n",
    "#     Convert the GINI coefficient to a color\n",
    "#     \"\"\"\n",
    "#     # make gini a number between 0 and 1\n",
    "#     normalized_gini = (gini - min_gini) / gini_range\n",
    "\n",
    "#     # invert gini so that high inequality gives dark color\n",
    "#     inverse_gini = 1.0 - normalized_gini\n",
    "\n",
    "#     # transform the gini coefficient to a matplotlib color\n",
    "#     mpl_color = viridis(inverse_gini)\n",
    "\n",
    "#     # transform from a matplotlib color to a valid CSS color\n",
    "#     gmaps_color = to_hex(mpl_color, keep_alpha=False)\n",
    "\n",
    "#     return gmaps_color\n",
    "\n",
    "def calculate_colors(input_list):\n",
    "    #takes list as input\n",
    "    _min = min(input_list)\n",
    "    _max = max(input_list)\n",
    "    _range = _max - _min\n",
    "    \n",
    "    result = []\n",
    "    \n",
    "    for i in input_list:\n",
    "        norm = (i - _min) / _range\n",
    "        \n",
    "        inverse = 1.0 - norm\n",
    "        mpl_color = Wistia(norm)\n",
    "        gmaps_color = to_hex(mpl_color, keep_alpha=False)\n",
    "        if i == 0:\n",
    "            result.append('#ffffff')\n",
    "            continue\n",
    "        result.append(gmaps_color)\n",
    "        \n",
    "    return result"
   ]
  },
  {
   "cell_type": "code",
<<<<<<< HEAD
   "execution_count": 23,
=======
   "execution_count": 375,
>>>>>>> 340f7ba7b828ff1590d5ea8a6979d43d1165a07e
   "metadata": {},
   "outputs": [],
   "source": [
    "colors = calculate_colors(merge_df['# Restaurants'])\n",
    "crime_colors = calculate_colors(merge_df['total'])\n",
    "# crime_colors.pop()"
   ]
  },
  {
   "cell_type": "code",
<<<<<<< HEAD
   "execution_count": 24,
=======
   "execution_count": 356,
>>>>>>> 340f7ba7b828ff1590d5ea8a6979d43d1165a07e
   "metadata": {},
   "outputs": [
    {
     "data": {
      "text/plain": [
       "135"
      ]
     },
<<<<<<< HEAD
     "execution_count": 24,
=======
     "execution_count": 356,
>>>>>>> 340f7ba7b828ff1590d5ea8a6979d43d1165a07e
     "metadata": {},
     "output_type": "execute_result"
    }
   ],
   "source": [
    "len(zip_geojson['features'])"
   ]
  },
  {
   "cell_type": "code",
<<<<<<< HEAD
   "execution_count": 25,
=======
   "execution_count": 357,
   "metadata": {},
   "outputs": [
    {
     "data": {
      "text/plain": [
       "135"
      ]
     },
     "execution_count": 357,
     "metadata": {},
     "output_type": "execute_result"
    }
   ],
   "source": [
    "len(crime_colors)"
   ]
  },
  {
   "cell_type": "code",
   "execution_count": 358,
>>>>>>> 340f7ba7b828ff1590d5ea8a6979d43d1165a07e
   "metadata": {},
   "outputs": [],
   "source": [
    "# colors = []\n",
    "# index = 0\n",
    "# for i in range(len(zip_geojson['features'])):\n",
    "# #     country_name = feature['properties']['name']\n",
    "#     try:\n",
    "#         zipcode = int(zip_geojson['features'][i]['properties']['ZCTA5CE10'])\n",
    "#         color = calculate_color(zipcode)\n",
    "#     except KeyError:\n",
    "#         # no GINI for that country: return default color\n",
    "#         color = (0, 0, 0, 0.3)\n",
    "#     colors.append(color)\n",
    "#     index += 1\n",
    "\n"
   ]
  },
  {
   "cell_type": "code",
<<<<<<< HEAD
   "execution_count": 26,
=======
   "execution_count": 376,
>>>>>>> 340f7ba7b828ff1590d5ea8a6979d43d1165a07e
   "metadata": {},
   "outputs": [
    {
     "data": {
      "application/vnd.jupyter.widget-view+json": {
<<<<<<< HEAD
       "model_id": "78e64159c19f4955a6d4cd77c5558370",
=======
       "model_id": "11ecbce754cd451a913db447f2067b7d",
>>>>>>> 340f7ba7b828ff1590d5ea8a6979d43d1165a07e
       "version_major": 2,
       "version_minor": 0
      },
      "text/plain": [
       "Figure(layout=FigureLayout(border='1px solid black', height='800px', padding='1px', width='800px'))"
      ]
     },
     "metadata": {},
     "output_type": "display_data"
    }
   ],
   "source": [
    "figure_layout = {\n",
    "    'width': '800px',\n",
    "    'height': '800px',\n",
    "    'border': '1px solid black',\n",
    "    'padding': '1px'\n",
    "}\n",
    "\n",
    "fig = gmaps.figure(map_type = 'HYBRID', layout = figure_layout)\n",
    "\n",
    "gini_layer = gmaps.geojson_layer(\n",
    "    zip_geojson,\n",
    "    fill_color=crime_colors,\n",
    "    stroke_color=crime_colors,\n",
    "    fill_opacity=0.6,\n",
    "    stroke_opacity=1,\n",
    "    stroke_weight=1\n",
    "    )\n",
    "# zip_layer = gmaps.geojson_layer(zip_geojson)\n",
    "# restaraunt_layer = gmaps.heatmap_layer(restaraunt_df[['lat', 'lng']], weights = restaraunt_df['# Restaurants'])\n",
    "# fig.add_layer(restaraunt_layer)\n",
    "# fig.add_layer(zip_layer)\n",
    "fig.add_layer(gini_layer)\n",
    "fig"
   ]
  },
  {
   "cell_type": "code",
   "execution_count": null,
   "metadata": {},
   "outputs": [],
   "source": []
  },
  {
   "cell_type": "code",
   "execution_count": null,
   "metadata": {},
   "outputs": [],
   "source": []
  }
 ],
 "metadata": {
  "kernelspec": {
   "display_name": "Python 3",
   "language": "python",
   "name": "python3"
  },
  "language_info": {
   "codemirror_mode": {
    "name": "ipython",
    "version": 3
   },
   "file_extension": ".py",
   "mimetype": "text/x-python",
   "name": "python",
   "nbconvert_exporter": "python",
   "pygments_lexer": "ipython3",
   "version": "3.7.0"
  }
 },
 "nbformat": 4,
 "nbformat_minor": 2
}
