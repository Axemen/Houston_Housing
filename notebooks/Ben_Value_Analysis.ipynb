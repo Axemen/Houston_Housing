{
 "cells": [
  {
   "cell_type": "code",
   "execution_count": 33,
   "metadata": {},
   "outputs": [],
   "source": [
    "import gmaps\n",
    "from api_keys import gkey\n",
    "import gmaps.geojson_geometries\n",
    "import requests\n",
    "import json\n",
    "from matplotlib.cm import Wistia\n",
    "from matplotlib.colors import to_hex\n",
    "import pandas as pd\n",
    "import matplotlib.pyplot as plt\n",
    "from scipy import stats\n",
    "import numpy as np\n",
    "from numpy.polynomial.polynomial import polyfit\n",
    "\n",
    "gmaps.configure(api_key=gkey)"
   ]
  },
  {
   "cell_type": "code",
   "execution_count": 6,
   "metadata": {},
   "outputs": [
    {
     "data": {
      "text/html": [
       "<div>\n",
       "<style scoped>\n",
       "    .dataframe tbody tr th:only-of-type {\n",
       "        vertical-align: middle;\n",
       "    }\n",
       "\n",
       "    .dataframe tbody tr th {\n",
       "        vertical-align: top;\n",
       "    }\n",
       "\n",
       "    .dataframe thead th {\n",
       "        text-align: right;\n",
       "    }\n",
       "</style>\n",
       "<table border=\"1\" class=\"dataframe\">\n",
       "  <thead>\n",
       "    <tr style=\"text-align: right;\">\n",
       "      <th></th>\n",
       "      <th>zip</th>\n",
       "      <th>estimate</th>\n",
       "      <th>house area</th>\n",
       "      <th>lot area</th>\n",
       "      <th>high</th>\n",
       "      <th>low</th>\n",
       "      <th>month value change</th>\n",
       "      <th>property tax</th>\n",
       "      <th>LAT</th>\n",
       "      <th>LNG</th>\n",
       "    </tr>\n",
       "  </thead>\n",
       "  <tbody>\n",
       "    <tr>\n",
       "      <th>0</th>\n",
       "      <td>77003</td>\n",
       "      <td>304618.520</td>\n",
       "      <td>1728.452716</td>\n",
       "      <td>3171.167339</td>\n",
       "      <td>329690.960</td>\n",
       "      <td>281187.204</td>\n",
       "      <td>745.221328</td>\n",
       "      <td>2.456000e+05</td>\n",
       "      <td>29.749778</td>\n",
       "      <td>-95.345885</td>\n",
       "    </tr>\n",
       "    <tr>\n",
       "      <th>1</th>\n",
       "      <td>77004</td>\n",
       "      <td>332700.348</td>\n",
       "      <td>2040.959839</td>\n",
       "      <td>6091.640562</td>\n",
       "      <td>365302.716</td>\n",
       "      <td>302881.670</td>\n",
       "      <td>-647.458918</td>\n",
       "      <td>2.551451e+05</td>\n",
       "      <td>29.724893</td>\n",
       "      <td>-95.363752</td>\n",
       "    </tr>\n",
       "    <tr>\n",
       "      <th>2</th>\n",
       "      <td>77005</td>\n",
       "      <td>1185270.596</td>\n",
       "      <td>3363.540000</td>\n",
       "      <td>7277.734406</td>\n",
       "      <td>1282708.420</td>\n",
       "      <td>1099375.018</td>\n",
       "      <td>10074.394790</td>\n",
       "      <td>1.194511e+06</td>\n",
       "      <td>29.718435</td>\n",
       "      <td>-95.423555</td>\n",
       "    </tr>\n",
       "    <tr>\n",
       "      <th>3</th>\n",
       "      <td>77006</td>\n",
       "      <td>642616.528</td>\n",
       "      <td>2387.026104</td>\n",
       "      <td>4935.989518</td>\n",
       "      <td>702146.308</td>\n",
       "      <td>591382.956</td>\n",
       "      <td>3892.106212</td>\n",
       "      <td>5.803662e+05</td>\n",
       "      <td>29.740970</td>\n",
       "      <td>-95.391301</td>\n",
       "    </tr>\n",
       "    <tr>\n",
       "      <th>4</th>\n",
       "      <td>77007</td>\n",
       "      <td>528380.128</td>\n",
       "      <td>2360.635271</td>\n",
       "      <td>3457.987854</td>\n",
       "      <td>568855.332</td>\n",
       "      <td>490881.380</td>\n",
       "      <td>-1220.452906</td>\n",
       "      <td>5.022877e+05</td>\n",
       "      <td>29.771545</td>\n",
       "      <td>-95.411083</td>\n",
       "    </tr>\n",
       "  </tbody>\n",
       "</table>\n",
       "</div>"
      ],
      "text/plain": [
       "     zip     estimate   house area     lot area         high          low  \\\n",
       "0  77003   304618.520  1728.452716  3171.167339   329690.960   281187.204   \n",
       "1  77004   332700.348  2040.959839  6091.640562   365302.716   302881.670   \n",
       "2  77005  1185270.596  3363.540000  7277.734406  1282708.420  1099375.018   \n",
       "3  77006   642616.528  2387.026104  4935.989518   702146.308   591382.956   \n",
       "4  77007   528380.128  2360.635271  3457.987854   568855.332   490881.380   \n",
       "\n",
       "   month value change  property tax        LAT        LNG  \n",
       "0          745.221328  2.456000e+05  29.749778 -95.345885  \n",
       "1         -647.458918  2.551451e+05  29.724893 -95.363752  \n",
       "2        10074.394790  1.194511e+06  29.718435 -95.423555  \n",
       "3         3892.106212  5.803662e+05  29.740970 -95.391301  \n",
       "4        -1220.452906  5.022877e+05  29.771545 -95.411083  "
      ]
     },
     "execution_count": 6,
     "metadata": {},
     "output_type": "execute_result"
    }
   ],
   "source": [
    "pricing = pd.read_csv('../data/rawdata/average_data.csv')\n",
    "print(len(pricing.index))\n",
    "pricing.head()"
   ]
  },
  {
   "cell_type": "code",
   "execution_count": 4,
   "metadata": {},
   "outputs": [
    {
     "data": {
      "text/html": [
       "<div>\n",
       "<style scoped>\n",
       "    .dataframe tbody tr th:only-of-type {\n",
       "        vertical-align: middle;\n",
       "    }\n",
       "\n",
       "    .dataframe tbody tr th {\n",
       "        vertical-align: top;\n",
       "    }\n",
       "\n",
       "    .dataframe thead th {\n",
       "        text-align: right;\n",
       "    }\n",
       "</style>\n",
       "<table border=\"1\" class=\"dataframe\">\n",
       "  <thead>\n",
       "    <tr style=\"text-align: right;\">\n",
       "      <th></th>\n",
       "      <th>StateCode</th>\n",
       "      <th>CountyName</th>\n",
       "      <th>PostalCode</th>\n",
       "      <th>Locations</th>\n",
       "      <th>Building_TIV</th>\n",
       "      <th>Contents_TIV</th>\n",
       "      <th>Building_Limit</th>\n",
       "      <th>Contents_Limit</th>\n",
       "    </tr>\n",
       "  </thead>\n",
       "  <tbody>\n",
       "    <tr>\n",
       "      <th>0</th>\n",
       "      <td>TX</td>\n",
       "      <td>Harris</td>\n",
       "      <td>77002</td>\n",
       "      <td>157</td>\n",
       "      <td>1.146599e+09</td>\n",
       "      <td>1.390003e+08</td>\n",
       "      <td>122273700</td>\n",
       "      <td>29113200</td>\n",
       "    </tr>\n",
       "    <tr>\n",
       "      <th>1</th>\n",
       "      <td>TX</td>\n",
       "      <td>Harris</td>\n",
       "      <td>77003</td>\n",
       "      <td>287</td>\n",
       "      <td>2.175743e+08</td>\n",
       "      <td>2.843671e+07</td>\n",
       "      <td>63492400</td>\n",
       "      <td>30093900</td>\n",
       "    </tr>\n",
       "    <tr>\n",
       "      <th>2</th>\n",
       "      <td>TX</td>\n",
       "      <td>Harris</td>\n",
       "      <td>77004</td>\n",
       "      <td>1052</td>\n",
       "      <td>8.208479e+08</td>\n",
       "      <td>7.126165e+07</td>\n",
       "      <td>335596500</td>\n",
       "      <td>92368400</td>\n",
       "    </tr>\n",
       "    <tr>\n",
       "      <th>3</th>\n",
       "      <td>TX</td>\n",
       "      <td>Harris</td>\n",
       "      <td>77005</td>\n",
       "      <td>4043</td>\n",
       "      <td>4.296319e+09</td>\n",
       "      <td>4.542693e+08</td>\n",
       "      <td>988278400</td>\n",
       "      <td>380594300</td>\n",
       "    </tr>\n",
       "    <tr>\n",
       "      <th>4</th>\n",
       "      <td>TX</td>\n",
       "      <td>Harris</td>\n",
       "      <td>77006</td>\n",
       "      <td>1318</td>\n",
       "      <td>7.685005e+08</td>\n",
       "      <td>8.814417e+07</td>\n",
       "      <td>314864400</td>\n",
       "      <td>127083900</td>\n",
       "    </tr>\n",
       "  </tbody>\n",
       "</table>\n",
       "</div>"
      ],
      "text/plain": [
       "  StateCode CountyName  PostalCode  Locations  Building_TIV  Contents_TIV  \\\n",
       "0        TX     Harris       77002        157  1.146599e+09  1.390003e+08   \n",
       "1        TX     Harris       77003        287  2.175743e+08  2.843671e+07   \n",
       "2        TX     Harris       77004       1052  8.208479e+08  7.126165e+07   \n",
       "3        TX     Harris       77005       4043  4.296319e+09  4.542693e+08   \n",
       "4        TX     Harris       77006       1318  7.685005e+08  8.814417e+07   \n",
       "\n",
       "   Building_Limit  Contents_Limit  \n",
       "0       122273700        29113200  \n",
       "1        63492400        30093900  \n",
       "2       335596500        92368400  \n",
       "3       988278400       380594300  \n",
       "4       314864400       127083900  "
      ]
     },
     "execution_count": 4,
     "metadata": {},
     "output_type": "execute_result"
    }
   ],
   "source": [
    "flood = pd.read_csv('../data/rawdata/flooding_insurance_by_zip.csv')\n",
    "flood.head()"
   ]
  },
  {
   "cell_type": "code",
   "execution_count": 7,
   "metadata": {},
   "outputs": [
    {
     "name": "stdout",
     "output_type": "stream",
     "text": [
      "127\n"
     ]
    },
    {
     "data": {
      "text/html": [
       "<div>\n",
       "<style scoped>\n",
       "    .dataframe tbody tr th:only-of-type {\n",
       "        vertical-align: middle;\n",
       "    }\n",
       "\n",
       "    .dataframe tbody tr th {\n",
       "        vertical-align: top;\n",
       "    }\n",
       "\n",
       "    .dataframe thead th {\n",
       "        text-align: right;\n",
       "    }\n",
       "</style>\n",
       "<table border=\"1\" class=\"dataframe\">\n",
       "  <thead>\n",
       "    <tr style=\"text-align: right;\">\n",
       "      <th></th>\n",
       "      <th>StateCode</th>\n",
       "      <th>CountyName</th>\n",
       "      <th>PostalCode</th>\n",
       "      <th>Locations</th>\n",
       "      <th>Building_TIV</th>\n",
       "      <th>Contents_TIV</th>\n",
       "      <th>Building_Limit</th>\n",
       "      <th>Contents_Limit</th>\n",
       "    </tr>\n",
       "  </thead>\n",
       "  <tbody>\n",
       "    <tr>\n",
       "      <th>0</th>\n",
       "      <td>TX</td>\n",
       "      <td>Harris</td>\n",
       "      <td>77003</td>\n",
       "      <td>287</td>\n",
       "      <td>2.175743e+08</td>\n",
       "      <td>2.843671e+07</td>\n",
       "      <td>63492400</td>\n",
       "      <td>30093900</td>\n",
       "    </tr>\n",
       "    <tr>\n",
       "      <th>1</th>\n",
       "      <td>TX</td>\n",
       "      <td>Harris</td>\n",
       "      <td>77004</td>\n",
       "      <td>1052</td>\n",
       "      <td>8.208479e+08</td>\n",
       "      <td>7.126165e+07</td>\n",
       "      <td>335596500</td>\n",
       "      <td>92368400</td>\n",
       "    </tr>\n",
       "    <tr>\n",
       "      <th>2</th>\n",
       "      <td>TX</td>\n",
       "      <td>Harris</td>\n",
       "      <td>77005</td>\n",
       "      <td>4043</td>\n",
       "      <td>4.296319e+09</td>\n",
       "      <td>4.542693e+08</td>\n",
       "      <td>988278400</td>\n",
       "      <td>380594300</td>\n",
       "    </tr>\n",
       "    <tr>\n",
       "      <th>3</th>\n",
       "      <td>TX</td>\n",
       "      <td>Harris</td>\n",
       "      <td>77006</td>\n",
       "      <td>1318</td>\n",
       "      <td>7.685005e+08</td>\n",
       "      <td>8.814417e+07</td>\n",
       "      <td>314864400</td>\n",
       "      <td>127083900</td>\n",
       "    </tr>\n",
       "    <tr>\n",
       "      <th>4</th>\n",
       "      <td>TX</td>\n",
       "      <td>Harris</td>\n",
       "      <td>77007</td>\n",
       "      <td>2824</td>\n",
       "      <td>1.550757e+09</td>\n",
       "      <td>1.644996e+08</td>\n",
       "      <td>675585400</td>\n",
       "      <td>257149700</td>\n",
       "    </tr>\n",
       "  </tbody>\n",
       "</table>\n",
       "</div>"
      ],
      "text/plain": [
       "  StateCode CountyName  PostalCode  Locations  Building_TIV  Contents_TIV  \\\n",
       "0        TX     Harris       77003        287  2.175743e+08  2.843671e+07   \n",
       "1        TX     Harris       77004       1052  8.208479e+08  7.126165e+07   \n",
       "2        TX     Harris       77005       4043  4.296319e+09  4.542693e+08   \n",
       "3        TX     Harris       77006       1318  7.685005e+08  8.814417e+07   \n",
       "4        TX     Harris       77007       2824  1.550757e+09  1.644996e+08   \n",
       "\n",
       "   Building_Limit  Contents_Limit  \n",
       "0        63492400        30093900  \n",
       "1       335596500        92368400  \n",
       "2       988278400       380594300  \n",
       "3       314864400       127083900  \n",
       "4       675585400       257149700  "
      ]
     },
     "execution_count": 7,
     "metadata": {},
     "output_type": "execute_result"
    }
   ],
   "source": [
    "flood = flood[flood[\"PostalCode\"].isin(list(pricing[\"zip\"]))]\n",
    "flood = flood.reset_index(drop=True)\n",
    "print(len(flood))\n",
    "flood.head()"
   ]
  },
  {
   "cell_type": "code",
   "execution_count": 9,
   "metadata": {},
   "outputs": [
    {
     "name": "stdout",
     "output_type": "stream",
     "text": [
      "127\n"
     ]
    },
    {
     "data": {
      "text/html": [
       "<div>\n",
       "<style scoped>\n",
       "    .dataframe tbody tr th:only-of-type {\n",
       "        vertical-align: middle;\n",
       "    }\n",
       "\n",
       "    .dataframe tbody tr th {\n",
       "        vertical-align: top;\n",
       "    }\n",
       "\n",
       "    .dataframe thead th {\n",
       "        text-align: right;\n",
       "    }\n",
       "</style>\n",
       "<table border=\"1\" class=\"dataframe\">\n",
       "  <thead>\n",
       "    <tr style=\"text-align: right;\">\n",
       "      <th></th>\n",
       "      <th>zip</th>\n",
       "      <th>estimate</th>\n",
       "      <th>house area</th>\n",
       "      <th>lot area</th>\n",
       "      <th>high</th>\n",
       "      <th>low</th>\n",
       "      <th>month value change</th>\n",
       "      <th>property tax</th>\n",
       "      <th>LAT</th>\n",
       "      <th>LNG</th>\n",
       "    </tr>\n",
       "  </thead>\n",
       "  <tbody>\n",
       "    <tr>\n",
       "      <th>0</th>\n",
       "      <td>77003</td>\n",
       "      <td>304618.520</td>\n",
       "      <td>1728.452716</td>\n",
       "      <td>3171.167339</td>\n",
       "      <td>329690.960</td>\n",
       "      <td>281187.204</td>\n",
       "      <td>745.221328</td>\n",
       "      <td>2.456000e+05</td>\n",
       "      <td>29.749778</td>\n",
       "      <td>-95.345885</td>\n",
       "    </tr>\n",
       "    <tr>\n",
       "      <th>1</th>\n",
       "      <td>77004</td>\n",
       "      <td>332700.348</td>\n",
       "      <td>2040.959839</td>\n",
       "      <td>6091.640562</td>\n",
       "      <td>365302.716</td>\n",
       "      <td>302881.670</td>\n",
       "      <td>-647.458918</td>\n",
       "      <td>2.551451e+05</td>\n",
       "      <td>29.724893</td>\n",
       "      <td>-95.363752</td>\n",
       "    </tr>\n",
       "    <tr>\n",
       "      <th>2</th>\n",
       "      <td>77005</td>\n",
       "      <td>1185270.596</td>\n",
       "      <td>3363.540000</td>\n",
       "      <td>7277.734406</td>\n",
       "      <td>1282708.420</td>\n",
       "      <td>1099375.018</td>\n",
       "      <td>10074.394790</td>\n",
       "      <td>1.194511e+06</td>\n",
       "      <td>29.718435</td>\n",
       "      <td>-95.423555</td>\n",
       "    </tr>\n",
       "    <tr>\n",
       "      <th>3</th>\n",
       "      <td>77006</td>\n",
       "      <td>642616.528</td>\n",
       "      <td>2387.026104</td>\n",
       "      <td>4935.989518</td>\n",
       "      <td>702146.308</td>\n",
       "      <td>591382.956</td>\n",
       "      <td>3892.106212</td>\n",
       "      <td>5.803662e+05</td>\n",
       "      <td>29.740970</td>\n",
       "      <td>-95.391301</td>\n",
       "    </tr>\n",
       "    <tr>\n",
       "      <th>4</th>\n",
       "      <td>77007</td>\n",
       "      <td>528380.128</td>\n",
       "      <td>2360.635271</td>\n",
       "      <td>3457.987854</td>\n",
       "      <td>568855.332</td>\n",
       "      <td>490881.380</td>\n",
       "      <td>-1220.452906</td>\n",
       "      <td>5.022877e+05</td>\n",
       "      <td>29.771545</td>\n",
       "      <td>-95.411083</td>\n",
       "    </tr>\n",
       "  </tbody>\n",
       "</table>\n",
       "</div>"
      ],
      "text/plain": [
       "     zip     estimate   house area     lot area         high          low  \\\n",
       "0  77003   304618.520  1728.452716  3171.167339   329690.960   281187.204   \n",
       "1  77004   332700.348  2040.959839  6091.640562   365302.716   302881.670   \n",
       "2  77005  1185270.596  3363.540000  7277.734406  1282708.420  1099375.018   \n",
       "3  77006   642616.528  2387.026104  4935.989518   702146.308   591382.956   \n",
       "4  77007   528380.128  2360.635271  3457.987854   568855.332   490881.380   \n",
       "\n",
       "   month value change  property tax        LAT        LNG  \n",
       "0          745.221328  2.456000e+05  29.749778 -95.345885  \n",
       "1         -647.458918  2.551451e+05  29.724893 -95.363752  \n",
       "2        10074.394790  1.194511e+06  29.718435 -95.423555  \n",
       "3         3892.106212  5.803662e+05  29.740970 -95.391301  \n",
       "4        -1220.452906  5.022877e+05  29.771545 -95.411083  "
      ]
     },
     "execution_count": 9,
     "metadata": {},
     "output_type": "execute_result"
    }
   ],
   "source": [
    "pricing = pricing[pricing[\"zip\"].isin(list(flood[\"PostalCode\"]))]\n",
    "pricing = pricing.reset_index(drop=True)\n",
    "print(len(pricing))\n",
    "pricing.head()"
   ]
  },
  {
   "cell_type": "code",
   "execution_count": 16,
   "metadata": {},
   "outputs": [
    {
     "data": {
      "text/html": [
       "<div>\n",
       "<style scoped>\n",
       "    .dataframe tbody tr th:only-of-type {\n",
       "        vertical-align: middle;\n",
       "    }\n",
       "\n",
       "    .dataframe tbody tr th {\n",
       "        vertical-align: top;\n",
       "    }\n",
       "\n",
       "    .dataframe thead th {\n",
       "        text-align: right;\n",
       "    }\n",
       "</style>\n",
       "<table border=\"1\" class=\"dataframe\">\n",
       "  <thead>\n",
       "    <tr style=\"text-align: right;\">\n",
       "      <th></th>\n",
       "      <th>zip</th>\n",
       "      <th>estimate</th>\n",
       "      <th>house area</th>\n",
       "      <th>lot area</th>\n",
       "      <th>month value change</th>\n",
       "      <th>LAT</th>\n",
       "      <th>LNG</th>\n",
       "      <th>Locations</th>\n",
       "    </tr>\n",
       "  </thead>\n",
       "  <tbody>\n",
       "    <tr>\n",
       "      <th>0</th>\n",
       "      <td>77003</td>\n",
       "      <td>304618.520</td>\n",
       "      <td>1728.452716</td>\n",
       "      <td>3171.167339</td>\n",
       "      <td>745.221328</td>\n",
       "      <td>29.749778</td>\n",
       "      <td>-95.345885</td>\n",
       "      <td>287</td>\n",
       "    </tr>\n",
       "    <tr>\n",
       "      <th>1</th>\n",
       "      <td>77004</td>\n",
       "      <td>332700.348</td>\n",
       "      <td>2040.959839</td>\n",
       "      <td>6091.640562</td>\n",
       "      <td>-647.458918</td>\n",
       "      <td>29.724893</td>\n",
       "      <td>-95.363752</td>\n",
       "      <td>1052</td>\n",
       "    </tr>\n",
       "    <tr>\n",
       "      <th>2</th>\n",
       "      <td>77005</td>\n",
       "      <td>1185270.596</td>\n",
       "      <td>3363.540000</td>\n",
       "      <td>7277.734406</td>\n",
       "      <td>10074.394790</td>\n",
       "      <td>29.718435</td>\n",
       "      <td>-95.423555</td>\n",
       "      <td>4043</td>\n",
       "    </tr>\n",
       "    <tr>\n",
       "      <th>3</th>\n",
       "      <td>77006</td>\n",
       "      <td>642616.528</td>\n",
       "      <td>2387.026104</td>\n",
       "      <td>4935.989518</td>\n",
       "      <td>3892.106212</td>\n",
       "      <td>29.740970</td>\n",
       "      <td>-95.391301</td>\n",
       "      <td>1318</td>\n",
       "    </tr>\n",
       "    <tr>\n",
       "      <th>4</th>\n",
       "      <td>77007</td>\n",
       "      <td>528380.128</td>\n",
       "      <td>2360.635271</td>\n",
       "      <td>3457.987854</td>\n",
       "      <td>-1220.452906</td>\n",
       "      <td>29.771545</td>\n",
       "      <td>-95.411083</td>\n",
       "      <td>2824</td>\n",
       "    </tr>\n",
       "  </tbody>\n",
       "</table>\n",
       "</div>"
      ],
      "text/plain": [
       "     zip     estimate   house area     lot area  month value change  \\\n",
       "0  77003   304618.520  1728.452716  3171.167339          745.221328   \n",
       "1  77004   332700.348  2040.959839  6091.640562         -647.458918   \n",
       "2  77005  1185270.596  3363.540000  7277.734406        10074.394790   \n",
       "3  77006   642616.528  2387.026104  4935.989518         3892.106212   \n",
       "4  77007   528380.128  2360.635271  3457.987854        -1220.452906   \n",
       "\n",
       "         LAT        LNG  Locations  \n",
       "0  29.749778 -95.345885        287  \n",
       "1  29.724893 -95.363752       1052  \n",
       "2  29.718435 -95.423555       4043  \n",
       "3  29.740970 -95.391301       1318  \n",
       "4  29.771545 -95.411083       2824  "
      ]
     },
     "execution_count": 16,
     "metadata": {},
     "output_type": "execute_result"
    }
   ],
   "source": [
    "tot = pd.merge(pricing, flood,left_on=\"zip\",right_on=\"PostalCode\")\n",
    "tot = tot.drop([\"PostalCode\",\"high\",\"low\",\"property tax\",\"StateCode\",\"CountyName\",\"Building_TIV\",\"Contents_TIV\",\"Building_Limit\",\"Contents_Limit\"],axis=1)\n",
    "tot.head()"
   ]
  },
  {
   "cell_type": "code",
   "execution_count": 17,
   "metadata": {},
   "outputs": [
    {
     "name": "stdout",
     "output_type": "stream",
     "text": [
      "127\n"
     ]
    },
    {
     "data": {
      "text/html": [
       "<div>\n",
       "<style scoped>\n",
       "    .dataframe tbody tr th:only-of-type {\n",
       "        vertical-align: middle;\n",
       "    }\n",
       "\n",
       "    .dataframe tbody tr th {\n",
       "        vertical-align: top;\n",
       "    }\n",
       "\n",
       "    .dataframe thead th {\n",
       "        text-align: right;\n",
       "    }\n",
       "</style>\n",
       "<table border=\"1\" class=\"dataframe\">\n",
       "  <thead>\n",
       "    <tr style=\"text-align: right;\">\n",
       "      <th></th>\n",
       "      <th>0</th>\n",
       "      <th>1</th>\n",
       "    </tr>\n",
       "  </thead>\n",
       "  <tbody>\n",
       "    <tr>\n",
       "      <th>0</th>\n",
       "      <td>77004</td>\n",
       "      <td>7161</td>\n",
       "    </tr>\n",
       "    <tr>\n",
       "      <th>1</th>\n",
       "      <td>77003</td>\n",
       "      <td>4036</td>\n",
       "    </tr>\n",
       "    <tr>\n",
       "      <th>2</th>\n",
       "      <td>77006</td>\n",
       "      <td>5672</td>\n",
       "    </tr>\n",
       "    <tr>\n",
       "      <th>3</th>\n",
       "      <td>77005</td>\n",
       "      <td>8192</td>\n",
       "    </tr>\n",
       "    <tr>\n",
       "      <th>4</th>\n",
       "      <td>77008</td>\n",
       "      <td>8235</td>\n",
       "    </tr>\n",
       "  </tbody>\n",
       "</table>\n",
       "</div>"
      ],
      "text/plain": [
       "       0     1\n",
       "0  77004  7161\n",
       "1  77003  4036\n",
       "2  77006  5672\n",
       "3  77005  8192\n",
       "4  77008  8235"
      ]
     },
     "execution_count": 17,
     "metadata": {},
     "output_type": "execute_result"
    }
   ],
   "source": [
    "building_numbers = pd.read_csv(\"../data/rawdata/Total_Addresses_Without_Apartments.csv\", header = None)\n",
    "building_numbers = building_numbers[building_numbers[0].isin(list(tot[\"zip\"]))]\n",
    "building_numbers = building_numbers.reset_index(drop=True)\n",
    "print(len(building_numbers.index))\n",
    "building_numbers.head()"
   ]
  },
  {
   "cell_type": "code",
   "execution_count": 18,
   "metadata": {},
   "outputs": [
    {
     "data": {
      "text/html": [
       "<div>\n",
       "<style scoped>\n",
       "    .dataframe tbody tr th:only-of-type {\n",
       "        vertical-align: middle;\n",
       "    }\n",
       "\n",
       "    .dataframe tbody tr th {\n",
       "        vertical-align: top;\n",
       "    }\n",
       "\n",
       "    .dataframe thead th {\n",
       "        text-align: right;\n",
       "    }\n",
       "</style>\n",
       "<table border=\"1\" class=\"dataframe\">\n",
       "  <thead>\n",
       "    <tr style=\"text-align: right;\">\n",
       "      <th></th>\n",
       "      <th>zip</th>\n",
       "      <th>estimate</th>\n",
       "      <th>house area</th>\n",
       "      <th>lot area</th>\n",
       "      <th>month value change</th>\n",
       "      <th>LAT</th>\n",
       "      <th>LNG</th>\n",
       "      <th>Locations</th>\n",
       "      <th>Total Buildings</th>\n",
       "      <th>Percent Insured</th>\n",
       "    </tr>\n",
       "  </thead>\n",
       "  <tbody>\n",
       "    <tr>\n",
       "      <th>0</th>\n",
       "      <td>77003</td>\n",
       "      <td>304618.520</td>\n",
       "      <td>1728.452716</td>\n",
       "      <td>3171.167339</td>\n",
       "      <td>745.221328</td>\n",
       "      <td>29.749778</td>\n",
       "      <td>-95.345885</td>\n",
       "      <td>287</td>\n",
       "      <td>4036</td>\n",
       "      <td>7.111001</td>\n",
       "    </tr>\n",
       "    <tr>\n",
       "      <th>1</th>\n",
       "      <td>77004</td>\n",
       "      <td>332700.348</td>\n",
       "      <td>2040.959839</td>\n",
       "      <td>6091.640562</td>\n",
       "      <td>-647.458918</td>\n",
       "      <td>29.724893</td>\n",
       "      <td>-95.363752</td>\n",
       "      <td>1052</td>\n",
       "      <td>7161</td>\n",
       "      <td>14.690686</td>\n",
       "    </tr>\n",
       "    <tr>\n",
       "      <th>2</th>\n",
       "      <td>77005</td>\n",
       "      <td>1185270.596</td>\n",
       "      <td>3363.540000</td>\n",
       "      <td>7277.734406</td>\n",
       "      <td>10074.394790</td>\n",
       "      <td>29.718435</td>\n",
       "      <td>-95.423555</td>\n",
       "      <td>4043</td>\n",
       "      <td>8192</td>\n",
       "      <td>49.353027</td>\n",
       "    </tr>\n",
       "    <tr>\n",
       "      <th>3</th>\n",
       "      <td>77006</td>\n",
       "      <td>642616.528</td>\n",
       "      <td>2387.026104</td>\n",
       "      <td>4935.989518</td>\n",
       "      <td>3892.106212</td>\n",
       "      <td>29.740970</td>\n",
       "      <td>-95.391301</td>\n",
       "      <td>1318</td>\n",
       "      <td>5672</td>\n",
       "      <td>23.236953</td>\n",
       "    </tr>\n",
       "    <tr>\n",
       "      <th>4</th>\n",
       "      <td>77007</td>\n",
       "      <td>528380.128</td>\n",
       "      <td>2360.635271</td>\n",
       "      <td>3457.987854</td>\n",
       "      <td>-1220.452906</td>\n",
       "      <td>29.771545</td>\n",
       "      <td>-95.411083</td>\n",
       "      <td>2824</td>\n",
       "      <td>6813</td>\n",
       "      <td>41.450169</td>\n",
       "    </tr>\n",
       "  </tbody>\n",
       "</table>\n",
       "</div>"
      ],
      "text/plain": [
       "     zip     estimate   house area     lot area  month value change  \\\n",
       "0  77003   304618.520  1728.452716  3171.167339          745.221328   \n",
       "1  77004   332700.348  2040.959839  6091.640562         -647.458918   \n",
       "2  77005  1185270.596  3363.540000  7277.734406        10074.394790   \n",
       "3  77006   642616.528  2387.026104  4935.989518         3892.106212   \n",
       "4  77007   528380.128  2360.635271  3457.987854        -1220.452906   \n",
       "\n",
       "         LAT        LNG  Locations  Total Buildings  Percent Insured  \n",
       "0  29.749778 -95.345885        287             4036         7.111001  \n",
       "1  29.724893 -95.363752       1052             7161        14.690686  \n",
       "2  29.718435 -95.423555       4043             8192        49.353027  \n",
       "3  29.740970 -95.391301       1318             5672        23.236953  \n",
       "4  29.771545 -95.411083       2824             6813        41.450169  "
      ]
     },
     "execution_count": 18,
     "metadata": {},
     "output_type": "execute_result"
    }
   ],
   "source": [
    "tot = pd.merge(tot, building_numbers,left_on=\"zip\",right_on=0)\n",
    "tot = tot.drop(0,axis=1)\n",
    "tot = tot.rename(columns={1:\"Total Buildings\"})\n",
    "tot[\"Percent Insured\"] = tot[\"Locations\"]/tot[\"Total Buildings\"]*100\n",
    "tot.head()"
   ]
  },
  {
   "cell_type": "code",
   "execution_count": 19,
   "metadata": {},
   "outputs": [],
   "source": [
    "tot.to_csv(\"../data/rawdata/analysis_stuff.csv\",index = None)"
   ]
  },
  {
   "cell_type": "markdown",
   "metadata": {},
   "source": [
    "This is where the Analysis starts."
   ]
  },
  {
   "cell_type": "code",
   "execution_count": 47,
   "metadata": {},
   "outputs": [
    {
     "data": {
      "image/png": "[encoded data removed]",
      "text/plain": [
       "<Figure size 432x288 with 1 Axes>"
      ]
     },
     "metadata": {
      "needs_background": "light"
     },
     "output_type": "display_data"
    }
   ],
   "source": [
    "tot.plot(x = \"house area\", y=\"estimate\", kind = \"scatter\",grid = True)\n",
    "plt.title(\"Value vs. Internal Area\")\n",
    "plt.xlabel(\"House Area (ft^2)\")\n",
    "plt.ylabel(\"Estimate ($US)\")\n",
    "b, m = polyfit(tot[\"house area\"], tot[\"estimate\"], 1)\n",
    "plt.plot(tot[\"house area\"],b + m*tot[\"house area\"],\"-\",color = \"red\")\n",
    "plt.savefig(\"../data/cleandata/Ben_Slides_Stuff/House_Scatter.png\",bbox_inches=\"tight\")"
   ]
  },
  {
   "cell_type": "code",
   "execution_count": 35,
   "metadata": {},
   "outputs": [
    {
     "name": "stdout",
     "output_type": "stream",
     "text": [
      "0.7725745626980605\n"
     ]
    }
   ],
   "source": [
    "slope, intercept, r_value, p_value, std_err = stats.linregress(tot[\"house area\"],tot[\"estimate\"])\n",
    "print(r_value)"
   ]
  },
  {
   "cell_type": "code",
   "execution_count": 48,
   "metadata": {},
   "outputs": [
    {
     "data": {
      "image/png": "[encoded data removed]",
      "text/plain": [
       "<Figure size 432x288 with 1 Axes>"
      ]
     },
     "metadata": {
      "needs_background": "light"
     },
     "output_type": "display_data"
    }
   ],
   "source": [
    "tot.plot(x = \"lot area\", y=\"estimate\", kind = \"scatter\",grid = True)\n",
    "plt.title(\"Value vs. Lot Area\")\n",
    "plt.xlabel(\"Lot Area (ft^2)\")\n",
    "plt.ylabel(\"Estimate ($US)\")\n",
    "b, m = polyfit(tot[\"lot area\"], tot[\"estimate\"], 1)\n",
    "plt.plot(tot[\"lot area\"],b + m*tot[\"lot area\"],\"-\",color = \"red\")\n",
    "plt.savefig(\"../data/cleandata/Ben_Slides_Stuff/Lot_Scatter.png\",bbox_inches=\"tight\")"
   ]
  },
  {
   "cell_type": "code",
   "execution_count": 39,
   "metadata": {},
   "outputs": [
    {
     "name": "stdout",
     "output_type": "stream",
     "text": [
      "0.010673193182721835\n"
     ]
    }
   ],
   "source": [
    "slope, intercept, r_value, p_value, std_err = stats.linregress(tot[\"lot area\"],tot[\"estimate\"])\n",
    "print(r_value)"
   ]
  },
  {
   "cell_type": "code",
   "execution_count": 40,
   "metadata": {},
   "outputs": [],
   "source": [
    "side = tot.loc[tot[\"lot area\"] <= 25000]"
   ]
  },
  {
   "cell_type": "code",
   "execution_count": 49,
   "metadata": {},
   "outputs": [
    {
     "data": {
      "image/png": "[encoded data removed]",
      "text/plain": [
       "<Figure size 432x288 with 1 Axes>"
      ]
     },
     "metadata": {
      "needs_background": "light"
     },
     "output_type": "display_data"
    }
   ],
   "source": [
    "side.plot(x = \"lot area\", y=\"estimate\", kind = \"scatter\",grid = True)\n",
    "plt.title(\"Value vs. Lot Area\")\n",
    "plt.xlabel(\"Lot Area (ft^2)\")\n",
    "plt.ylabel(\"Estimate ($US)\")\n",
    "b, m = polyfit(side[\"lot area\"], side[\"estimate\"], 1)\n",
    "plt.plot(side[\"lot area\"],b + m*side[\"lot area\"],\"-\",color = \"red\")\n",
    "plt.savefig(\"../data/cleandata/Ben_Slides_Stuff/Good_Lot_Scatter.png\",bbox_inches=\"tight\")"
   ]
  },
  {
   "cell_type": "code",
   "execution_count": 42,
   "metadata": {},
   "outputs": [
    {
     "name": "stdout",
     "output_type": "stream",
     "text": [
      "-0.0062283665790014795\n"
     ]
    }
   ],
   "source": [
    "slope, intercept, r_value, p_value, std_err = stats.linregress(side[\"lot area\"],side[\"estimate\"])\n",
    "print(r_value)"
   ]
  },
  {
   "cell_type": "code",
   "execution_count": 50,
   "metadata": {},
   "outputs": [
    {
     "data": {
      "image/png": "[encoded data removed]",
      "text/plain": [
       "<Figure size 432x288 with 1 Axes>"
      ]
     },
     "metadata": {
      "needs_background": "light"
     },
     "output_type": "display_data"
    }
   ],
   "source": [
    "tot.plot(x = \"Percent Insured\", y=\"estimate\", kind = \"scatter\",grid = True)\n",
    "plt.title(\"Value vs. Flooding Chance\")\n",
    "plt.xlabel(\"Flooding Chance (% Buildings Insured)\")\n",
    "plt.ylabel(\"Estimate ($US)\")\n",
    "b, m = polyfit(tot[\"Percent Insured\"], tot[\"estimate\"], 1)\n",
    "plt.plot(tot[\"Percent Insured\"],b + m*tot[\"Percent Insured\"],\"-\",color = \"red\")\n",
    "plt.savefig(\"../data/cleandata/Ben_Slides_Stuff/Flood_Scatter.png\",bbox_inches=\"tight\")"
   ]
  },
  {
   "cell_type": "code",
   "execution_count": 46,
   "metadata": {},
   "outputs": [
    {
     "name": "stdout",
     "output_type": "stream",
     "text": [
      "0.46708603919791974\n"
     ]
    }
   ],
   "source": [
    "slope, intercept, r_value, p_value, std_err = stats.linregress(side[\"Percent Insured\"],side[\"estimate\"])\n",
    "print(r_value)"
   ]
  },
  {
   "cell_type": "markdown",
   "metadata": {},
   "source": [
    "Below will be heatmaps for the areas."
   ]
  },
  {
   "cell_type": "code",
   "execution_count": 53,
   "metadata": {},
   "outputs": [],
   "source": [
    "zip_geojson = requests.get('https://raw.githubusercontent.com/OpenDataDE/State-zip-code-GeoJSON/master/tx_texas_zip_codes_geo.min.json').content\n",
    "zip_geojson = json.loads(zip_geojson)"
   ]
  },
  {
   "cell_type": "code",
   "execution_count": 52,
   "metadata": {},
   "outputs": [],
   "source": [
    "def calculate_colors_house(input_list):\n",
    "    _min = tot[\"house area\"].min()\n",
    "    _max = tot[\"house area\"].max()\n",
    "    _range = _max - _min\n",
    "    \n",
    "    result = []\n",
    "    \n",
    "    for i in input_list:\n",
    "        norm = (i - _min) / _range\n",
    "        \n",
    "        inverse = 1.0 - norm\n",
    "        mpl_color = Wistia(norm)\n",
    "        gmaps_color = to_hex(mpl_color, keep_alpha=False)\n",
    "        \n",
    "        result.append(gmaps_color)\n",
    "        \n",
    "    return result\n",
    "\n",
    "def calculate_colors_lot(input_list):\n",
    "    _min = tot[\"lot area\"].min()\n",
    "    _max = tot[\"lot area\"].max()\n",
    "    _range = _max - _min\n",
    "    \n",
    "    result = []\n",
    "    \n",
    "    for i in input_list:\n",
    "        norm = (i - _min) / _range\n",
    "        \n",
    "        inverse = 1.0 - norm\n",
    "        mpl_color = Wistia(norm)\n",
    "        gmaps_color = to_hex(mpl_color, keep_alpha=False)\n",
    "        \n",
    "        result.append(gmaps_color)\n",
    "        \n",
    "    return result"
   ]
  },
  {
   "cell_type": "code",
   "execution_count": 56,
   "metadata": {},
   "outputs": [],
   "source": [
    "needed_zips = []\n",
    "needed_zips = list(tot[\"zip\"])\n",
    "\n",
    "for i in needed_zips:\n",
    "    i = str(i)"
   ]
  },
  {
   "cell_type": "code",
   "execution_count": 57,
   "metadata": {},
   "outputs": [
    {
     "data": {
      "text/plain": [
       "127"
      ]
     },
     "execution_count": 57,
     "metadata": {},
     "output_type": "execute_result"
    }
   ],
   "source": [
    "list_index = []\n",
    "\n",
    "for i in range(len(zip_geojson['features'])):\n",
    "    if zip_geojson['features'][i]['properties']['ZCTA5CE10'] not in str(needed_zips):\n",
    "        list_index.append(i)\n",
    "        \n",
    "for index in sorted(list_index, reverse=True): \n",
    "    del zip_geojson['features'][index]\n",
    "len(zip_geojson['features'])"
   ]
  },
  {
   "cell_type": "code",
   "execution_count": 58,
   "metadata": {},
   "outputs": [
    {
     "data": {
      "text/html": [
       "<div>\n",
       "<style scoped>\n",
       "    .dataframe tbody tr th:only-of-type {\n",
       "        vertical-align: middle;\n",
       "    }\n",
       "\n",
       "    .dataframe tbody tr th {\n",
       "        vertical-align: top;\n",
       "    }\n",
       "\n",
       "    .dataframe thead th {\n",
       "        text-align: right;\n",
       "    }\n",
       "</style>\n",
       "<table border=\"1\" class=\"dataframe\">\n",
       "  <thead>\n",
       "    <tr style=\"text-align: right;\">\n",
       "      <th></th>\n",
       "      <th>zip</th>\n",
       "      <th>estimate</th>\n",
       "      <th>house area</th>\n",
       "      <th>lot area</th>\n",
       "      <th>month value change</th>\n",
       "      <th>LAT</th>\n",
       "      <th>LNG</th>\n",
       "      <th>Locations</th>\n",
       "      <th>Total Buildings</th>\n",
       "      <th>Percent Insured</th>\n",
       "    </tr>\n",
       "  </thead>\n",
       "  <tbody>\n",
       "    <tr>\n",
       "      <th>0</th>\n",
       "      <td>77099</td>\n",
       "      <td>153013.132</td>\n",
       "      <td>1710.190763</td>\n",
       "      <td>7220.537815</td>\n",
       "      <td>611.520000</td>\n",
       "      <td>29.670869</td>\n",
       "      <td>-95.585990</td>\n",
       "      <td>2369</td>\n",
       "      <td>8405</td>\n",
       "      <td>28.185604</td>\n",
       "    </tr>\n",
       "    <tr>\n",
       "      <th>1</th>\n",
       "      <td>77389</td>\n",
       "      <td>302047.312</td>\n",
       "      <td>2587.334004</td>\n",
       "      <td>14305.885481</td>\n",
       "      <td>687.627255</td>\n",
       "      <td>30.123469</td>\n",
       "      <td>-95.517064</td>\n",
       "      <td>2001</td>\n",
       "      <td>7853</td>\n",
       "      <td>25.480708</td>\n",
       "    </tr>\n",
       "    <tr>\n",
       "      <th>2</th>\n",
       "      <td>77586</td>\n",
       "      <td>306169.674</td>\n",
       "      <td>2505.973948</td>\n",
       "      <td>11979.337398</td>\n",
       "      <td>-761.746000</td>\n",
       "      <td>29.583816</td>\n",
       "      <td>-95.036166</td>\n",
       "      <td>5560</td>\n",
       "      <td>7425</td>\n",
       "      <td>74.882155</td>\n",
       "    </tr>\n",
       "    <tr>\n",
       "      <th>3</th>\n",
       "      <td>77020</td>\n",
       "      <td>134260.098</td>\n",
       "      <td>1201.845528</td>\n",
       "      <td>5459.108434</td>\n",
       "      <td>-2146.404810</td>\n",
       "      <td>29.773179</td>\n",
       "      <td>-95.314327</td>\n",
       "      <td>246</td>\n",
       "      <td>7163</td>\n",
       "      <td>3.434315</td>\n",
       "    </tr>\n",
       "    <tr>\n",
       "      <th>4</th>\n",
       "      <td>77013</td>\n",
       "      <td>140875.606</td>\n",
       "      <td>1512.776000</td>\n",
       "      <td>11796.918000</td>\n",
       "      <td>989.882000</td>\n",
       "      <td>29.795268</td>\n",
       "      <td>-95.233977</td>\n",
       "      <td>781</td>\n",
       "      <td>3420</td>\n",
       "      <td>22.836257</td>\n",
       "    </tr>\n",
       "  </tbody>\n",
       "</table>\n",
       "</div>"
      ],
      "text/plain": [
       "     zip    estimate   house area      lot area  month value change  \\\n",
       "0  77099  153013.132  1710.190763   7220.537815          611.520000   \n",
       "1  77389  302047.312  2587.334004  14305.885481          687.627255   \n",
       "2  77586  306169.674  2505.973948  11979.337398         -761.746000   \n",
       "3  77020  134260.098  1201.845528   5459.108434        -2146.404810   \n",
       "4  77013  140875.606  1512.776000  11796.918000          989.882000   \n",
       "\n",
       "         LAT        LNG  Locations  Total Buildings  Percent Insured  \n",
       "0  29.670869 -95.585990       2369             8405        28.185604  \n",
       "1  30.123469 -95.517064       2001             7853        25.480708  \n",
       "2  29.583816 -95.036166       5560             7425        74.882155  \n",
       "3  29.773179 -95.314327        246             7163         3.434315  \n",
       "4  29.795268 -95.233977        781             3420        22.836257  "
      ]
     },
     "execution_count": 58,
     "metadata": {},
     "output_type": "execute_result"
    }
   ],
   "source": [
    "sort_list = []\n",
    "for i in range(len(zip_geojson[\"features\"])):\n",
    "    comp = int(zip_geojson['features'][i]['properties']['ZCTA5CE10'])\n",
    "    sort_list.extend(tot.loc[tot[\"zip\"] == comp].index)\n",
    "tot = tot.iloc[sort_list]\n",
    "tot = tot.reset_index(drop=True)\n",
    "tot.head()"
   ]
  },
  {
   "cell_type": "code",
   "execution_count": 59,
   "metadata": {},
   "outputs": [],
   "source": [
    "colors = calculate_colors_house(tot[\"house area\"])"
   ]
  },
  {
   "cell_type": "code",
   "execution_count": 60,
   "metadata": {},
   "outputs": [
    {
     "data": {
      "application/vnd.jupyter.widget-view+json": {
       "model_id": "c920386e656c434dae63b67e4d02c458",
       "version_major": 2,
       "version_minor": 0
      },
      "text/plain": [
       "Figure(layout=FigureLayout(height='420px'))"
      ]
     },
     "metadata": {},
     "output_type": "display_data"
    }
   ],
   "source": [
    "fig = gmaps.figure(map_type = \"HYBRID\")\n",
    "\n",
    "gini_layer = gmaps.geojson_layer(\n",
    "    zip_geojson,\n",
    "    fill_color=colors,\n",
    "    stroke_color=colors,\n",
    "    fill_opacity=0.8)\n",
    "zip_layer = gmaps.geojson_layer(zip_geojson)\n",
    "\n",
    "fig.add_layer(zip_layer)\n",
    "fig.add_layer(gini_layer)\n",
    "fig"
   ]
  },
  {
   "cell_type": "code",
   "execution_count": 65,
   "metadata": {},
   "outputs": [],
   "source": [
    "colors = calculate_colors_lot(tot[\"lot area\"])"
   ]
  },
  {
   "cell_type": "code",
   "execution_count": 66,
   "metadata": {},
   "outputs": [
    {
     "data": {
      "application/vnd.jupyter.widget-view+json": {
       "model_id": "7e770a3b57214d53aed20c006d3ac015",
       "version_major": 2,
       "version_minor": 0
      },
      "text/plain": [
       "Figure(layout=FigureLayout(height='420px'))"
      ]
     },
     "metadata": {},
     "output_type": "display_data"
    }
   ],
   "source": [
    "fig = gmaps.figure(map_type = \"HYBRID\")\n",
    "\n",
    "gini_layer = gmaps.geojson_layer(\n",
    "    zip_geojson,\n",
    "    fill_color=colors,\n",
    "    stroke_color=colors,\n",
    "    fill_opacity=0.8)\n",
    "zip_layer = gmaps.geojson_layer(zip_geojson)\n",
    "\n",
    "fig.add_layer(zip_layer)\n",
    "fig.add_layer(gini_layer)\n",
    "fig"
   ]
  },
  {
   "cell_type": "code",
   "execution_count": null,
   "metadata": {},
   "outputs": [],
   "source": []
  }
 ],
 "metadata": {
  "kernelspec": {
   "display_name": "Python 3",
   "language": "python",
   "name": "python3"
  },
  "language_info": {
   "codemirror_mode": {
    "name": "ipython",
    "version": 3
   },
   "file_extension": ".py",
   "mimetype": "text/x-python",
   "name": "python",
   "nbconvert_exporter": "python",
   "pygments_lexer": "ipython3",
   "version": "3.7.1"
  }
 },
 "nbformat": 4,
 "nbformat_minor": 2
}
