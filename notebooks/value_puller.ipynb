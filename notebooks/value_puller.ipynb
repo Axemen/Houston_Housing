{
 "cells": [
  {
   "cell_type": "code",
   "execution_count": 3,
   "metadata": {},
   "outputs": [],
   "source": [
    "import requests\n",
    "import json\n",
    "import matplotlib.pyplot as plt\n",
    "import pandas as pd\n",
    "import xmltodict\n",
    "import gmaps\n",
    "from pprint import pprint\n",
    "#importing keys\n",
    "from api_keys import zillow_key\n",
    "from api_keys import gkey"
   ]
  },
  {
   "cell_type": "code",
   "execution_count": 54,
   "metadata": {},
   "outputs": [],
   "source": [
    "url = \"https://www.zillow.com/webservice/GetDeepSearchResults.htm?\"\n",
    "params = {\n",
    "#     'ZWSID' : 'X1-ZWz1gz687fgzyj_9r65p',\n",
    "    'zws-id':'X1-ZWz181cgn4m5fv_9myga',\n",
    "    'address': '10935 Oasis Dr.',\n",
    "    'citystatezip':'77096'\n",
    "}\n",
    "\n",
    "response = xmltodict.parse(requests.get(url, params).text)"
   ]
  },
  {
   "cell_type": "code",
   "execution_count": 55,
   "metadata": {},
   "outputs": [
    {
     "data": {
      "text/plain": [
       "OrderedDict([('zpid', '28009041'),\n",
       "             ('links',\n",
       "              OrderedDict([('homedetails',\n",
       "                            'https://www.zillow.com/homedetails/10935-Oasis-Dr-Houston-TX-77096/28009041_zpid/'),\n",
       "                           ('graphsanddata',\n",
       "                            'http://www.zillow.com/homedetails/10935-Oasis-Dr-Houston-TX-77096/28009041_zpid/#charts-and-data'),\n",
       "                           ('mapthishome',\n",
       "                            'http://www.zillow.com/homes/28009041_zpid/'),\n",
       "                           ('comparables',\n",
       "                            'http://www.zillow.com/homes/comps/28009041_zpid/')])),\n",
       "             ('address',\n",
       "              OrderedDict([('street', '10935 Oasis Dr'),\n",
       "                           ('zipcode', '77096'),\n",
       "                           ('city', 'Houston'),\n",
       "                           ('state', 'TX'),\n",
       "                           ('latitude', '29.660608'),\n",
       "                           ('longitude', '-95.477447')])),\n",
       "             ('FIPScounty', '48201'),\n",
       "             ('useCode', 'SingleFamily'),\n",
       "             ('taxAssessmentYear', '2018'),\n",
       "             ('taxAssessment', '258716.0'),\n",
       "             ('yearBuilt', '1956'),\n",
       "             ('lotSizeSqFt', '8398'),\n",
       "             ('finishedSqFt', '1983'),\n",
       "             ('bathrooms', '2.0'),\n",
       "             ('bedrooms', '3'),\n",
       "             ('totalRooms', '6'),\n",
       "             ('zestimate',\n",
       "              OrderedDict([('amount',\n",
       "                            OrderedDict([('@currency', 'USD'),\n",
       "                                         ('#text', '308990')])),\n",
       "                           ('last-updated', '03/22/2019'),\n",
       "                           ('oneWeekChange',\n",
       "                            OrderedDict([('@deprecated', 'true')])),\n",
       "                           ('valueChange',\n",
       "                            OrderedDict([('@duration', '30'),\n",
       "                                         ('@currency', 'USD'),\n",
       "                                         ('#text', '2218')])),\n",
       "                           ('valuationRange',\n",
       "                            OrderedDict([('low',\n",
       "                                          OrderedDict([('@currency', 'USD'),\n",
       "                                                       ('#text', '293541')])),\n",
       "                                         ('high',\n",
       "                                          OrderedDict([('@currency', 'USD'),\n",
       "                                                       ('#text',\n",
       "                                                        '324439')]))])),\n",
       "                           ('percentile', '0')])),\n",
       "             ('localRealEstate',\n",
       "              OrderedDict([('region',\n",
       "                            OrderedDict([('@name', 'Westbury'),\n",
       "                                         ('@id', '238880'),\n",
       "                                         ('@type', 'neighborhood'),\n",
       "                                         ('links',\n",
       "                                          OrderedDict([('overview',\n",
       "                                                        'http://www.zillow.com/local-info/TX-Houston/Westbury/r_238880/'),\n",
       "                                                       ('forSaleByOwner',\n",
       "                                                        'http://www.zillow.com/westbury-houston-tx/fsbo/'),\n",
       "                                                       ('forSale',\n",
       "                                                        'http://www.zillow.com/westbury-houston-tx/')]))]))]))])"
      ]
     },
     "execution_count": 55,
     "metadata": {},
     "output_type": "execute_result"
    }
   ],
   "source": [
    "response[('SearchResults:searchresults')][('response')][('results')][('result')]"
   ]
  },
  {
   "cell_type": "code",
   "execution_count": null,
   "metadata": {},
   "outputs": [],
   "source": []
  }
 ],
 "metadata": {
  "kernelspec": {
   "display_name": "Python 3",
   "language": "python",
   "name": "python3"
  },
  "language_info": {
   "codemirror_mode": {
    "name": "ipython",
    "version": 3
   },
   "file_extension": ".py",
   "mimetype": "text/x-python",
   "name": "python",
   "nbconvert_exporter": "python",
   "pygments_lexer": "ipython3",
   "version": "3.7.0"
  }
 },
 "nbformat": 4,
 "nbformat_minor": 2
}
