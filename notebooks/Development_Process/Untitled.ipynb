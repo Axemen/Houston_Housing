{
 "cells": [
  {
   "cell_type": "code",
   "execution_count": 1,
   "metadata": {},
   "outputs": [],
   "source": [
    "import pandas as pd"
   ]
  },
  {
   "cell_type": "code",
   "execution_count": 3,
   "metadata": {},
   "outputs": [
    {
     "data": {
      "text/html": [
       "<div>\n",
       "<style scoped>\n",
       "    .dataframe tbody tr th:only-of-type {\n",
       "        vertical-align: middle;\n",
       "    }\n",
       "\n",
       "    .dataframe tbody tr th {\n",
       "        vertical-align: top;\n",
       "    }\n",
       "\n",
       "    .dataframe thead th {\n",
       "        text-align: right;\n",
       "    }\n",
       "</style>\n",
       "<table border=\"1\" class=\"dataframe\">\n",
       "  <thead>\n",
       "    <tr style=\"text-align: right;\">\n",
       "      <th></th>\n",
       "      <th>zip</th>\n",
       "      <th>address</th>\n",
       "      <th>lat</th>\n",
       "      <th>lng</th>\n",
       "      <th>house area</th>\n",
       "      <th>lot area</th>\n",
       "      <th>high</th>\n",
       "      <th>low</th>\n",
       "      <th>estimate</th>\n",
       "      <th>month value change</th>\n",
       "      <th>property tax</th>\n",
       "    </tr>\n",
       "  </thead>\n",
       "  <tbody>\n",
       "    <tr>\n",
       "      <th>0</th>\n",
       "      <td>77004</td>\n",
       "      <td>3327 FRANCIS ST, HOUSTON, TX 77004</td>\n",
       "      <td>29.728969</td>\n",
       "      <td>-95.354886</td>\n",
       "      <td>792.0</td>\n",
       "      <td>5001.0</td>\n",
       "      <td>100859</td>\n",
       "      <td>84504</td>\n",
       "      <td>90864</td>\n",
       "      <td>87.0</td>\n",
       "      <td>72000.0</td>\n",
       "    </tr>\n",
       "    <tr>\n",
       "      <th>1</th>\n",
       "      <td>77004</td>\n",
       "      <td>1820 OAKDALE ST, HOUSTON, TX 77004</td>\n",
       "      <td>29.723462</td>\n",
       "      <td>-95.381033</td>\n",
       "      <td>2892.0</td>\n",
       "      <td>5500.0</td>\n",
       "      <td>635167</td>\n",
       "      <td>531231</td>\n",
       "      <td>577425</td>\n",
       "      <td>1263.0</td>\n",
       "      <td>383698.0</td>\n",
       "    </tr>\n",
       "    <tr>\n",
       "      <th>2</th>\n",
       "      <td>77004</td>\n",
       "      <td>2220 MACGREGOR WAY, HOUSTON, TX 77004</td>\n",
       "      <td>29.715995</td>\n",
       "      <td>-95.380015</td>\n",
       "      <td>2813.0</td>\n",
       "      <td>8638.0</td>\n",
       "      <td>526769</td>\n",
       "      <td>425281</td>\n",
       "      <td>483274</td>\n",
       "      <td>7871.0</td>\n",
       "      <td>275131.0</td>\n",
       "    </tr>\n",
       "    <tr>\n",
       "      <th>3</th>\n",
       "      <td>77004</td>\n",
       "      <td>2402 WENTWORTH ST, HOUSTON, TX 77004</td>\n",
       "      <td>29.724232</td>\n",
       "      <td>-95.373084</td>\n",
       "      <td>2748.0</td>\n",
       "      <td>6599.0</td>\n",
       "      <td>445146</td>\n",
       "      <td>316883</td>\n",
       "      <td>377242</td>\n",
       "      <td>-1526.0</td>\n",
       "      <td>182314.0</td>\n",
       "    </tr>\n",
       "    <tr>\n",
       "      <th>4</th>\n",
       "      <td>77004</td>\n",
       "      <td>2424 ISABELLA ST, HOUSTON, TX 77004</td>\n",
       "      <td>29.729207</td>\n",
       "      <td>-95.368853</td>\n",
       "      <td>1470.0</td>\n",
       "      <td>5776.0</td>\n",
       "      <td>267123</td>\n",
       "      <td>241683</td>\n",
       "      <td>254403</td>\n",
       "      <td>1862.0</td>\n",
       "      <td>183358.0</td>\n",
       "    </tr>\n",
       "  </tbody>\n",
       "</table>\n",
       "</div>"
      ],
      "text/plain": [
       "     zip                                address        lat        lng  \\\n",
       "0  77004     3327 FRANCIS ST, HOUSTON, TX 77004  29.728969 -95.354886   \n",
       "1  77004     1820 OAKDALE ST, HOUSTON, TX 77004  29.723462 -95.381033   \n",
       "2  77004  2220 MACGREGOR WAY, HOUSTON, TX 77004  29.715995 -95.380015   \n",
       "3  77004   2402 WENTWORTH ST, HOUSTON, TX 77004  29.724232 -95.373084   \n",
       "4  77004    2424 ISABELLA ST, HOUSTON, TX 77004  29.729207 -95.368853   \n",
       "\n",
       "   house area  lot area    high     low  estimate  month value change  \\\n",
       "0       792.0    5001.0  100859   84504     90864                87.0   \n",
       "1      2892.0    5500.0  635167  531231    577425              1263.0   \n",
       "2      2813.0    8638.0  526769  425281    483274              7871.0   \n",
       "3      2748.0    6599.0  445146  316883    377242             -1526.0   \n",
       "4      1470.0    5776.0  267123  241683    254403              1862.0   \n",
       "\n",
       "   property tax  \n",
       "0       72000.0  \n",
       "1      383698.0  \n",
       "2      275131.0  \n",
       "3      182314.0  \n",
       "4      183358.0  "
      ]
     },
     "execution_count": 3,
     "metadata": {},
     "output_type": "execute_result"
    }
   ],
   "source": [
    "test = pd.read_csv(\"../data/cleandata/Property_data.csv\")\n",
    "\n",
    "test.head()"
   ]
  },
  {
   "cell_type": "code",
   "execution_count": 5,
   "metadata": {},
   "outputs": [
    {
     "ename": "TypeError",
     "evalue": "'numpy.ndarray' object is not callable",
     "output_type": "error",
     "traceback": [
      "\u001b[1;31m---------------------------------------------------------------------------\u001b[0m",
      "\u001b[1;31mTypeError\u001b[0m                                 Traceback (most recent call last)",
      "\u001b[1;32m<ipython-input-5-a82f3a9b70b3>\u001b[0m in \u001b[0;36m<module>\u001b[1;34m\u001b[0m\n\u001b[1;32m----> 1\u001b[1;33m \u001b[0mtest\u001b[0m\u001b[1;33m.\u001b[0m\u001b[0mvalues\u001b[0m\u001b[1;33m(\u001b[0m\u001b[1;33m)\u001b[0m\u001b[1;33m\u001b[0m\u001b[1;33m\u001b[0m\u001b[0m\n\u001b[0m",
      "\u001b[1;31mTypeError\u001b[0m: 'numpy.ndarray' object is not callable"
     ]
    }
   ],
   "source": []
  },
  {
   "cell_type": "code",
   "execution_count": null,
   "metadata": {},
   "outputs": [],
   "source": []
  }
 ],
 "metadata": {
  "kernelspec": {
   "display_name": "Python 3",
   "language": "python",
   "name": "python3"
  },
  "language_info": {
   "codemirror_mode": {
    "name": "ipython",
    "version": 3
   },
   "file_extension": ".py",
   "mimetype": "text/x-python",
   "name": "python",
   "nbconvert_exporter": "python",
   "pygments_lexer": "ipython3",
   "version": "3.7.1"
  }
 },
 "nbformat": 4,
 "nbformat_minor": 2
}
