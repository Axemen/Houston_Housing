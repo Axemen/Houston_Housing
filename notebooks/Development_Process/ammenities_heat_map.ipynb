{
 "cells": [
  {
   "cell_type": "code",
   "execution_count": 23,
   "metadata": {},
   "outputs": [],
   "source": [
    "# Dependencies\n",
    "import gmaps\n",
    "import requests\n",
    "import pandas as pd\n",
    "import datetime\n",
    "from api_keys import gkey_jr"
   ]
  },
  {
   "cell_type": "code",
   "execution_count": 24,
   "metadata": {},
   "outputs": [
    {
     "data": {
      "text/plain": [
       "24000"
      ]
     },
     "execution_count": 24,
     "metadata": {},
     "output_type": "execute_result"
    }
   ],
   "source": [
    "ammenities_file = \"../data/rawdata/restaurant_count.csv\"\n",
    "ammenities_df = pd.read_csv(ammenities_file, encoding=\"ISO-8859-1\")\n",
    "ammenities_df.head()\n",
    "len(ammenities_df)"
   ]
  },
  {
   "cell_type": "code",
   "execution_count": 48,
   "metadata": {},
   "outputs": [
    {
     "data": {
      "text/html": [
       "<div>\n",
       "<style scoped>\n",
       "    .dataframe tbody tr th:only-of-type {\n",
       "        vertical-align: middle;\n",
       "    }\n",
       "\n",
       "    .dataframe tbody tr th {\n",
       "        vertical-align: top;\n",
       "    }\n",
       "\n",
       "    .dataframe thead th {\n",
       "        text-align: right;\n",
       "    }\n",
       "</style>\n",
       "<table border=\"1\" class=\"dataframe\">\n",
       "  <thead>\n",
       "    <tr style=\"text-align: right;\">\n",
       "      <th></th>\n",
       "      <th>lat</th>\n",
       "      <th>lng</th>\n",
       "      <th># Restaurants</th>\n",
       "    </tr>\n",
       "  </thead>\n",
       "  <tbody>\n",
       "    <tr>\n",
       "      <th>0</th>\n",
       "      <td>28.870009</td>\n",
       "      <td>-96.207679</td>\n",
       "      <td>2</td>\n",
       "    </tr>\n",
       "    <tr>\n",
       "      <th>1</th>\n",
       "      <td>28.881914</td>\n",
       "      <td>-96.235324</td>\n",
       "      <td>2</td>\n",
       "    </tr>\n",
       "    <tr>\n",
       "      <th>2</th>\n",
       "      <td>28.881914</td>\n",
       "      <td>-96.221502</td>\n",
       "      <td>3</td>\n",
       "    </tr>\n",
       "    <tr>\n",
       "      <th>3</th>\n",
       "      <td>28.929535</td>\n",
       "      <td>-95.295390</td>\n",
       "      <td>1</td>\n",
       "    </tr>\n",
       "    <tr>\n",
       "      <th>4</th>\n",
       "      <td>28.941440</td>\n",
       "      <td>-95.364502</td>\n",
       "      <td>2</td>\n",
       "    </tr>\n",
       "  </tbody>\n",
       "</table>\n",
       "</div>"
      ],
      "text/plain": [
       "         lat        lng  # Restaurants\n",
       "0  28.870009 -96.207679              2\n",
       "1  28.881914 -96.235324              2\n",
       "2  28.881914 -96.221502              3\n",
       "3  28.929535 -95.295390              1\n",
       "4  28.941440 -95.364502              2"
      ]
     },
     "execution_count": 48,
     "metadata": {},
     "output_type": "execute_result"
    }
   ],
   "source": [
    "# Remove cases of restaurants with missing data if any\n",
    "ammenities_pd=ammenities_df.loc[(ammenities_df['# Restaurants']!=0)].reset_index(drop=True)\n",
    "\n",
    "ammenities_pd.head()"
   ]
  },
  {
   "cell_type": "code",
   "execution_count": 49,
   "metadata": {},
   "outputs": [],
   "source": [
    "# Configure gmaps with API key\n",
    "gmaps.configure(api_key=gkey_jr)"
   ]
  },
  {
   "cell_type": "code",
   "execution_count": 68,
   "metadata": {},
   "outputs": [
    {
     "data": {
      "text/plain": [
       "pandas.core.series.Series"
      ]
     },
     "execution_count": 68,
     "metadata": {},
     "output_type": "execute_result"
    }
   ],
   "source": [
    "lat_lngs=ammenities_pd[[\"lat\",\"lng\"]].astype(float)\n",
    "restaurant_count=ammenities_pd[\"# Restaurants\"].astype(float)\n",
    "#lat_lngs=pd.DataFrame(data={\"lat\":ammenities_pd[\"lat\"],\"lng\":ammenities_pd[\"lng\"]})\n",
    "#restaurant_count=pd.DataFrame(data={\"Rest Count\":ammenities_pd[\"# Restaurants\"]}).astype(float)\n",
    "restaurant_count.head()\n",
    "type(restaurant_count)"
   ]
  },
  {
   "cell_type": "code",
   "execution_count": 73,
   "metadata": {},
   "outputs": [
    {
     "data": {
      "application/vnd.jupyter.widget-view+json": {
       "model_id": "389734aeefa54b7b8b89e571a4b7f34b",
       "version_major": 2,
       "version_minor": 0
      },
      "text/plain": [
       "Figure(layout=FigureLayout(height='420px'))"
      ]
     },
     "metadata": {},
     "output_type": "display_data"
    }
   ],
   "source": [
    "# Create heatmap for crime types\n",
    "fig = gmaps.figure()\n",
    "\n",
    "# Set parameters for non-violet heatmap\n",
    "# Note that \"weights\" is not included as \"Non_Violet\" in every row is of equal importance\n",
    "restaurant_layer = gmaps.heatmap_layer(lat_lngs, weights=restaurant_count)\n",
    "# Set the color range of crime heatmap from fuchsia to red\n",
    "#restaurant_layer.gradient = [\n",
    " #   (255, 255, 255, 0),\n",
    "  #  (255, 0, 255, 0.6),\n",
    "   # (255, 0, 0, 1.0)\n",
    "  #]\n",
    "# Apply non-violet heatmap layer on google map\n",
    "fig.add_layer(restaurant_layer)\n",
    "fig"
   ]
  }
 ],
 "metadata": {
  "kernelspec": {
   "display_name": "Python 3",
   "language": "python",
   "name": "python3"
  },
  "language_info": {
   "codemirror_mode": {
    "name": "ipython",
    "version": 3
   },
   "file_extension": ".py",
   "mimetype": "text/x-python",
   "name": "python",
   "nbconvert_exporter": "python",
   "pygments_lexer": "ipython3",
   "version": "3.7.0"
  }
 },
 "nbformat": 4,
 "nbformat_minor": 2
}
