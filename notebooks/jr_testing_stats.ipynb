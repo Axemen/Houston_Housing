{
 "cells": [
  {
   "cell_type": "code",
   "execution_count": 1,
   "metadata": {},
   "outputs": [],
   "source": [
    "import pandas as pd\n",
    "import matplotlib.pyplot as plt"
   ]
  },
  {
   "cell_type": "code",
   "execution_count": 26,
   "metadata": {},
   "outputs": [],
   "source": [
    "df = pd.read_csv('../data/rawdata/Property_data.csv')\n",
    "restaraunt_df = pd.read_csv('../data/rawdata/restaurant_count_2.csv')\n",
    "crime_df = pd.read_csv('../data/cleandata/Harris_County_Crime_Ct_by_zipcode.csv')\n",
    "flood_df = pd.read_csv('../data/rawdata/flooding_insurance_by_zip.csv')"
   ]
  },
  {
   "cell_type": "code",
   "execution_count": 3,
   "metadata": {},
   "outputs": [
    {
     "data": {
      "text/html": [
       "<div>\n",
       "<style scoped>\n",
       "    .dataframe tbody tr th:only-of-type {\n",
       "        vertical-align: middle;\n",
       "    }\n",
       "\n",
       "    .dataframe tbody tr th {\n",
       "        vertical-align: top;\n",
       "    }\n",
       "\n",
       "    .dataframe thead th {\n",
       "        text-align: right;\n",
       "    }\n",
       "</style>\n",
       "<table border=\"1\" class=\"dataframe\">\n",
       "  <thead>\n",
       "    <tr style=\"text-align: right;\">\n",
       "      <th></th>\n",
       "      <th>zip</th>\n",
       "      <th>lat</th>\n",
       "      <th>lng</th>\n",
       "      <th>house area</th>\n",
       "      <th>lot area</th>\n",
       "      <th>high</th>\n",
       "      <th>low</th>\n",
       "      <th>estimate</th>\n",
       "      <th>month value change</th>\n",
       "      <th>property tax</th>\n",
       "    </tr>\n",
       "  </thead>\n",
       "  <tbody>\n",
       "    <tr>\n",
       "      <th>0</th>\n",
       "      <td>77024</td>\n",
       "      <td>29.765914</td>\n",
       "      <td>-95.527347</td>\n",
       "      <td>4146.409639</td>\n",
       "      <td>27985.343816</td>\n",
       "      <td>1421993.648</td>\n",
       "      <td>1210999.696</td>\n",
       "      <td>1311313.400</td>\n",
       "      <td>-688.116000</td>\n",
       "      <td>1.385594e+06</td>\n",
       "    </tr>\n",
       "    <tr>\n",
       "      <th>1</th>\n",
       "      <td>77019</td>\n",
       "      <td>29.751454</td>\n",
       "      <td>-95.405515</td>\n",
       "      <td>3447.739479</td>\n",
       "      <td>9127.534274</td>\n",
       "      <td>1516825.420</td>\n",
       "      <td>1234718.354</td>\n",
       "      <td>1337546.668</td>\n",
       "      <td>-558.725451</td>\n",
       "      <td>1.368548e+06</td>\n",
       "    </tr>\n",
       "    <tr>\n",
       "      <th>2</th>\n",
       "      <td>77005</td>\n",
       "      <td>29.717924</td>\n",
       "      <td>-95.428469</td>\n",
       "      <td>3363.540000</td>\n",
       "      <td>7277.734406</td>\n",
       "      <td>1282708.420</td>\n",
       "      <td>1099375.018</td>\n",
       "      <td>1185270.596</td>\n",
       "      <td>10074.394790</td>\n",
       "      <td>1.194511e+06</td>\n",
       "    </tr>\n",
       "    <tr>\n",
       "      <th>3</th>\n",
       "      <td>77056</td>\n",
       "      <td>29.748206</td>\n",
       "      <td>-95.470357</td>\n",
       "      <td>3952.074148</td>\n",
       "      <td>10797.330526</td>\n",
       "      <td>1251102.552</td>\n",
       "      <td>1054554.496</td>\n",
       "      <td>1144477.220</td>\n",
       "      <td>2122.122000</td>\n",
       "      <td>1.158416e+06</td>\n",
       "    </tr>\n",
       "    <tr>\n",
       "      <th>4</th>\n",
       "      <td>77027</td>\n",
       "      <td>29.739627</td>\n",
       "      <td>-95.446080</td>\n",
       "      <td>3279.528112</td>\n",
       "      <td>8373.418410</td>\n",
       "      <td>1174902.294</td>\n",
       "      <td>991698.634</td>\n",
       "      <td>1077188.354</td>\n",
       "      <td>1735.967936</td>\n",
       "      <td>1.078855e+06</td>\n",
       "    </tr>\n",
       "  </tbody>\n",
       "</table>\n",
       "</div>"
      ],
      "text/plain": [
       "     zip        lat        lng   house area      lot area         high  \\\n",
       "0  77024  29.765914 -95.527347  4146.409639  27985.343816  1421993.648   \n",
       "1  77019  29.751454 -95.405515  3447.739479   9127.534274  1516825.420   \n",
       "2  77005  29.717924 -95.428469  3363.540000   7277.734406  1282708.420   \n",
       "3  77056  29.748206 -95.470357  3952.074148  10797.330526  1251102.552   \n",
       "4  77027  29.739627 -95.446080  3279.528112   8373.418410  1174902.294   \n",
       "\n",
       "           low     estimate  month value change  property tax  \n",
       "0  1210999.696  1311313.400         -688.116000  1.385594e+06  \n",
       "1  1234718.354  1337546.668         -558.725451  1.368548e+06  \n",
       "2  1099375.018  1185270.596        10074.394790  1.194511e+06  \n",
       "3  1054554.496  1144477.220         2122.122000  1.158416e+06  \n",
       "4   991698.634  1077188.354         1735.967936  1.078855e+06  "
      ]
     },
     "execution_count": 3,
     "metadata": {},
     "output_type": "execute_result"
    }
   ],
   "source": [
    "df = df.groupby('zip').mean().sort_values(by='property tax', ascending=False).reset_index()\n",
    "df.head()"
   ]
  },
  {
   "cell_type": "code",
   "execution_count": 4,
   "metadata": {},
   "outputs": [
    {
     "data": {
      "text/html": [
       "<div>\n",
       "<style scoped>\n",
       "    .dataframe tbody tr th:only-of-type {\n",
       "        vertical-align: middle;\n",
       "    }\n",
       "\n",
       "    .dataframe tbody tr th {\n",
       "        vertical-align: top;\n",
       "    }\n",
       "\n",
       "    .dataframe thead th {\n",
       "        text-align: right;\n",
       "    }\n",
       "</style>\n",
       "<table border=\"1\" class=\"dataframe\">\n",
       "  <thead>\n",
       "    <tr style=\"text-align: right;\">\n",
       "      <th></th>\n",
       "      <th>lat</th>\n",
       "      <th>lng</th>\n",
       "      <th># Restaurants</th>\n",
       "      <th>zipcode</th>\n",
       "    </tr>\n",
       "  </thead>\n",
       "  <tbody>\n",
       "    <tr>\n",
       "      <th>134</th>\n",
       "      <td>29.539422</td>\n",
       "      <td>-95.134995</td>\n",
       "      <td>53</td>\n",
       "      <td>77598</td>\n",
       "    </tr>\n",
       "  </tbody>\n",
       "</table>\n",
       "</div>"
      ],
      "text/plain": [
       "           lat        lng  # Restaurants  zipcode\n",
       "134  29.539422 -95.134995             53    77598"
      ]
     },
     "execution_count": 4,
     "metadata": {},
     "output_type": "execute_result"
    }
   ],
   "source": [
    "restaraunt_df.loc[restaraunt_df['zipcode'] == df.iloc[66, 0]]#.iloc[0, 2]\n",
    "# len(restaraunt_df)"
   ]
  },
  {
   "cell_type": "code",
   "execution_count": 4,
   "metadata": {},
   "outputs": [
    {
     "data": {
      "text/html": [
       "<div>\n",
       "<style scoped>\n",
       "    .dataframe tbody tr th:only-of-type {\n",
       "        vertical-align: middle;\n",
       "    }\n",
       "\n",
       "    .dataframe tbody tr th {\n",
       "        vertical-align: top;\n",
       "    }\n",
       "\n",
       "    .dataframe thead th {\n",
       "        text-align: right;\n",
       "    }\n",
       "</style>\n",
       "<table border=\"1\" class=\"dataframe\">\n",
       "  <thead>\n",
       "    <tr style=\"text-align: right;\">\n",
       "      <th></th>\n",
       "      <th>zip</th>\n",
       "      <th>num_rest</th>\n",
       "      <th>estimate</th>\n",
       "    </tr>\n",
       "  </thead>\n",
       "  <tbody>\n",
       "    <tr>\n",
       "      <th>0</th>\n",
       "      <td>77024</td>\n",
       "      <td>0</td>\n",
       "      <td>1.31131e+06</td>\n",
       "    </tr>\n",
       "    <tr>\n",
       "      <th>1</th>\n",
       "      <td>77019</td>\n",
       "      <td>25</td>\n",
       "      <td>1.33755e+06</td>\n",
       "    </tr>\n",
       "    <tr>\n",
       "      <th>2</th>\n",
       "      <td>77005</td>\n",
       "      <td>60</td>\n",
       "      <td>1.18527e+06</td>\n",
       "    </tr>\n",
       "    <tr>\n",
       "      <th>3</th>\n",
       "      <td>77056</td>\n",
       "      <td>58</td>\n",
       "      <td>1.14448e+06</td>\n",
       "    </tr>\n",
       "    <tr>\n",
       "      <th>4</th>\n",
       "      <td>77027</td>\n",
       "      <td>45</td>\n",
       "      <td>1.07719e+06</td>\n",
       "    </tr>\n",
       "  </tbody>\n",
       "</table>\n",
       "</div>"
      ],
      "text/plain": [
       "     zip num_rest     estimate\n",
       "0  77024        0  1.31131e+06\n",
       "1  77019       25  1.33755e+06\n",
       "2  77005       60  1.18527e+06\n",
       "3  77056       58  1.14448e+06\n",
       "4  77027       45  1.07719e+06"
      ]
     },
     "execution_count": 4,
     "metadata": {},
     "output_type": "execute_result"
    }
   ],
   "source": [
    "restaurant_v_estimate = pd.DataFrame(data= {'zip':'', 'num_rest':'', 'estimate':''}, index = [i for i in range(len(df))])\n",
    "\n",
    "for i in range(len(restaurant_v_estimate)):\n",
    "    restaurant_v_estimate.iat[i, 0] = df.iloc[i, 0]\n",
    "    try:\n",
    "#         print(i)\n",
    "        restaurant_v_estimate.iat[i, 1] = restaraunt_df.loc[restaraunt_df['zipcode'] == df.iloc[i, 0]].iloc[0, 2]\n",
    "    except IndexError:\n",
    "        print(i)\n",
    "    restaurant_v_estimate.iat[i, 2] = df.iloc[i, 7]\n",
    "restaurant_v_estimate.head()\n",
    "# restaurant_v_estimate.drop(66)\n"
   ]
  },
  {
   "cell_type": "code",
   "execution_count": 10,
   "metadata": {},
   "outputs": [
    {
     "data": {
      "text/html": [
       "<div>\n",
       "<style scoped>\n",
       "    .dataframe tbody tr th:only-of-type {\n",
       "        vertical-align: middle;\n",
       "    }\n",
       "\n",
       "    .dataframe tbody tr th {\n",
       "        vertical-align: top;\n",
       "    }\n",
       "\n",
       "    .dataframe thead th {\n",
       "        text-align: right;\n",
       "    }\n",
       "</style>\n",
       "<table border=\"1\" class=\"dataframe\">\n",
       "  <thead>\n",
       "    <tr style=\"text-align: right;\">\n",
       "      <th></th>\n",
       "      <th>ZIP</th>\n",
       "      <th>LAT</th>\n",
       "      <th>LNG</th>\n",
       "      <th>Violet Crime Ct</th>\n",
       "      <th>Non-Violet Crime Ct</th>\n",
       "    </tr>\n",
       "  </thead>\n",
       "  <tbody>\n",
       "    <tr>\n",
       "      <th>0</th>\n",
       "      <td>77002</td>\n",
       "      <td>29.756845</td>\n",
       "      <td>-95.365652</td>\n",
       "      <td>45</td>\n",
       "      <td>210</td>\n",
       "    </tr>\n",
       "    <tr>\n",
       "      <th>1</th>\n",
       "      <td>77004</td>\n",
       "      <td>29.724893</td>\n",
       "      <td>-95.363752</td>\n",
       "      <td>32</td>\n",
       "      <td>65</td>\n",
       "    </tr>\n",
       "    <tr>\n",
       "      <th>2</th>\n",
       "      <td>77003</td>\n",
       "      <td>29.749778</td>\n",
       "      <td>-95.345885</td>\n",
       "      <td>12</td>\n",
       "      <td>75</td>\n",
       "    </tr>\n",
       "    <tr>\n",
       "      <th>3</th>\n",
       "      <td>77006</td>\n",
       "      <td>29.740970</td>\n",
       "      <td>-95.391301</td>\n",
       "      <td>19</td>\n",
       "      <td>183</td>\n",
       "    </tr>\n",
       "    <tr>\n",
       "      <th>4</th>\n",
       "      <td>77005</td>\n",
       "      <td>29.718435</td>\n",
       "      <td>-95.423555</td>\n",
       "      <td>3</td>\n",
       "      <td>58</td>\n",
       "    </tr>\n",
       "  </tbody>\n",
       "</table>\n",
       "</div>"
      ],
      "text/plain": [
       "     ZIP        LAT        LNG  Violet Crime Ct  Non-Violet Crime Ct\n",
       "0  77002  29.756845 -95.365652               45                  210\n",
       "1  77004  29.724893 -95.363752               32                   65\n",
       "2  77003  29.749778 -95.345885               12                   75\n",
       "3  77006  29.740970 -95.391301               19                  183\n",
       "4  77005  29.718435 -95.423555                3                   58"
      ]
     },
     "execution_count": 10,
     "metadata": {},
     "output_type": "execute_result"
    }
   ],
   "source": [
    "crime_df.head()"
   ]
  },
  {
   "cell_type": "code",
   "execution_count": 15,
   "metadata": {},
   "outputs": [
    {
     "data": {
      "text/html": [
       "<div>\n",
       "<style scoped>\n",
       "    .dataframe tbody tr th:only-of-type {\n",
       "        vertical-align: middle;\n",
       "    }\n",
       "\n",
       "    .dataframe tbody tr th {\n",
       "        vertical-align: top;\n",
       "    }\n",
       "\n",
       "    .dataframe thead th {\n",
       "        text-align: right;\n",
       "    }\n",
       "</style>\n",
       "<table border=\"1\" class=\"dataframe\">\n",
       "  <thead>\n",
       "    <tr style=\"text-align: right;\">\n",
       "      <th></th>\n",
       "      <th>zip</th>\n",
       "      <th>num_rest</th>\n",
       "      <th>estimate</th>\n",
       "      <th>violent crime</th>\n",
       "      <th>non-violent crime</th>\n",
       "    </tr>\n",
       "  </thead>\n",
       "  <tbody>\n",
       "    <tr>\n",
       "      <th>33</th>\n",
       "      <td>77003</td>\n",
       "      <td>41</td>\n",
       "      <td>304619</td>\n",
       "      <td>12</td>\n",
       "      <td>42</td>\n",
       "    </tr>\n",
       "    <tr>\n",
       "      <th>31</th>\n",
       "      <td>77004</td>\n",
       "      <td>10</td>\n",
       "      <td>332700</td>\n",
       "      <td>0</td>\n",
       "      <td>1</td>\n",
       "    </tr>\n",
       "    <tr>\n",
       "      <th>2</th>\n",
       "      <td>77005</td>\n",
       "      <td>60</td>\n",
       "      <td>1.18527e+06</td>\n",
       "      <td>12</td>\n",
       "      <td>75</td>\n",
       "    </tr>\n",
       "    <tr>\n",
       "      <th>9</th>\n",
       "      <td>77006</td>\n",
       "      <td>60</td>\n",
       "      <td>642617</td>\n",
       "      <td>3</td>\n",
       "      <td>14</td>\n",
       "    </tr>\n",
       "    <tr>\n",
       "      <th>12</th>\n",
       "      <td>77007</td>\n",
       "      <td>60</td>\n",
       "      <td>528380</td>\n",
       "      <td>0</td>\n",
       "      <td>5</td>\n",
       "    </tr>\n",
       "  </tbody>\n",
       "</table>\n",
       "</div>"
      ],
      "text/plain": [
       "      zip num_rest     estimate  violent crime  non-violent crime\n",
       "33  77003       41       304619             12                 42\n",
       "31  77004       10       332700              0                  1\n",
       "2   77005       60  1.18527e+06             12                 75\n",
       "9   77006       60       642617              3                 14\n",
       "12  77007       60       528380              0                  5"
      ]
     },
     "execution_count": 15,
     "metadata": {},
     "output_type": "execute_result"
    }
   ],
   "source": [
    "restaurant_v_estimate['violent crime'] = 0\n",
    "restaurant_v_estimate['non-violent crime'] = 0\n",
    "restaurant_v_estimate = restaurant_v_estimate.sort_values(by = 'zip')\n",
    "crime_df = crime_df.sort_values(by = 'ZIP')\n",
    "restaurant_v_estimate['violent crime'] = crime_df['Violet Crime Ct']\n",
    "restaurant_v_estimate['non-violent crime'] = crime_df['Non-Violet Crime Ct']\n",
    "restaurant_v_estimate.head()"
   ]
  },
  {
   "cell_type": "code",
   "execution_count": null,
   "metadata": {},
   "outputs": [],
   "source": []
  },
  {
   "cell_type": "code",
   "execution_count": 25,
   "metadata": {},
   "outputs": [
    {
     "data": {
      "text/plain": [
       "<matplotlib.collections.PathCollection at 0x166050af208>"
      ]
     },
     "execution_count": 25,
     "metadata": {},
     "output_type": "execute_result"
    },
    {
     "data": {
      "image/png": "[encoded data removed]",
      "text/plain": [
       "<Figure size 432x288 with 1 Axes>"
      ]
     },
     "metadata": {
      "needs_background": "light"
     },
     "output_type": "display_data"
    }
   ],
   "source": [
    "# df.index.tolist()\n",
    "plt.scatter(restaurant_v_estimate['estimate'], restaurant_v_estimate['violent crime'], color = 'red')\n",
    "plt.scatter(restaurant_v_estimate['estimate'], restaurant_v_estimate['non-violent crime'], color = 'blue')\n"
   ]
  },
  {
   "cell_type": "code",
   "execution_count": 29,
   "metadata": {},
   "outputs": [
    {
     "data": {
      "text/html": [
       "<div>\n",
       "<style scoped>\n",
       "    .dataframe tbody tr th:only-of-type {\n",
       "        vertical-align: middle;\n",
       "    }\n",
       "\n",
       "    .dataframe tbody tr th {\n",
       "        vertical-align: top;\n",
       "    }\n",
       "\n",
       "    .dataframe thead th {\n",
       "        text-align: right;\n",
       "    }\n",
       "</style>\n",
       "<table border=\"1\" class=\"dataframe\">\n",
       "  <thead>\n",
       "    <tr style=\"text-align: right;\">\n",
       "      <th></th>\n",
       "      <th>StateCode</th>\n",
       "      <th>CountyName</th>\n",
       "      <th>PostalCode</th>\n",
       "      <th>Locations</th>\n",
       "      <th>Building_TIV</th>\n",
       "      <th>Contents_TIV</th>\n",
       "      <th>Building_Limit</th>\n",
       "      <th>Contents_Limit</th>\n",
       "    </tr>\n",
       "  </thead>\n",
       "  <tbody>\n",
       "    <tr>\n",
       "      <th>0</th>\n",
       "      <td>TX</td>\n",
       "      <td>Harris</td>\n",
       "      <td>77002</td>\n",
       "      <td>157</td>\n",
       "      <td>1.146599e+09</td>\n",
       "      <td>1.390003e+08</td>\n",
       "      <td>122273700</td>\n",
       "      <td>29113200</td>\n",
       "    </tr>\n",
       "    <tr>\n",
       "      <th>1</th>\n",
       "      <td>TX</td>\n",
       "      <td>Harris</td>\n",
       "      <td>77003</td>\n",
       "      <td>287</td>\n",
       "      <td>2.175743e+08</td>\n",
       "      <td>2.843671e+07</td>\n",
       "      <td>63492400</td>\n",
       "      <td>30093900</td>\n",
       "    </tr>\n",
       "    <tr>\n",
       "      <th>2</th>\n",
       "      <td>TX</td>\n",
       "      <td>Harris</td>\n",
       "      <td>77004</td>\n",
       "      <td>1052</td>\n",
       "      <td>8.208479e+08</td>\n",
       "      <td>7.126165e+07</td>\n",
       "      <td>335596500</td>\n",
       "      <td>92368400</td>\n",
       "    </tr>\n",
       "    <tr>\n",
       "      <th>3</th>\n",
       "      <td>TX</td>\n",
       "      <td>Harris</td>\n",
       "      <td>77005</td>\n",
       "      <td>4043</td>\n",
       "      <td>4.296319e+09</td>\n",
       "      <td>4.542693e+08</td>\n",
       "      <td>988278400</td>\n",
       "      <td>380594300</td>\n",
       "    </tr>\n",
       "    <tr>\n",
       "      <th>4</th>\n",
       "      <td>TX</td>\n",
       "      <td>Harris</td>\n",
       "      <td>77006</td>\n",
       "      <td>1318</td>\n",
       "      <td>7.685005e+08</td>\n",
       "      <td>8.814417e+07</td>\n",
       "      <td>314864400</td>\n",
       "      <td>127083900</td>\n",
       "    </tr>\n",
       "  </tbody>\n",
       "</table>\n",
       "</div>"
      ],
      "text/plain": [
       "  StateCode CountyName  PostalCode  Locations  Building_TIV  Contents_TIV  \\\n",
       "0        TX     Harris       77002        157  1.146599e+09  1.390003e+08   \n",
       "1        TX     Harris       77003        287  2.175743e+08  2.843671e+07   \n",
       "2        TX     Harris       77004       1052  8.208479e+08  7.126165e+07   \n",
       "3        TX     Harris       77005       4043  4.296319e+09  4.542693e+08   \n",
       "4        TX     Harris       77006       1318  7.685005e+08  8.814417e+07   \n",
       "\n",
       "   Building_Limit  Contents_Limit  \n",
       "0       122273700        29113200  \n",
       "1        63492400        30093900  \n",
       "2       335596500        92368400  \n",
       "3       988278400       380594300  \n",
       "4       314864400       127083900  "
      ]
     },
     "execution_count": 29,
     "metadata": {},
     "output_type": "execute_result"
    }
   ],
   "source": [
    "flood_df = flood_df.sort_values(by = 'PostalCode')\n",
    "flood_df.head()"
   ]
  },
  {
   "cell_type": "code",
   "execution_count": 47,
   "metadata": {},
   "outputs": [],
   "source": [
    "restaurant_v_estimate['num_insured'] = flood_df['Locations']\n",
    "restaurant_v_estimate['building_tiv'] = flood_df['Building_TIV']\n",
    "restaurant_v_estimate['contents_tiv'] = flood_df['Contents_TIV']\n",
    "x_axis = [i for i in range(len(restaurant_v_estimate['zip']))]"
   ]
  },
  {
   "cell_type": "code",
   "execution_count": 48,
   "metadata": {},
   "outputs": [
    {
     "data": {
      "text/plain": [
       "<matplotlib.collections.PathCollection at 0x16605f5ef98>"
      ]
     },
     "execution_count": 48,
     "metadata": {},
     "output_type": "execute_result"
    },
    {
     "data": {
      "image/png": "[encoded data removed]",
      "text/plain": [
       "<Figure size 432x288 with 1 Axes>"
      ]
     },
     "metadata": {
      "needs_background": "light"
     },
     "output_type": "display_data"
    }
   ],
   "source": [
    "plt.scatter(x_axis, restaurant_v_estimate['num_insured'])"
   ]
  },
  {
   "cell_type": "code",
   "execution_count": 50,
   "metadata": {},
   "outputs": [
    {
     "data": {
      "text/plain": [
       "<matplotlib.collections.PathCollection at 0x1660635ee80>"
      ]
     },
     "execution_count": 50,
     "metadata": {},
     "output_type": "execute_result"
    },
    {
     "data": {
      "image/png": "[encoded data removed]",
      "text/plain": [
       "<Figure size 432x288 with 1 Axes>"
      ]
     },
     "metadata": {
      "needs_background": "light"
     },
     "output_type": "display_data"
    }
   ],
   "source": [
    "plt.scatter(restaurant_v_estimate['contents_tiv'], restaurant_v_estimate['num_insured'])"
   ]
  },
  {
   "cell_type": "code",
   "execution_count": 53,
   "metadata": {},
   "outputs": [
    {
     "data": {
      "text/plain": [
       "<matplotlib.collections.PathCollection at 0x166063ce1d0>"
      ]
     },
     "execution_count": 53,
     "metadata": {},
     "output_type": "execute_result"
    },
    {
     "data": {
      "image/png": "[encoded data removed]",
      "text/plain": [
       "<Figure size 432x288 with 1 Axes>"
      ]
     },
     "metadata": {
      "needs_background": "light"
     },
     "output_type": "display_data"
    }
   ],
   "source": [
    "plt.scatter(restaurant_v_estimate['building_tiv'], restaurant_v_estimate['num_insured'])"
   ]
  },
  {
   "cell_type": "code",
   "execution_count": null,
   "metadata": {},
   "outputs": [],
   "source": []
  }
 ],
 "metadata": {
  "kernelspec": {
   "display_name": "Python 3",
   "language": "python",
   "name": "python3"
  },
  "language_info": {
   "codemirror_mode": {
    "name": "ipython",
    "version": 3
   },
   "file_extension": ".py",
   "mimetype": "text/x-python",
   "name": "python",
   "nbconvert_exporter": "python",
   "pygments_lexer": "ipython3",
   "version": "3.7.0"
  }
 },
 "nbformat": 4,
 "nbformat_minor": 2
}
