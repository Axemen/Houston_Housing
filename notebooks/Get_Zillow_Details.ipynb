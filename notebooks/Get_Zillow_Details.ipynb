{
 "cells": [
  {
   "cell_type": "code",
   "execution_count": 61,
   "metadata": {},
   "outputs": [],
   "source": [
    "import requests\n",
    "import json\n",
    "import pandas as pd\n",
    "import xmltodict\n",
    "import random\n",
    "from pprint import pprint\n",
    "from api_keys import api_key\n",
    "addresses = pd.read_csv(\"../data/rawdata/All_Addresses.csv\")\n",
    "a = pd.read_csv(\"../data/rawdata/Harris_County.csv\",header=None)\n",
    "zips =  list(a[0])"
   ]
  },
  {
   "cell_type": "code",
   "execution_count": 53,
   "metadata": {},
   "outputs": [],
   "source": [
    "base = \"https://www.zillow.com/webservice/GetDeepSearchResults.htm?\"\n",
    "zwsid = api_key\n",
    "address = \"Both address and Zip available on the random addresses csv\"\n",
    "citystatezip = \"zipcode ONLY\"\n",
    "query = f\"{base}zws-id={zwsid}&address={address}&citystatezip={citystatezip}\""
   ]
  },
  {
   "cell_type": "code",
   "execution_count": 156,
   "metadata": {},
   "outputs": [
    {
     "name": "stdout",
     "output_type": "stream",
     "text": [
      "146\n"
     ]
    }
   ],
   "source": [
    "print(len(zips))\n",
    "tries = 0"
   ]
  },
  {
   "cell_type": "code",
   "execution_count": 220,
   "metadata": {},
   "outputs": [],
   "source": [
    "#group_Adds = pd.DataFrame(columns=[\"zip\", \"address\", \"lat\", \"lng\",\"house area\",\"lot area\",\"high\",\"low\",\"estimate\",\"month value change\",\"property tax\"])\n",
    "group_Totals = pd.DataFrame(columns=[\"zip\", \"address\", \"lat\", \"lng\",\"house area\",\"lot area\",\"high\",\"low\",\"estimate\",\"month value change\",\"property tax\"])\n",
    "row = [0,1,2,3,4,5,6,7,8,9,10]\n",
    "gb = {\"good\":[],\"bad\":{}}\n",
    "manual = 28\n",
    "ID = \"X1-ZWz1gz687fgzyj_9r65p\"\n",
    "\n",
    "\n",
    "#manually do groups of five to catch when zillow goes bad\n",
    "for zippy in zips[(5*(manual-1)):]:#(5*(manual-1)):(5*manual),  zips,using zips[i] and len(total_Addresses) doesn't work cause there was another random error that caused a retry\n",
    "    #in the middle of assignment of values to the dataframe. While not affecting the actual list of values, total_Addresses\n",
    "    #now has a single repeat value for one of the functions. Total addresses will now be done with the count function\n",
    "    #of individual groupby after county_Zip_Adds has been made, though it is less efficient\n",
    "    \n",
    "    #Resets the zipcode dataframe\n",
    "    group_Totals = pd.DataFrame(columns=[\"zip\", \"address\", \"lat\", \"lng\",\"house area\",\"lot area\",\"high\",\"low\",\"estimate\",\"month value change\",\"property tax\"])\n",
    "    \n",
    "    #Gets All recorded addresses of a zipcode\n",
    "    df = addresses.loc[addresses[\"zip\"] == zippy]\n",
    "    #Finds only exact matches as \\\\bWord\\\\b finds only the word, and not anything that contains it, unless other chars are buffered by a space away from it\n",
    "    df = df.loc[(df[\"address\"].str.contains(\"\\\\bUNIT\\\\b|\\\\bAPT\\\\b|\\\\bSTE\\\\b|\\\\bBSMT\\\\b|\\\\bFL\\\\b|\\\\bHNGR\\\\b|\\\\bLOT\\\\b|\\\\bRM\\\\b|\\\\bSLIP\\\\b|\\\\bSTE\\\\b|\\\\bTRLR\\\\b\") == False)]\n",
    "    #Finds things that start with a number, as streets or whatever can't be searched in zillow\n",
    "    df = df.loc[df[\"address\"].str.startswith((\"0\",\"1\",\"2\",\"3\",\"4\",\"5\",\"6\",\"7\",\"8\",\"9\"))]\n",
    "    #This reset index is almost definitely superfluous. Too scared to touch it at the moment, don't wanna mess it up now it's finally working\n",
    "    df = df.reset_index(drop=True)\n",
    "    length = len(df.index)\n",
    "    \n",
    "    #Only runs if there are at least 500 possible results\n",
    "    if length >= 500:\n",
    "        #Shuffles Dataframe\n",
    "        rands = random.sample(range(0,length),length)\n",
    "        df = df.iloc[rands]\n",
    "        df = df.reset_index(drop=True)\n",
    "        \n",
    "        for i in range(0,length):#length\n",
    "            \n",
    "            #breaks when 500 records have been collected, incomplete or not. All have zestimate\n",
    "            if len(group_Totals.index) >= 500:\n",
    "                break\n",
    "            \n",
    "            address = df[\"address\"][i].split(',')[0]\n",
    "            row[1] = df[\"address\"][i]\n",
    "            citystatezip = str(zippy)\n",
    "            row[0] = citystatezip\n",
    "            row[2] = df[\"lat\"][i]\n",
    "            row[3] = df[\"lng\"][i]\n",
    "            query = f\"{base}zws-id={ID}&address={address}&citystatezip={citystatezip}\"\n",
    "            #print(requests.get(query))\n",
    "            info = requests.get(query)\n",
    "            dictInfo = xmltodict.parse(info.text)\n",
    "            jsonInfo = json.loads(json.dumps(dictInfo))\n",
    "            #print(jsonInfo[\"SearchResults:searchresults\"][\"message\"][\"code\"])\n",
    "            if jsonInfo[\"SearchResults:searchresults\"][\"message\"][\"code\"] == \"0\":\n",
    "                cliff = jsonInfo[\"SearchResults:searchresults\"][\"response\"][\"results\"][\"result\"]\n",
    "                try:\n",
    "                    row[4] = cliff[\"finishedSqFt\"]\n",
    "                except:\n",
    "                    row[4] = float(\"nan\")\n",
    "                try:\n",
    "                    row[5] = cliff[\"lotSizeSqFt\"]\n",
    "                except:\n",
    "                    row[5] = float(\"nan\")\n",
    "                try:\n",
    "                    row[6] = cliff[\"zestimate\"][\"valuationRange\"][\"high\"][\"#text\"]\n",
    "                    row[7] = cliff[\"zestimate\"][\"valuationRange\"][\"low\"][\"#text\"]\n",
    "                except:\n",
    "                    row[6] = float(\"nan\")\n",
    "                    row[7] = float(\"nan\")\n",
    "                try:\n",
    "                    row[8] = cliff[\"zestimate\"][\"amount\"][\"#text\"]\n",
    "                #except KeyError:\n",
    "                    #print(\"Key error\")\n",
    "                    #pprint(jsonInfo)\n",
    "                    #break\n",
    "                except:\n",
    "                    #print(\"No value listing\")\n",
    "                    continue\n",
    "                    #print(\"Not Key Error\")\n",
    "                    #pprint(jsonInfo)\n",
    "                    #break\n",
    "                try:\n",
    "                    row[9] = cliff[\"zestimate\"][\"valueChange\"][\"#text\"]\n",
    "                except:\n",
    "                    row[9] = float(\"nan\")\n",
    "                try:\n",
    "                    row[10] = cliff[\"taxAssessment\"]\n",
    "                except:\n",
    "                    row[10] = float(\"nan\")\n",
    "                #print(row)\n",
    "                group_Totals.loc[i] = row\n",
    "    tries += i\n",
    "    if len(group_Totals.index) >= 500:\n",
    "        gb[\"good\"].append(str(zippy))\n",
    "        group_Totals.to_csv(f\"../data/rawdata/Property_Values/{str(zippy)}.csv\",index=False,encoding = \"utf-8\")\n",
    "    else:\n",
    "        gb[\"bad\"][str(zippy)] = len(group_Totals.index)\n",
    "        group_Totals.to_csv(f\"../data/rawdata/Property_Values/failed_{str(zippy)}.csv\",index=False,encoding = \"utf-8\")\n",
    "\n",
    "#outputs which zipcodes were good and bad, and how many records are in each bad\n",
    "with open(f\"../data/rawdata/Property_Values/Manual_Tries/County_Zips_{manual}.json\",\"w\") as outs:\n",
    "        json.dump(gb,outs)\n",
    "#group_Totals        \n",
    "#group_Adds = group_Adds.reset_index(drop=True)"
   ]
  },
  {
   "cell_type": "code",
   "execution_count": 221,
   "metadata": {},
   "outputs": [
    {
     "name": "stdout",
     "output_type": "stream",
     "text": [
      "106526\n",
      "{'good': ['77520', '77530', '77532', '77536', '77546', '77547', '77562', '77571', '77586', '77587', '77598'], 'bad': {}}\n"
     ]
    }
   ],
   "source": [
    "print(tries)\n",
    "print(gb)\n",
    "#77204,217,249,251,266,268,271,284,289 are all too small and will fail. It's fine.\n",
    "#77507 should work"
   ]
  },
  {
   "cell_type": "code",
   "execution_count": 216,
   "metadata": {},
   "outputs": [
    {
     "data": {
      "text/html": [
       "<div>\n",
       "<style scoped>\n",
       "    .dataframe tbody tr th:only-of-type {\n",
       "        vertical-align: middle;\n",
       "    }\n",
       "\n",
       "    .dataframe tbody tr th {\n",
       "        vertical-align: top;\n",
       "    }\n",
       "\n",
       "    .dataframe thead th {\n",
       "        text-align: right;\n",
       "    }\n",
       "</style>\n",
       "<table border=\"1\" class=\"dataframe\">\n",
       "  <thead>\n",
       "    <tr style=\"text-align: right;\">\n",
       "      <th></th>\n",
       "      <th>zip</th>\n",
       "      <th>address</th>\n",
       "      <th>lat</th>\n",
       "      <th>lng</th>\n",
       "    </tr>\n",
       "  </thead>\n",
       "  <tbody>\n",
       "    <tr>\n",
       "      <th>895569</th>\n",
       "      <td>77507</td>\n",
       "      <td>12435 RED BLUFF RD, PASADENA, TX 77507</td>\n",
       "      <td>29.591431</td>\n",
       "      <td>-95.053132</td>\n",
       "    </tr>\n",
       "    <tr>\n",
       "      <th>895570</th>\n",
       "      <td>77507</td>\n",
       "      <td>9311 BAY AREA BLVD, PASADENA, TX 77507</td>\n",
       "      <td>29.602694</td>\n",
       "      <td>-95.069038</td>\n",
       "    </tr>\n",
       "    <tr>\n",
       "      <th>895571</th>\n",
       "      <td>77507</td>\n",
       "      <td>9501 BAY AREA BLVD, PASADENA, TX 77507</td>\n",
       "      <td>29.604062</td>\n",
       "      <td>-95.065751</td>\n",
       "    </tr>\n",
       "    <tr>\n",
       "      <th>895572</th>\n",
       "      <td>77507</td>\n",
       "      <td>9810 BAY AREA BLVD, PASADENA, TX 77507</td>\n",
       "      <td>29.606006</td>\n",
       "      <td>-95.059925</td>\n",
       "    </tr>\n",
       "    <tr>\n",
       "      <th>895573</th>\n",
       "      <td>77507</td>\n",
       "      <td>9801 BAY AREA BLVD, PASADENA, TX 77507</td>\n",
       "      <td>29.606336</td>\n",
       "      <td>-95.060312</td>\n",
       "    </tr>\n",
       "  </tbody>\n",
       "</table>\n",
       "</div>"
      ],
      "text/plain": [
       "          zip                                 address        lat        lng\n",
       "895569  77507  12435 RED BLUFF RD, PASADENA, TX 77507  29.591431 -95.053132\n",
       "895570  77507  9311 BAY AREA BLVD, PASADENA, TX 77507  29.602694 -95.069038\n",
       "895571  77507  9501 BAY AREA BLVD, PASADENA, TX 77507  29.604062 -95.065751\n",
       "895572  77507  9810 BAY AREA BLVD, PASADENA, TX 77507  29.606006 -95.059925\n",
       "895573  77507  9801 BAY AREA BLVD, PASADENA, TX 77507  29.606336 -95.060312"
      ]
     },
     "execution_count": 216,
     "metadata": {},
     "output_type": "execute_result"
    }
   ],
   "source": [
    "df = addresses.loc[addresses[\"zip\"] == 77507]\n",
    "df.head()"
   ]
  },
  {
   "cell_type": "code",
   "execution_count": 198,
   "metadata": {},
   "outputs": [
    {
     "name": "stdout",
     "output_type": "stream",
     "text": [
      "{'SearchResults:searchresults': {'@xmlns:SearchResults': 'http://www.zillow.com/static/xsd/SearchResults.xsd',\n",
      "                                 '@xmlns:xsi': 'http://www.w3.org/2001/XMLSchema-instance',\n",
      "                                 '@xsi:schemaLocation': 'http://www.zillow.com/static/xsd/SearchResults.xsd '\n",
      "                                                        'https://www.zillowstatic.com/vstatic/9fccb87/static/xsd/SearchResults.xsd',\n",
      "                                 'message': {'code': '0',\n",
      "                                             'text': 'Request successfully '\n",
      "                                                     'processed'},\n",
      "                                 'request': {'address': '12018 HUNTINGTON PARK '\n",
      "                                                        'DR',\n",
      "                                             'citystatezip': '77099'},\n",
      "                                 'response': {'results': {'result': {'FIPScounty': '48201',\n",
      "                                                                     'address': {'city': 'Houston',\n",
      "                                                                                 'latitude': '29.666453',\n",
      "                                                                                 'longitude': '-95.592612',\n",
      "                                                                                 'state': 'TX',\n",
      "                                                                                 'street': '12018 '\n",
      "                                                                                           'Huntington '\n",
      "                                                                                           'Park '\n",
      "                                                                                           'Dr',\n",
      "                                                                                 'zipcode': '77099'},\n",
      "                                                                     'bathrooms': '2.0',\n",
      "                                                                     'bedrooms': '3',\n",
      "                                                                     'finishedSqFt': '1328',\n",
      "                                                                     'links': {'comparables': 'http://www.zillow.com/homes/comps/28391232_zpid/',\n",
      "                                                                               'graphsanddata': 'http://www.zillow.com/homedetails/12018-Huntington-Park-Dr-Houston-TX-77099/28391232_zpid/#charts-and-data',\n",
      "                                                                               'homedetails': 'https://www.zillow.com/homedetails/12018-Huntington-Park-Dr-Houston-TX-77099/28391232_zpid/',\n",
      "                                                                               'mapthishome': 'http://www.zillow.com/homes/28391232_zpid/'},\n",
      "                                                                     'localRealEstate': {'region': {'@id': '28380',\n",
      "                                                                                                    '@name': 'Alief',\n",
      "                                                                                                    '@type': 'neighborhood',\n",
      "                                                                                                    'links': {'forSale': 'http://www.zillow.com/alief-houston-tx/',\n",
      "                                                                                                              'forSaleByOwner': 'http://www.zillow.com/alief-houston-tx/fsbo/',\n",
      "                                                                                                              'overview': 'http://www.zillow.com/local-info/TX-Houston/Alief/r_28380/'}}},\n",
      "                                                                     'lotSizeSqFt': '6460',\n",
      "                                                                     'taxAssessment': '117571.0',\n",
      "                                                                     'taxAssessmentYear': '2018',\n",
      "                                                                     'totalRooms': '6',\n",
      "                                                                     'useCode': 'SingleFamily',\n",
      "                                                                     'yearBuilt': '1981',\n",
      "                                                                     'zestimate': {'amount': {'#text': '132010',\n",
      "                                                                                              '@currency': 'USD'},\n",
      "                                                                                   'last-updated': '03/26/2019',\n",
      "                                                                                   'oneWeekChange': {'@deprecated': 'true'},\n",
      "                                                                                   'percentile': '0',\n",
      "                                                                                   'valuationRange': {'high': {'#text': '138610',\n",
      "                                                                                                               '@currency': 'USD'},\n",
      "                                                                                                      'low': {'#text': '121449',\n",
      "                                                                                                              '@currency': 'USD'}},\n",
      "                                                                                   'valueChange': {'#text': '-948',\n",
      "                                                                                                   '@currency': 'USD',\n",
      "                                                                                                   '@duration': '30'}},\n",
      "                                                                     'zpid': '28391232'}}}}}\n"
     ]
    }
   ],
   "source": [
    "#print(addresses.head())\n",
    "pprint(jsonInfo)"
   ]
  },
  {
   "cell_type": "code",
   "execution_count": 51,
   "metadata": {},
   "outputs": [
    {
     "name": "stdout",
     "output_type": "stream",
     "text": [
      "{'SearchResults:searchresults': {'@xmlns:SearchResults': 'http://www.zillow.com/static/xsd/SearchResults.xsd',\n",
      "                                 '@xmlns:xsi': 'http://www.w3.org/2001/XMLSchema-instance',\n",
      "                                 '@xsi:schemaLocation': 'http://www.zillow.com/static/xsd/SearchResults.xsd '\n",
      "                                                        'https://www.zillowstatic.com/vstatic/9fccb87/static/xsd/SearchResults.xsd',\n",
      "                                 'message': {'code': '0',\n",
      "                                             'text': 'Request successfully '\n",
      "                                                     'processed'},\n",
      "                                 'request': {'address': '4838 ROCKWOOD DR',\n",
      "                                             'citystatezip': '77004'},\n",
      "                                 'response': {'results': {'result': {'FIPScounty': '48201',\n",
      "                                                                     'address': {'city': 'Houston',\n",
      "                                                                                 'latitude': '29.712986',\n",
      "                                                                                 'longitude': '-95.347949',\n",
      "                                                                                 'state': 'TX',\n",
      "                                                                                 'street': '4838 '\n",
      "                                                                                           'Rockwood '\n",
      "                                                                                           'Dr',\n",
      "                                                                                 'zipcode': '77004'},\n",
      "                                                                     'bathrooms': '2.0',\n",
      "                                                                     'bedrooms': '3',\n",
      "                                                                     'finishedSqFt': '1727',\n",
      "                                                                     'links': {'comparables': 'http://www.zillow.com/homes/comps/27885658_zpid/',\n",
      "                                                                               'graphsanddata': 'http://www.zillow.com/homedetails/4838-Rockwood-Dr-Houston-TX-77004/27885658_zpid/#charts-and-data',\n",
      "                                                                               'homedetails': 'https://www.zillow.com/homedetails/4838-Rockwood-Dr-Houston-TX-77004/27885658_zpid/',\n",
      "                                                                               'mapthishome': 'http://www.zillow.com/homes/27885658_zpid/'},\n",
      "                                                                     'localRealEstate': {'region': {'@id': '271458',\n",
      "                                                                                                    '@name': 'Macgregor',\n",
      "                                                                                                    '@type': 'neighborhood',\n",
      "                                                                                                    'links': {'forSale': 'http://www.zillow.com/macgregor-houston-tx/',\n",
      "                                                                                                              'forSaleByOwner': 'http://www.zillow.com/macgregor-houston-tx/fsbo/',\n",
      "                                                                                                              'overview': 'http://www.zillow.com/local-info/TX-Houston/Macgregor/r_271458/'}}},\n",
      "                                                                     'lotSizeSqFt': '7910',\n",
      "                                                                     'taxAssessment': '226643.0',\n",
      "                                                                     'taxAssessmentYear': '2018',\n",
      "                                                                     'totalRooms': '7',\n",
      "                                                                     'useCode': 'SingleFamily',\n",
      "                                                                     'yearBuilt': '1955',\n",
      "                                                                     'zestimate': {'amount': {'#text': '288906',\n",
      "                                                                                              '@currency': 'USD'},\n",
      "                                                                                   'last-updated': '03/26/2019',\n",
      "                                                                                   'oneWeekChange': {'@deprecated': 'true'},\n",
      "                                                                                   'percentile': '0',\n",
      "                                                                                   'valuationRange': {'high': {'#text': '320686',\n",
      "                                                                                                               '@currency': 'USD'},\n",
      "                                                                                                      'low': {'#text': '257126',\n",
      "                                                                                                              '@currency': 'USD'}},\n",
      "                                                                                   'valueChange': {'#text': '-13329',\n",
      "                                                                                                   '@currency': 'USD',\n",
      "                                                                                                   '@duration': '30'}},\n",
      "                                                                     'zpid': '27885658'}}}}}\n"
     ]
    }
   ],
   "source": [
    "pprint(json.loads(json.dumps(dictInfo)))"
   ]
  },
  {
   "cell_type": "code",
   "execution_count": 91,
   "metadata": {},
   "outputs": [
    {
     "name": "stdout",
     "output_type": "stream",
     "text": [
      "{'SearchResults:searchresults': {'@xmlns:SearchResults': 'http://www.zillow.com/static/xsd/SearchResults.xsd',\n",
      "                                 '@xmlns:xsi': 'http://www.w3.org/2001/XMLSchema-instance',\n",
      "                                 '@xsi:schemaLocation': 'http://www.zillow.com/static/xsd/SearchResults.xsd '\n",
      "                                                        'https://www.zillowstatic.com/vstatic/9fccb87/static/xsd/SearchResults.xsd',\n",
      "                                 'message': {'code': '0',\n",
      "                                             'text': 'Request successfully '\n",
      "                                                     'processed'},\n",
      "                                 'request': {'address': '201 CAROLINE ST',\n",
      "                                             'citystatezip': '77002'},\n",
      "                                 'response': {'results': {'result': {'FIPScounty': None,\n",
      "                                                                     'address': {'city': 'Houston',\n",
      "                                                                                 'latitude': '29.749527',\n",
      "                                                                                 'longitude': '-95.36635',\n",
      "                                                                                 'state': 'TX',\n",
      "                                                                                 'street': '1711 '\n",
      "                                                                                           'Caroline '\n",
      "                                                                                           'St '\n",
      "                                                                                           'APT '\n",
      "                                                                                           '201',\n",
      "                                                                                 'zipcode': '77002'},\n",
      "                                                                     'bathrooms': '2.0',\n",
      "                                                                     'bedrooms': '2',\n",
      "                                                                     'finishedSqFt': '1249',\n",
      "                                                                     'links': {'comparables': 'http://www.zillow.com/homes/comps/2090343599_zpid/',\n",
      "                                                                               'homedetails': 'https://www.zillow.com/homedetails/1711-Caroline-St-APT-201-Houston-TX-77002/2090343599_zpid/',\n",
      "                                                                               'mapthishome': 'http://www.zillow.com/homes/2090343599_zpid/'},\n",
      "                                                                     'localRealEstate': {'region': {'@id': '271355',\n",
      "                                                                                                    '@name': 'Downtown',\n",
      "                                                                                                    '@type': 'neighborhood',\n",
      "                                                                                                    'links': {'forSale': 'http://www.zillow.com/downtown-houston-tx/',\n",
      "                                                                                                              'forSaleByOwner': 'http://www.zillow.com/downtown-houston-tx/fsbo/',\n",
      "                                                                                                              'overview': 'http://www.zillow.com/local-info/TX-Houston/Downtown/r_271355/'}}},\n",
      "                                                                     'useCode': 'Apartment',\n",
      "                                                                     'zestimate': {'amount': {'@currency': 'USD'},\n",
      "                                                                                   'last-updated': '01/01/1970',\n",
      "                                                                                   'oneWeekChange': {'@deprecated': 'true'},\n",
      "                                                                                   'percentile': '0',\n",
      "                                                                                   'valuationRange': {'high': {'@currency': 'USD'},\n",
      "                                                                                                      'low': {'@currency': 'USD'}},\n",
      "                                                                                   'valueChange': None},\n",
      "                                                                     'zpid': '2090343599'}}}}}\n"
     ]
    }
   ],
   "source": [
    "pprint(jsonInfo)"
   ]
  },
  {
   "cell_type": "code",
   "execution_count": 65,
   "metadata": {},
   "outputs": [
    {
     "data": {
      "text/html": [
       "<div>\n",
       "<style scoped>\n",
       "    .dataframe tbody tr th:only-of-type {\n",
       "        vertical-align: middle;\n",
       "    }\n",
       "\n",
       "    .dataframe tbody tr th {\n",
       "        vertical-align: top;\n",
       "    }\n",
       "\n",
       "    .dataframe thead th {\n",
       "        text-align: right;\n",
       "    }\n",
       "</style>\n",
       "<table border=\"1\" class=\"dataframe\">\n",
       "  <thead>\n",
       "    <tr style=\"text-align: right;\">\n",
       "      <th></th>\n",
       "      <th>Hey</th>\n",
       "    </tr>\n",
       "  </thead>\n",
       "  <tbody>\n",
       "  </tbody>\n",
       "</table>\n",
       "</div>"
      ],
      "text/plain": [
       "Empty DataFrame\n",
       "Columns: [Hey]\n",
       "Index: []"
      ]
     },
     "execution_count": 65,
     "metadata": {},
     "output_type": "execute_result"
    }
   ],
   "source": [
    "df = pd.DataFrame({\"Hey\":[0,1,2,3,4,5]})\n",
    "length = len(df.index)\n",
    "rands = random.sample(range(0,length),length)\n",
    "df.iloc[rands]\n",
    "df = pd.DataFrame(columns=[\"Hey\"])\n",
    "df"
   ]
  },
  {
   "cell_type": "code",
   "execution_count": 86,
   "metadata": {},
   "outputs": [
    {
     "data": {
      "text/plain": [
       "'392616'"
      ]
     },
     "execution_count": 86,
     "metadata": {},
     "output_type": "execute_result"
    }
   ],
   "source": [
    "cliff[\"zestimate\"][\"valuationRange\"][\"high\"][\"#text\"]"
   ]
  },
  {
   "cell_type": "code",
   "execution_count": 88,
   "metadata": {},
   "outputs": [
    {
     "data": {
      "text/plain": [
       "'392616'"
      ]
     },
     "execution_count": 88,
     "metadata": {},
     "output_type": "execute_result"
    }
   ],
   "source": [
    "row[6] = cliff[\"zestimate\"][\"valuationRange\"][\"high\"][\"#text\"]\n",
    "row[6]"
   ]
  },
  {
   "cell_type": "code",
   "execution_count": null,
   "metadata": {},
   "outputs": [],
   "source": []
  },
  {
   "cell_type": "code",
   "execution_count": null,
   "metadata": {},
   "outputs": [],
   "source": []
  }
 ],
 "metadata": {
  "kernelspec": {
   "display_name": "Python 3",
   "language": "python",
   "name": "python3"
  },
  "language_info": {
   "codemirror_mode": {
    "name": "ipython",
    "version": 3
   },
   "file_extension": ".py",
   "mimetype": "text/x-python",
   "name": "python",
   "nbconvert_exporter": "python",
   "pygments_lexer": "ipython3",
   "version": "3.7.0"
  }
 },
 "nbformat": 4,
 "nbformat_minor": 2
}
