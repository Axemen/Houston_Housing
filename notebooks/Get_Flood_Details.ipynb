{
 "cells": [
  {
   "cell_type": "code",
   "execution_count": 2,
   "metadata": {},
   "outputs": [],
   "source": [
    "import pandas as pd\n",
    "#names=[\"StateCode\",\"CountyName\",\"CountyName\",\"PostalCode\"]\n",
    "Insurance = pd.read_excel(io=\"../data/rawdata/02_NFIP_2018_By_Zip5_Exposure.xlsx\",sheet_name=\"Exposure_ByZip\",header=5)"
   ]
  },
  {
   "cell_type": "code",
   "execution_count": 3,
   "metadata": {},
   "outputs": [
    {
     "data": {
      "text/html": [
       "<div>\n",
       "<style scoped>\n",
       "    .dataframe tbody tr th:only-of-type {\n",
       "        vertical-align: middle;\n",
       "    }\n",
       "\n",
       "    .dataframe tbody tr th {\n",
       "        vertical-align: top;\n",
       "    }\n",
       "\n",
       "    .dataframe thead th {\n",
       "        text-align: right;\n",
       "    }\n",
       "</style>\n",
       "<table border=\"1\" class=\"dataframe\">\n",
       "  <thead>\n",
       "    <tr style=\"text-align: right;\">\n",
       "      <th></th>\n",
       "      <th>StateCode</th>\n",
       "      <th>CountyName</th>\n",
       "      <th>PostalCode</th>\n",
       "      <th>Locations</th>\n",
       "      <th>Building_TIV</th>\n",
       "      <th>Contents_TIV</th>\n",
       "      <th>Building_Limit</th>\n",
       "      <th>Contents_Limit</th>\n",
       "    </tr>\n",
       "  </thead>\n",
       "  <tbody>\n",
       "    <tr>\n",
       "      <th>0</th>\n",
       "      <td>AL</td>\n",
       "      <td>-</td>\n",
       "      <td>Remainder of AL</td>\n",
       "      <td>297</td>\n",
       "      <td>1.599458e+08</td>\n",
       "      <td>7.047791e+06</td>\n",
       "      <td>47031500</td>\n",
       "      <td>14144400</td>\n",
       "    </tr>\n",
       "    <tr>\n",
       "      <th>1</th>\n",
       "      <td>AL</td>\n",
       "      <td>Autauga</td>\n",
       "      <td>36003</td>\n",
       "      <td>55</td>\n",
       "      <td>8.571580e+06</td>\n",
       "      <td>5.212023e+05</td>\n",
       "      <td>7729400</td>\n",
       "      <td>1395400</td>\n",
       "    </tr>\n",
       "    <tr>\n",
       "      <th>2</th>\n",
       "      <td>AL</td>\n",
       "      <td>Autauga</td>\n",
       "      <td>36066</td>\n",
       "      <td>73</td>\n",
       "      <td>1.623495e+07</td>\n",
       "      <td>1.599000e+06</td>\n",
       "      <td>13303300</td>\n",
       "      <td>4624000</td>\n",
       "    </tr>\n",
       "    <tr>\n",
       "      <th>3</th>\n",
       "      <td>AL</td>\n",
       "      <td>Autauga</td>\n",
       "      <td>36067</td>\n",
       "      <td>166</td>\n",
       "      <td>3.723912e+07</td>\n",
       "      <td>3.558828e+06</td>\n",
       "      <td>28156500</td>\n",
       "      <td>8522700</td>\n",
       "    </tr>\n",
       "    <tr>\n",
       "      <th>4</th>\n",
       "      <td>AL</td>\n",
       "      <td>Baldwin</td>\n",
       "      <td>36507</td>\n",
       "      <td>46</td>\n",
       "      <td>9.819214e+06</td>\n",
       "      <td>1.005513e+06</td>\n",
       "      <td>9606000</td>\n",
       "      <td>2987700</td>\n",
       "    </tr>\n",
       "  </tbody>\n",
       "</table>\n",
       "</div>"
      ],
      "text/plain": [
       "  StateCode CountyName       PostalCode  Locations  Building_TIV  \\\n",
       "0        AL          -  Remainder of AL        297  1.599458e+08   \n",
       "1        AL    Autauga            36003         55  8.571580e+06   \n",
       "2        AL    Autauga            36066         73  1.623495e+07   \n",
       "3        AL    Autauga            36067        166  3.723912e+07   \n",
       "4        AL    Baldwin            36507         46  9.819214e+06   \n",
       "\n",
       "   Contents_TIV  Building_Limit  Contents_Limit  \n",
       "0  7.047791e+06        47031500        14144400  \n",
       "1  5.212023e+05         7729400         1395400  \n",
       "2  1.599000e+06        13303300         4624000  \n",
       "3  3.558828e+06        28156500         8522700  \n",
       "4  1.005513e+06         9606000         2987700  "
      ]
     },
     "execution_count": 3,
     "metadata": {},
     "output_type": "execute_result"
    }
   ],
   "source": [
    "Insurance = Insurance.drop(labels=[\"StateCountyFIPS\",\"StateFIPS\",\"CountyFIPS\"],axis=1)\n",
    "Insurance.head()"
   ]
  },
  {
   "cell_type": "code",
   "execution_count": 4,
   "metadata": {},
   "outputs": [],
   "source": [
    "Insurance = Insurance.loc[Insurance[\"StateCode\"]==\"TX\"]\n",
    "#Insurance.head()"
   ]
  },
  {
   "cell_type": "code",
   "execution_count": 5,
   "metadata": {},
   "outputs": [],
   "source": [
    "#countList = [\"Brazoria\",\"Chambers\",\"Fort_Bend\",\"Galveston\",\"Harris\",\"Liberty\",\"Montgomery\",\"Waller\"]\n",
    "InsuranceZips = Insurance.loc[Insurance[\"CountyName\"]==\"Harris\"]\n",
    "#for county in countList:\n",
    "#    into = Insurance.loc[Insurance[\"CountyName\"]==county]\n",
    "#    if len(into.index) == 0:\n",
    "#        print(f\"Did not find {county} listed as having flood insurance in the database.\")\n",
    "#    InsuranceZips = InsuranceZips.append(into,ignore_index = True)"
   ]
  },
  {
   "cell_type": "code",
   "execution_count": 6,
   "metadata": {},
   "outputs": [],
   "source": [
    "InsuranceZips.to_csv(\"../data/rawdata/flooding_insurance_by_zip.csv\",index=False)"
   ]
  },
  {
   "cell_type": "code",
   "execution_count": null,
   "metadata": {},
   "outputs": [],
   "source": []
  }
 ],
 "metadata": {
  "kernelspec": {
   "display_name": "Python 3",
   "language": "python",
   "name": "python3"
  },
  "language_info": {
   "codemirror_mode": {
    "name": "ipython",
    "version": 3
   },
   "file_extension": ".py",
   "mimetype": "text/x-python",
   "name": "python",
   "nbconvert_exporter": "python",
   "pygments_lexer": "ipython3",
   "version": "3.7.1"
  }
 },
 "nbformat": 4,
 "nbformat_minor": 2
}
